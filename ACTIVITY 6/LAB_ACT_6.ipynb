{
  "nbformat": 4,
  "nbformat_minor": 0,
  "metadata": {
    "colab": {
      "provenance": [],
      "authorship_tag": "ABX9TyPx1AgWr/hFyXBBr7HYEmKu",
      "include_colab_link": true
    },
    "kernelspec": {
      "name": "python3",
      "display_name": "Python 3"
    },
    "language_info": {
      "name": "python"
    }
  },
  "cells": [
    {
      "cell_type": "markdown",
      "metadata": {
        "id": "view-in-github",
        "colab_type": "text"
      },
      "source": [
        "<a href=\"https://colab.research.google.com/github/Jhustine-Bron/CPE-103-OOP-1-A/blob/main/LAB_ACT_6.ipynb\" target=\"_parent\"><img src=\"https://colab.research.google.com/assets/colab-badge.svg\" alt=\"Open In Colab\"/></a>"
      ]
    },
    {
      "cell_type": "markdown",
      "source": [
        "Character.py\n"
      ],
      "metadata": {
        "id": "nWpCs48xy7BY"
      }
    },
    {
      "cell_type": "code",
      "source": [
        "class Character():\n",
        "  def __init__(self, username):\n",
        "    self.__username = username\n",
        "    self.__hp = 100\n",
        "    self.__mana = 100\n",
        "    self.__damage = 5\n",
        "    self.__str = 0 # strength stat\n",
        "    self.__vit = 0#vitality stat\n",
        "    self.__int = 0# intelligence stat\n",
        "    self.__agi = 0#agility stat\n",
        "  def getUsername(self):\n",
        "    return self.__username\n",
        "  def setUsername(self, new_username):\n",
        "    self.__username = new_username\n",
        "  def getHp(self):\n",
        "    return self.__hp\n",
        "  def setHp(self, new_hp):\n",
        "    self.__hp = new_hp\n",
        "  def getDamage(self):\n",
        "    return self.__damage\n",
        "  def setDamage(self, new_damage):\n",
        "    self.__damage = new_damage\n",
        "  def getStr(self):\n",
        "    return self.__str\n",
        "  def setStr(self, new_str):\n",
        "    self.__str = new_str\n",
        "  def getVit(self):\n",
        "    return self.__vit\n",
        "  def setVit(self, new_vit):\n",
        "    self.__vit = new_vit\n",
        "  def getInt(self):\n",
        "    return self.__int\n",
        "  def setInt(self, new_int):\n",
        "    self.__int = new_int\n",
        "  def getAgi(self):\n",
        "    return self.__agi\n",
        "  def setAgi(self, new_agi):\n",
        "    self.__agi = new_agi\n",
        "  def reduceHp (self, damage_amount):\n",
        "    self.__hp = self.__hp - damage_amount\n",
        "  def addHp(self, heal_amount):\n",
        "    self.__hp = self.__hp + heal_amount\n",
        "\n",
        "character1 = Character(\"Bronito\")\n",
        "\n",
        "print(character1.getUsername())"
      ],
      "metadata": {
        "colab": {
          "base_uri": "https://localhost:8080/"
        },
        "id": "E6-yEFH2y-Ag",
        "outputId": "7a72d115-4e11-4259-868f-8d2d7bda9241"
      },
      "execution_count": 18,
      "outputs": [
        {
          "output_type": "stream",
          "name": "stdout",
          "text": [
            "Bronito\n"
          ]
        }
      ]
    },
    {
      "cell_type": "code",
      "source": [
        "class Novice(Character):\n",
        "    def basicAttack(self, character):\n",
        "        character.reduceHp(self.getDamage())\n",
        "        print(f\"{self.getUsername()} performed Basic Attack! Damage: {self.getDamage()}\")\n",
        "\n",
        "\n",
        "character1 = Novice(\"Novice\")\n",
        "\n",
        "\n",
        "print(character1.getUsername())\n",
        "print(character1.getHp())\n"
      ],
      "metadata": {
        "colab": {
          "base_uri": "https://localhost:8080/"
        },
        "id": "xQRniesr0YgH",
        "outputId": "44f84663-b9ed-48d5-8e44-1118390bac4d"
      },
      "execution_count": 19,
      "outputs": [
        {
          "output_type": "stream",
          "name": "stdout",
          "text": [
            "Novice\n",
            "100\n"
          ]
        }
      ]
    },
    {
      "cell_type": "markdown",
      "source": [
        "Multi-Level Inheritance"
      ],
      "metadata": {
        "id": "UCxxSSrM1i4A"
      }
    },
    {
      "cell_type": "markdown",
      "source": [
        "Swordsman.py"
      ],
      "metadata": {
        "id": "5tSHoGvS2JsW"
      }
    },
    {
      "cell_type": "code",
      "source": [
        "class Swordsman (Novice):\n",
        "  def __init__(self, username):\n",
        "    super().__init__(username)\n",
        "    self.setStr(5)\n",
        "    self.setVit(10)\n",
        "    self.setHp(self.getHp()+self.getVit())\n",
        "\n",
        "\n",
        "  def slashAttack(self, character):\n",
        "    self.new_damage = self.getDamage()+self.getStr()\n",
        "    character.reduceHp(self.new_damage)\n",
        "    print(f\"{self.getUsername()} performed Slash Attack! -{self.new_damage}\")"
      ],
      "metadata": {
        "id": "CcMGpdUX1rG_"
      },
      "execution_count": 20,
      "outputs": []
    },
    {
      "cell_type": "markdown",
      "source": [
        "Archer.py"
      ],
      "metadata": {
        "id": "tFPmWPNg2LHF"
      }
    },
    {
      "cell_type": "code",
      "source": [
        "import random\n",
        "class Archer (Novice):\n",
        "  def __init__(self, username):\n",
        "    super().__init__(username)\n",
        "    self.setAgi(5)\n",
        "    self.setInt(5)\n",
        "    self.setVit(5)\n",
        "    self.setHp(self.getHp()+self.getVit())\n",
        "  def rangedAttack(self, character):\n",
        "    self.new_damage = self.getDamage()+random.randint(0,self.getInt())\n",
        "    character.reduceHp(self.new_damage)\n",
        "    print(f\"{self.getUsername()} performed Slash Attack! -{self.new_damage}\")"
      ],
      "metadata": {
        "id": "5cp5bPD32MHv"
      },
      "execution_count": 21,
      "outputs": []
    },
    {
      "cell_type": "markdown",
      "source": [
        "Magician.py"
      ],
      "metadata": {
        "id": "8TEJ5HxX2ldm"
      }
    },
    {
      "cell_type": "code",
      "source": [
        "class Magician (Novice):\n",
        "  def __init__(self, username):\n",
        "    super().__init__(username)\n",
        "    self.setInt(10)\n",
        "    self.setVit(5)\n",
        "    self.setHp(self.getHp()+self.getVit())\n",
        "  def heal(self):\n",
        "    self.addHp(self.getInt())\n",
        "    print(f\"{self.getUsername()} performed Heal! +{self.getInt()}\")\n",
        "  def magicAttack(self, character):\n",
        "    self.new_damage = self.getDamage()+self.getInt()\n",
        "    character.reduceHp(self.new_damage)\n",
        "    print(f\"{self.getUsername()} performed Magic Attack! -{self.new_damage}\")"
      ],
      "metadata": {
        "id": "7ZjM6wgB2m-9"
      },
      "execution_count": 22,
      "outputs": []
    },
    {
      "cell_type": "markdown",
      "source": [
        "Test.py"
      ],
      "metadata": {
        "id": "BitSYhD43Ay7"
      }
    },
    {
      "cell_type": "code",
      "source": [
        "Character1 = Swordsman (\"Royce\")\n",
        "Character2 = Magician (\"Archie\")\n",
        "print(f\"{Character1.getUsername()} HP: {Character1.getHp()}\")\n",
        "print(f\"{Character2.getUsername()} HP: {Character2.getHp()}\")\n",
        "Character1.slashAttack (Character2)\n",
        "Character1.basicAttack (Character2)\n",
        "print(f\"{Character1.getUsername()} HP: {Character1.getHp()}\")\n",
        "print(f\"{Character2.getUsername()} HP: {Character2.getHp()}\")\n",
        "Character2.heal()\n",
        "Character2.magicAttack (Character1)\n",
        "print(f\"{Character1.getUsername()} HP: {Character1.getHp()}\")\n",
        "print(f\"{Character2.getUsername()} HP: {Character2.getHp()}\")"
      ],
      "metadata": {
        "colab": {
          "base_uri": "https://localhost:8080/"
        },
        "id": "NDD6WLBh3Bil",
        "outputId": "488f20ca-2ca1-4826-8d15-631cbe0a9549"
      },
      "execution_count": 24,
      "outputs": [
        {
          "output_type": "stream",
          "name": "stdout",
          "text": [
            "Royce HP: 110\n",
            "Archie HP: 105\n",
            "Royce performed Slash Attack! -10\n",
            "Royce performed Basic Attack! Damage: 5\n",
            "Royce HP: 110\n",
            "Archie HP: 90\n",
            "Archie performed Heal! +10\n",
            "Archie performed Magic Attack! -15\n",
            "Royce HP: 95\n",
            "Archie HP: 100\n"
          ]
        }
      ]
    },
    {
      "cell_type": "markdown",
      "source": [
        "Replaced ver."
      ],
      "metadata": {
        "id": "5YRdgYyN4rek"
      }
    },
    {
      "cell_type": "code",
      "source": [
        "Character1 = Swordsman (\"Royce\")\n",
        "Character2 = Magician (\"Archie\")\n",
        "print(f\"{Character1.getUsername()} HP: {Character1.getHp()}\")\n",
        "print(f\"{Character2.getUsername()} HP: {Character2.getHp()}\")\n",
        "Character1.slashAttack (Character2)\n",
        "Character1.basicAttack (Character2)\n",
        "print(f\"{Character1.getUsername()} HP: {Character1.getHp()}\")\n",
        "print(f\"{Character2.getUsername()} HP: {Character2.getHp()}\")\n",
        "Character2.heal()\n",
        "Character2.slashAttack (Character1)\n",
        "print(f\"{Character1.getUsername()} HP: {Character1.getHp()}\")\n",
        "print(f\"{Character2.getUsername()} HP: {Character2.getHp()}\")"
      ],
      "metadata": {
        "colab": {
          "base_uri": "https://localhost:8080/",
          "height": 332
        },
        "outputId": "41d5920f-d2a2-4e83-e5c8-0e6ef736cfbe",
        "id": "ThObXY3Z4p0G"
      },
      "execution_count": 25,
      "outputs": [
        {
          "output_type": "stream",
          "name": "stdout",
          "text": [
            "Royce HP: 110\n",
            "Archie HP: 105\n",
            "Royce performed Slash Attack! -10\n",
            "Royce performed Basic Attack! Damage: 5\n",
            "Royce HP: 110\n",
            "Archie HP: 90\n",
            "Archie performed Heal! +10\n"
          ]
        },
        {
          "output_type": "error",
          "ename": "AttributeError",
          "evalue": "'Magician' object has no attribute 'slashAttack'",
          "traceback": [
            "\u001b[0;31m---------------------------------------------------------------------------\u001b[0m",
            "\u001b[0;31mAttributeError\u001b[0m                            Traceback (most recent call last)",
            "\u001b[0;32m<ipython-input-25-46013dffd582>\u001b[0m in \u001b[0;36m<cell line: 0>\u001b[0;34m()\u001b[0m\n\u001b[1;32m      8\u001b[0m \u001b[0mprint\u001b[0m\u001b[0;34m(\u001b[0m\u001b[0;34mf\"{Character2.getUsername()} HP: {Character2.getHp()}\"\u001b[0m\u001b[0;34m)\u001b[0m\u001b[0;34m\u001b[0m\u001b[0;34m\u001b[0m\u001b[0m\n\u001b[1;32m      9\u001b[0m \u001b[0mCharacter2\u001b[0m\u001b[0;34m.\u001b[0m\u001b[0mheal\u001b[0m\u001b[0;34m(\u001b[0m\u001b[0;34m)\u001b[0m\u001b[0;34m\u001b[0m\u001b[0;34m\u001b[0m\u001b[0m\n\u001b[0;32m---> 10\u001b[0;31m \u001b[0mCharacter2\u001b[0m\u001b[0;34m.\u001b[0m\u001b[0mslashAttack\u001b[0m \u001b[0;34m(\u001b[0m\u001b[0mCharacter1\u001b[0m\u001b[0;34m)\u001b[0m\u001b[0;34m\u001b[0m\u001b[0;34m\u001b[0m\u001b[0m\n\u001b[0m\u001b[1;32m     11\u001b[0m \u001b[0mprint\u001b[0m\u001b[0;34m(\u001b[0m\u001b[0;34mf\"{Character1.getUsername()} HP: {Character1.getHp()}\"\u001b[0m\u001b[0;34m)\u001b[0m\u001b[0;34m\u001b[0m\u001b[0;34m\u001b[0m\u001b[0m\n\u001b[1;32m     12\u001b[0m \u001b[0mprint\u001b[0m\u001b[0;34m(\u001b[0m\u001b[0;34mf\"{Character2.getUsername()} HP: {Character2.getHp()}\"\u001b[0m\u001b[0;34m)\u001b[0m\u001b[0;34m\u001b[0m\u001b[0;34m\u001b[0m\u001b[0m\n",
            "\u001b[0;31mAttributeError\u001b[0m: 'Magician' object has no attribute 'slashAttack'"
          ]
        }
      ]
    },
    {
      "cell_type": "markdown",
      "source": [
        "Multiple Inheritance"
      ],
      "metadata": {
        "id": "O79R1gVd4C53"
      }
    },
    {
      "cell_type": "markdown",
      "source": [
        "Boss.py"
      ],
      "metadata": {
        "id": "F2xIa8sO49XL"
      }
    },
    {
      "cell_type": "code",
      "source": [
        "class Boss(Swordsman, Archer, Magician):\n",
        "  def __init__(self, username):\n",
        "    super().__init__(username)\n",
        "    self.setStr(10)\n",
        "    self.setVit(25)\n",
        "    self.setInt(5)\n",
        "    self.setHp(self.getHp()+self.getVit())"
      ],
      "metadata": {
        "id": "owa_tgVJ48hG"
      },
      "execution_count": 26,
      "outputs": []
    },
    {
      "cell_type": "markdown",
      "source": [
        "Modified Test.py"
      ],
      "metadata": {
        "id": "gkNt0Gjp5kj8"
      }
    },
    {
      "cell_type": "code",
      "source": [
        "Character1 = Swordsman (\"Royce\")\n",
        "Character2 = Boss(\"Archie\")\n",
        "print(f\"{Character1.getUsername()} HP: {Character1.getHp()}\")\n",
        "print(f\"{Character2.getUsername()} HP: {Character2.getHp()}\")\n",
        "Character1.slashAttack (Character2)\n",
        "Character1.basicAttack (Character2)\n",
        "print(f\"{Character1.getUsername()} HP: {Character1.getHp()}\")\n",
        "print(f\"{Character2.getUsername()} HP: {Character2.getHp()}\")\n",
        "Character2.heal()\n",
        "Character2.basicAttack (Character1)\n",
        "Character2.slashAttack (Character1)\n",
        "Character2.rangedAttack(Character1)\n",
        "Character2.magicAttack(Character1)\n",
        "print(f\"{Character1.getUsername()} HP: {Character1.getHp()}\")\n",
        "print(f\"{Character2.getUsername()} HP: {Character2.getHp()}\")"
      ],
      "metadata": {
        "colab": {
          "base_uri": "https://localhost:8080/"
        },
        "id": "0BH6FPLy5mhk",
        "outputId": "31c1f50f-3e0b-4c6c-c063-75caf5c52c2e"
      },
      "execution_count": 27,
      "outputs": [
        {
          "output_type": "stream",
          "name": "stdout",
          "text": [
            "Royce HP: 110\n",
            "Archie HP: 145\n",
            "Royce performed Slash Attack! -10\n",
            "Royce performed Basic Attack! Damage: 5\n",
            "Royce HP: 110\n",
            "Archie HP: 130\n",
            "Archie performed Heal! +5\n",
            "Archie performed Basic Attack! Damage: 5\n",
            "Archie performed Slash Attack! -15\n",
            "Archie performed Slash Attack! -8\n",
            "Archie performed Magic Attack! -10\n",
            "Royce HP: 72\n",
            "Archie HP: 135\n"
          ]
        }
      ]
    },
    {
      "cell_type": "markdown",
      "source": [
        "# **Supplementary Activity:**"
      ],
      "metadata": {
        "id": "jyJwlCV96Jsb"
      }
    },
    {
      "cell_type": "markdown",
      "source": [
        "Create a new file Game.py inside the same folder use the pre-made classes to create a simple Game where two players or\n",
        "one player vs a computer will be able to reduce their opponent’s hp to 0.\n"
      ],
      "metadata": {
        "id": "6JW-kDv66r_1"
      }
    },
    {
      "cell_type": "code",
      "source": [
        "import random\n",
        "class Monster(Character):\n",
        "    def __init__(self):\n",
        "        super().__init__(\"Monster\")\n",
        "        self.setHp(100)\n",
        "        self.setDamage(8)\n",
        "\n",
        "    def attack(self, player):\n",
        "        player.reduceHp(self.getDamage())\n",
        "        print(f\"Monster attacked {player.getUsername()} for {self.getDamage()} damage!\")\n",
        "\n",
        "class Game:\n",
        "    def __init__(self):\n",
        "        self.player_wins = 0\n",
        "        self.run_game()\n",
        "\n",
        "    def select_role(self, is_first_choice=True):\n",
        "        roles = [\"Swordsman\", \"Archer\", \"Magician\"]\n",
        "        if is_first_choice:\n",
        "            print(\"You will start as a Novice.\")\n",
        "            return Novice(input(\"Enter your character's name: \"))\n",
        "        else:\n",
        "            while True:\n",
        "                print(\"Choose your new role: 1. Swordsman  2. Archer  3. Magician\")\n",
        "                choice = input(\"Enter choice: \")\n",
        "                if choice in [\"1\", \"2\", \"3\"]:\n",
        "                    name = input(\"Enter your new character's name: \")\n",
        "                    return [Swordsman(name), Archer(name), Magician(name)][int(choice) - 1]\n",
        "                print(\"Invalid choice. Try again.\")\n",
        "\n",
        "    def battle(self, player1, player2):\n",
        "        while player1.getHp() > 0 and player2.getHp() > 0:\n",
        "            attacker, defender = (player1, player2) if random.choice([True, False]) else (player2, player1)\n",
        "            print(f\"{attacker.getUsername()}'s turn!\")\n",
        "\n",
        "            if isinstance(attacker, Monster):\n",
        "                attacker.attack(defender)\n",
        "            else:\n",
        "                while True:\n",
        "                    print(\"Choose attack: 1. Basic Attack\")\n",
        "                    if isinstance(attacker, (Swordsman, Archer, Magician)):\n",
        "                        print(\"2. Special Attack\")\n",
        "                    if isinstance(attacker, Magician):\n",
        "                        print(\"3. Heal\")\n",
        "                    move = input(\"Enter choice: \")\n",
        "\n",
        "                    if move == \"1\":\n",
        "                        attacker.basicAttack(defender)\n",
        "                        break\n",
        "                    elif move == \"2\" and isinstance(attacker, (Swordsman, Archer)):\n",
        "                        print(f\"{attacker.getUsername()} used Slash Attack!\")\n",
        "                        defender.reduceHp(25)\n",
        "                        break\n",
        "                    elif move == \"2\" and isinstance(attacker, Magician):\n",
        "                        print(f\"{attacker.getUsername()} used Magic Attack!\")\n",
        "                        defender.reduceHp(50)\n",
        "                        break\n",
        "                    elif move == \"3\" and isinstance(attacker, Magician):\n",
        "                        attacker.heal()\n",
        "                        break\n",
        "                    else:\n",
        "                        print(\"Invalid choice. Try again.\")\n",
        "\n",
        "            print(f\"{defender.getUsername()} HP: {defender.getHp()}\")\n",
        "\n",
        "        winner = player1 if player1.getHp() > 0 else player2\n",
        "        print(f\"{winner.getUsername()} wins the match!\")\n",
        "        return winner\n",
        "\n",
        "    def single_player_mode(self):\n",
        "        player = self.select_role()\n",
        "        while True:\n",
        "            print(\"A Monster appears!\")\n",
        "            monster = Monster()\n",
        "            winner = self.battle(player, monster)\n",
        "            if winner == player:\n",
        "                self.player_wins += 1\n",
        "                if self.player_wins == 2:\n",
        "                    print(\"Congratulations! You can now choose a new role.\")\n",
        "                    player = self.select_role(False)\n",
        "                    self.player_wins = 0  # Reset win count but continue playing\n",
        "            else:\n",
        "                print(\"You have been defeated. Game Over.\")\n",
        "                break  # Exit the loop if the player loses\n",
        "\n",
        "    def pvp_mode(self):\n",
        "        print(\"Player 1:\")\n",
        "        player1 = self.select_role(False)\n",
        "        print(\"Player 2:\")\n",
        "        player2 = self.select_role(False)\n",
        "        self.battle(player1, player2)\n",
        "\n",
        "    def run_game(self):\n",
        "        while True:\n",
        "            print(\"Select Mode: 1. Single Player  2. Player vs Player  3. Exit\")\n",
        "            mode = input(\"Enter choice: \")\n",
        "            if mode == \"1\":\n",
        "                self.single_player_mode()\n",
        "            elif mode == \"2\":\n",
        "                self.pvp_mode()\n",
        "            elif mode == \"3\":\n",
        "                print(\"Exiting game...\")\n",
        "                break\n",
        "            else:\n",
        "                print(\"Invalid choice, try again.\")\n",
        "\n",
        "if __name__ == \"__main__\":\n",
        "    Game()\n",
        "\n",
        "# Additional Features\n",
        "# Track total wins of the player and display a leaderboard.\n",
        "# Add more role-specific special attacks.\n",
        "# Implement a simple experience and leveling system.\n"
      ],
      "metadata": {
        "colab": {
          "base_uri": "https://localhost:8080/",
          "height": 1000
        },
        "id": "_FmVlJ5K6up6",
        "outputId": "f1c752bb-2bdd-4d54-f8e8-5c43acca315e"
      },
      "execution_count": 46,
      "outputs": [
        {
          "output_type": "stream",
          "name": "stdout",
          "text": [
            "Select Mode: 1. Single Player  2. Player vs Player  3. Exit\n",
            "Enter choice: 1\n",
            "You will start as a Novice.\n",
            "Enter your character's name: A\n",
            "A Monster appears!\n",
            "A's turn!\n",
            "Choose attack: 1. Basic Attack\n",
            "Enter choice: 1\n",
            "A attacked Monster for 20 damage!\n",
            "Monster HP: 80\n",
            "A's turn!\n",
            "Choose attack: 1. Basic Attack\n",
            "Enter choice: 1\n",
            "A attacked Monster for 20 damage!\n",
            "Monster HP: 60\n",
            "Monster's turn!\n",
            "Monster attacked A for 8 damage!\n",
            "A HP: 92\n",
            "Monster's turn!\n",
            "Monster attacked A for 8 damage!\n",
            "A HP: 84\n",
            "Monster's turn!\n",
            "Monster attacked A for 8 damage!\n",
            "A HP: 76\n",
            "Monster's turn!\n",
            "Monster attacked A for 8 damage!\n",
            "A HP: 68\n",
            "Monster's turn!\n",
            "Monster attacked A for 8 damage!\n",
            "A HP: 60\n",
            "A's turn!\n",
            "Choose attack: 1. Basic Attack\n",
            "Enter choice: 1\n",
            "A attacked Monster for 20 damage!\n",
            "Monster HP: 40\n",
            "Monster's turn!\n",
            "Monster attacked A for 8 damage!\n",
            "A HP: 52\n",
            "A's turn!\n",
            "Choose attack: 1. Basic Attack\n",
            "Enter choice: 1\n",
            "A attacked Monster for 20 damage!\n",
            "Monster HP: 20\n",
            "A's turn!\n",
            "Choose attack: 1. Basic Attack\n",
            "Enter choice: 1\n",
            "A attacked Monster for 20 damage!\n",
            "Monster HP: 0\n",
            "A wins the match!\n",
            "A Monster appears!\n",
            "A's turn!\n",
            "Choose attack: 1. Basic Attack\n",
            "Enter choice: 1\n",
            "A attacked Monster for 20 damage!\n",
            "Monster HP: 80\n",
            "Monster's turn!\n",
            "Monster attacked A for 8 damage!\n",
            "A HP: 44\n",
            "A's turn!\n",
            "Choose attack: 1. Basic Attack\n",
            "Enter choice: 1\n",
            "A attacked Monster for 20 damage!\n",
            "Monster HP: 60\n",
            "Monster's turn!\n",
            "Monster attacked A for 8 damage!\n",
            "A HP: 36\n",
            "A's turn!\n",
            "Choose attack: 1. Basic Attack\n",
            "Enter choice: 1\n",
            "A attacked Monster for 20 damage!\n",
            "Monster HP: 40\n",
            "Monster's turn!\n",
            "Monster attacked A for 8 damage!\n",
            "A HP: 28\n",
            "Monster's turn!\n",
            "Monster attacked A for 8 damage!\n",
            "A HP: 20\n",
            "A's turn!\n",
            "Choose attack: 1. Basic Attack\n",
            "Enter choice: 1\n",
            "A attacked Monster for 20 damage!\n",
            "Monster HP: 20\n",
            "A's turn!\n",
            "Choose attack: 1. Basic Attack\n",
            "Enter choice: 1\n",
            "A attacked Monster for 20 damage!\n",
            "Monster HP: 0\n",
            "A wins the match!\n",
            "Congratulations! You can now choose a new role.\n",
            "Choose your new role: 1. Swordsman  2. Archer  3. Magician\n",
            "Enter choice: 1\n",
            "Enter your new character's name: AA\n",
            "A Monster appears!\n",
            "AA's turn!\n",
            "Choose attack: 1. Basic Attack\n",
            "2. Special Attack\n",
            "Enter choice: 2\n",
            "AA used Slash Attack!\n",
            "Monster HP: 75\n",
            "AA's turn!\n",
            "Choose attack: 1. Basic Attack\n",
            "2. Special Attack\n",
            "Enter choice: 2\n",
            "AA used Slash Attack!\n",
            "Monster HP: 50\n",
            "Monster's turn!\n",
            "Monster attacked AA for 8 damage!\n",
            "AA HP: 112\n",
            "Monster's turn!\n",
            "Monster attacked AA for 8 damage!\n",
            "AA HP: 104\n",
            "Monster's turn!\n",
            "Monster attacked AA for 8 damage!\n",
            "AA HP: 96\n",
            "AA's turn!\n",
            "Choose attack: 1. Basic Attack\n",
            "2. Special Attack\n",
            "Enter choice: 2\n",
            "AA used Slash Attack!\n",
            "Monster HP: 25\n",
            "Monster's turn!\n",
            "Monster attacked AA for 8 damage!\n",
            "AA HP: 88\n",
            "AA's turn!\n",
            "Choose attack: 1. Basic Attack\n",
            "2. Special Attack\n",
            "Enter choice: 2\n",
            "AA used Slash Attack!\n",
            "Monster HP: 0\n",
            "AA wins the match!\n",
            "A Monster appears!\n",
            "AA's turn!\n",
            "Choose attack: 1. Basic Attack\n",
            "2. Special Attack\n",
            "Enter choice: 2\n",
            "AA used Slash Attack!\n",
            "Monster HP: 75\n",
            "Monster's turn!\n",
            "Monster attacked AA for 8 damage!\n",
            "AA HP: 80\n",
            "AA's turn!\n",
            "Choose attack: 1. Basic Attack\n",
            "2. Special Attack\n",
            "Enter choice: 2\n",
            "AA used Slash Attack!\n",
            "Monster HP: 50\n",
            "Monster's turn!\n",
            "Monster attacked AA for 8 damage!\n",
            "AA HP: 72\n",
            "AA's turn!\n",
            "Choose attack: 1. Basic Attack\n",
            "2. Special Attack\n",
            "Enter choice: 2\n",
            "AA used Slash Attack!\n",
            "Monster HP: 25\n",
            "AA's turn!\n",
            "Choose attack: 1. Basic Attack\n",
            "2. Special Attack\n",
            "Enter choice: 2\n",
            "AA used Slash Attack!\n",
            "Monster HP: 0\n",
            "AA wins the match!\n",
            "Congratulations! You can now choose a new role.\n",
            "Choose your new role: 1. Swordsman  2. Archer  3. Magician\n",
            "Enter choice: 3\n",
            "Enter your new character's name: AAAA\n",
            "A Monster appears!\n",
            "AAAA's turn!\n",
            "Choose attack: 1. Basic Attack\n",
            "2. Special Attack\n",
            "3. Heal\n",
            "Enter choice: 2\n",
            "AAAA used Magic Attack!\n",
            "Monster HP: 50\n",
            "Monster's turn!\n",
            "Monster attacked AAAA for 8 damage!\n",
            "AAAA HP: 72\n",
            "Monster's turn!\n",
            "Monster attacked AAAA for 8 damage!\n",
            "AAAA HP: 64\n",
            "AAAA's turn!\n",
            "Choose attack: 1. Basic Attack\n",
            "2. Special Attack\n",
            "3. Heal\n",
            "Enter choice: 2\n",
            "AAAA used Magic Attack!\n",
            "Monster HP: 0\n",
            "AAAA wins the match!\n",
            "A Monster appears!\n",
            "Monster's turn!\n",
            "Monster attacked AAAA for 8 damage!\n",
            "AAAA HP: 56\n",
            "Monster's turn!\n",
            "Monster attacked AAAA for 8 damage!\n",
            "AAAA HP: 48\n",
            "AAAA's turn!\n",
            "Choose attack: 1. Basic Attack\n",
            "2. Special Attack\n",
            "3. Heal\n",
            "Enter choice: 2\n",
            "AAAA used Magic Attack!\n",
            "Monster HP: 50\n",
            "AAAA's turn!\n",
            "Choose attack: 1. Basic Attack\n",
            "2. Special Attack\n",
            "3. Heal\n",
            "Enter choice: 3\n",
            "AAAA healed for 20 HP!\n",
            "Monster HP: 50\n",
            "Monster's turn!\n",
            "Monster attacked AAAA for 8 damage!\n",
            "AAAA HP: 60\n",
            "AAAA's turn!\n",
            "Choose attack: 1. Basic Attack\n",
            "2. Special Attack\n",
            "3. Heal\n",
            "Enter choice: 3\n",
            "AAAA healed for 20 HP!\n",
            "Monster HP: 50\n",
            "AAAA's turn!\n",
            "Choose attack: 1. Basic Attack\n",
            "2. Special Attack\n",
            "3. Heal\n",
            "Enter choice: 2\n",
            "AAAA used Magic Attack!\n",
            "Monster HP: 0\n",
            "AAAA wins the match!\n",
            "Congratulations! You can now choose a new role.\n",
            "Choose your new role: 1. Swordsman  2. Archer  3. Magician\n"
          ]
        },
        {
          "output_type": "error",
          "ename": "KeyboardInterrupt",
          "evalue": "Interrupted by user",
          "traceback": [
            "\u001b[0;31m---------------------------------------------------------------------------\u001b[0m",
            "\u001b[0;31mKeyboardInterrupt\u001b[0m                         Traceback (most recent call last)",
            "\u001b[0;32m<ipython-input-46-4f694d7c0eae>\u001b[0m in \u001b[0;36m<cell line: 0>\u001b[0;34m()\u001b[0m\n\u001b[1;32m    106\u001b[0m \u001b[0;34m\u001b[0m\u001b[0m\n\u001b[1;32m    107\u001b[0m \u001b[0;32mif\u001b[0m \u001b[0m__name__\u001b[0m \u001b[0;34m==\u001b[0m \u001b[0;34m\"__main__\"\u001b[0m\u001b[0;34m:\u001b[0m\u001b[0;34m\u001b[0m\u001b[0;34m\u001b[0m\u001b[0m\n\u001b[0;32m--> 108\u001b[0;31m     \u001b[0mGame\u001b[0m\u001b[0;34m(\u001b[0m\u001b[0;34m)\u001b[0m\u001b[0;34m\u001b[0m\u001b[0;34m\u001b[0m\u001b[0m\n\u001b[0m\u001b[1;32m    109\u001b[0m \u001b[0;34m\u001b[0m\u001b[0m\n\u001b[1;32m    110\u001b[0m \u001b[0;31m# Additional Features\u001b[0m\u001b[0;34m\u001b[0m\u001b[0;34m\u001b[0m\u001b[0m\n",
            "\u001b[0;32m<ipython-input-46-4f694d7c0eae>\u001b[0m in \u001b[0;36m__init__\u001b[0;34m(self)\u001b[0m\n\u001b[1;32m     13\u001b[0m     \u001b[0;32mdef\u001b[0m \u001b[0m__init__\u001b[0m\u001b[0;34m(\u001b[0m\u001b[0mself\u001b[0m\u001b[0;34m)\u001b[0m\u001b[0;34m:\u001b[0m\u001b[0;34m\u001b[0m\u001b[0;34m\u001b[0m\u001b[0m\n\u001b[1;32m     14\u001b[0m         \u001b[0mself\u001b[0m\u001b[0;34m.\u001b[0m\u001b[0mplayer_wins\u001b[0m \u001b[0;34m=\u001b[0m \u001b[0;36m0\u001b[0m\u001b[0;34m\u001b[0m\u001b[0;34m\u001b[0m\u001b[0m\n\u001b[0;32m---> 15\u001b[0;31m         \u001b[0mself\u001b[0m\u001b[0;34m.\u001b[0m\u001b[0mrun_game\u001b[0m\u001b[0;34m(\u001b[0m\u001b[0;34m)\u001b[0m\u001b[0;34m\u001b[0m\u001b[0;34m\u001b[0m\u001b[0m\n\u001b[0m\u001b[1;32m     16\u001b[0m \u001b[0;34m\u001b[0m\u001b[0m\n\u001b[1;32m     17\u001b[0m     \u001b[0;32mdef\u001b[0m \u001b[0mselect_role\u001b[0m\u001b[0;34m(\u001b[0m\u001b[0mself\u001b[0m\u001b[0;34m,\u001b[0m \u001b[0mis_first_choice\u001b[0m\u001b[0;34m=\u001b[0m\u001b[0;32mTrue\u001b[0m\u001b[0;34m)\u001b[0m\u001b[0;34m:\u001b[0m\u001b[0;34m\u001b[0m\u001b[0;34m\u001b[0m\u001b[0m\n",
            "\u001b[0;32m<ipython-input-46-4f694d7c0eae>\u001b[0m in \u001b[0;36mrun_game\u001b[0;34m(self)\u001b[0m\n\u001b[1;32m     96\u001b[0m             \u001b[0mmode\u001b[0m \u001b[0;34m=\u001b[0m \u001b[0minput\u001b[0m\u001b[0;34m(\u001b[0m\u001b[0;34m\"Enter choice: \"\u001b[0m\u001b[0;34m)\u001b[0m\u001b[0;34m\u001b[0m\u001b[0;34m\u001b[0m\u001b[0m\n\u001b[1;32m     97\u001b[0m             \u001b[0;32mif\u001b[0m \u001b[0mmode\u001b[0m \u001b[0;34m==\u001b[0m \u001b[0;34m\"1\"\u001b[0m\u001b[0;34m:\u001b[0m\u001b[0;34m\u001b[0m\u001b[0;34m\u001b[0m\u001b[0m\n\u001b[0;32m---> 98\u001b[0;31m                 \u001b[0mself\u001b[0m\u001b[0;34m.\u001b[0m\u001b[0msingle_player_mode\u001b[0m\u001b[0;34m(\u001b[0m\u001b[0;34m)\u001b[0m\u001b[0;34m\u001b[0m\u001b[0;34m\u001b[0m\u001b[0m\n\u001b[0m\u001b[1;32m     99\u001b[0m             \u001b[0;32melif\u001b[0m \u001b[0mmode\u001b[0m \u001b[0;34m==\u001b[0m \u001b[0;34m\"2\"\u001b[0m\u001b[0;34m:\u001b[0m\u001b[0;34m\u001b[0m\u001b[0;34m\u001b[0m\u001b[0m\n\u001b[1;32m    100\u001b[0m                 \u001b[0mself\u001b[0m\u001b[0;34m.\u001b[0m\u001b[0mpvp_mode\u001b[0m\u001b[0;34m(\u001b[0m\u001b[0;34m)\u001b[0m\u001b[0;34m\u001b[0m\u001b[0;34m\u001b[0m\u001b[0m\n",
            "\u001b[0;32m<ipython-input-46-4f694d7c0eae>\u001b[0m in \u001b[0;36msingle_player_mode\u001b[0;34m(self)\u001b[0m\n\u001b[1;32m     78\u001b[0m                 \u001b[0;32mif\u001b[0m \u001b[0mself\u001b[0m\u001b[0;34m.\u001b[0m\u001b[0mplayer_wins\u001b[0m \u001b[0;34m==\u001b[0m \u001b[0;36m2\u001b[0m\u001b[0;34m:\u001b[0m\u001b[0;34m\u001b[0m\u001b[0;34m\u001b[0m\u001b[0m\n\u001b[1;32m     79\u001b[0m                     \u001b[0mprint\u001b[0m\u001b[0;34m(\u001b[0m\u001b[0;34m\"Congratulations! You can now choose a new role.\"\u001b[0m\u001b[0;34m)\u001b[0m\u001b[0;34m\u001b[0m\u001b[0;34m\u001b[0m\u001b[0m\n\u001b[0;32m---> 80\u001b[0;31m                     \u001b[0mplayer\u001b[0m \u001b[0;34m=\u001b[0m \u001b[0mself\u001b[0m\u001b[0;34m.\u001b[0m\u001b[0mselect_role\u001b[0m\u001b[0;34m(\u001b[0m\u001b[0;32mFalse\u001b[0m\u001b[0;34m)\u001b[0m\u001b[0;34m\u001b[0m\u001b[0;34m\u001b[0m\u001b[0m\n\u001b[0m\u001b[1;32m     81\u001b[0m                     \u001b[0mself\u001b[0m\u001b[0;34m.\u001b[0m\u001b[0mplayer_wins\u001b[0m \u001b[0;34m=\u001b[0m \u001b[0;36m0\u001b[0m  \u001b[0;31m# Reset win count but continue playing\u001b[0m\u001b[0;34m\u001b[0m\u001b[0;34m\u001b[0m\u001b[0m\n\u001b[1;32m     82\u001b[0m             \u001b[0;32melse\u001b[0m\u001b[0;34m:\u001b[0m\u001b[0;34m\u001b[0m\u001b[0;34m\u001b[0m\u001b[0m\n",
            "\u001b[0;32m<ipython-input-46-4f694d7c0eae>\u001b[0m in \u001b[0;36mselect_role\u001b[0;34m(self, is_first_choice)\u001b[0m\n\u001b[1;32m     23\u001b[0m             \u001b[0;32mwhile\u001b[0m \u001b[0;32mTrue\u001b[0m\u001b[0;34m:\u001b[0m\u001b[0;34m\u001b[0m\u001b[0;34m\u001b[0m\u001b[0m\n\u001b[1;32m     24\u001b[0m                 \u001b[0mprint\u001b[0m\u001b[0;34m(\u001b[0m\u001b[0;34m\"Choose your new role: 1. Swordsman  2. Archer  3. Magician\"\u001b[0m\u001b[0;34m)\u001b[0m\u001b[0;34m\u001b[0m\u001b[0;34m\u001b[0m\u001b[0m\n\u001b[0;32m---> 25\u001b[0;31m                 \u001b[0mchoice\u001b[0m \u001b[0;34m=\u001b[0m \u001b[0minput\u001b[0m\u001b[0;34m(\u001b[0m\u001b[0;34m\"Enter choice: \"\u001b[0m\u001b[0;34m)\u001b[0m\u001b[0;34m\u001b[0m\u001b[0;34m\u001b[0m\u001b[0m\n\u001b[0m\u001b[1;32m     26\u001b[0m                 \u001b[0;32mif\u001b[0m \u001b[0mchoice\u001b[0m \u001b[0;32min\u001b[0m \u001b[0;34m[\u001b[0m\u001b[0;34m\"1\"\u001b[0m\u001b[0;34m,\u001b[0m \u001b[0;34m\"2\"\u001b[0m\u001b[0;34m,\u001b[0m \u001b[0;34m\"3\"\u001b[0m\u001b[0;34m]\u001b[0m\u001b[0;34m:\u001b[0m\u001b[0;34m\u001b[0m\u001b[0;34m\u001b[0m\u001b[0m\n\u001b[1;32m     27\u001b[0m                     \u001b[0mname\u001b[0m \u001b[0;34m=\u001b[0m \u001b[0minput\u001b[0m\u001b[0;34m(\u001b[0m\u001b[0;34m\"Enter your new character's name: \"\u001b[0m\u001b[0;34m)\u001b[0m\u001b[0;34m\u001b[0m\u001b[0;34m\u001b[0m\u001b[0m\n",
            "\u001b[0;32m/usr/local/lib/python3.11/dist-packages/ipykernel/kernelbase.py\u001b[0m in \u001b[0;36mraw_input\u001b[0;34m(self, prompt)\u001b[0m\n\u001b[1;32m    849\u001b[0m                 \u001b[0;34m\"raw_input was called, but this frontend does not support input requests.\"\u001b[0m\u001b[0;34m\u001b[0m\u001b[0;34m\u001b[0m\u001b[0m\n\u001b[1;32m    850\u001b[0m             )\n\u001b[0;32m--> 851\u001b[0;31m         return self._input_request(str(prompt),\n\u001b[0m\u001b[1;32m    852\u001b[0m             \u001b[0mself\u001b[0m\u001b[0;34m.\u001b[0m\u001b[0m_parent_ident\u001b[0m\u001b[0;34m,\u001b[0m\u001b[0;34m\u001b[0m\u001b[0;34m\u001b[0m\u001b[0m\n\u001b[1;32m    853\u001b[0m             \u001b[0mself\u001b[0m\u001b[0;34m.\u001b[0m\u001b[0m_parent_header\u001b[0m\u001b[0;34m,\u001b[0m\u001b[0;34m\u001b[0m\u001b[0;34m\u001b[0m\u001b[0m\n",
            "\u001b[0;32m/usr/local/lib/python3.11/dist-packages/ipykernel/kernelbase.py\u001b[0m in \u001b[0;36m_input_request\u001b[0;34m(self, prompt, ident, parent, password)\u001b[0m\n\u001b[1;32m    893\u001b[0m             \u001b[0;32mexcept\u001b[0m \u001b[0mKeyboardInterrupt\u001b[0m\u001b[0;34m:\u001b[0m\u001b[0;34m\u001b[0m\u001b[0;34m\u001b[0m\u001b[0m\n\u001b[1;32m    894\u001b[0m                 \u001b[0;31m# re-raise KeyboardInterrupt, to truncate traceback\u001b[0m\u001b[0;34m\u001b[0m\u001b[0;34m\u001b[0m\u001b[0m\n\u001b[0;32m--> 895\u001b[0;31m                 \u001b[0;32mraise\u001b[0m \u001b[0mKeyboardInterrupt\u001b[0m\u001b[0;34m(\u001b[0m\u001b[0;34m\"Interrupted by user\"\u001b[0m\u001b[0;34m)\u001b[0m \u001b[0;32mfrom\u001b[0m \u001b[0;32mNone\u001b[0m\u001b[0;34m\u001b[0m\u001b[0;34m\u001b[0m\u001b[0m\n\u001b[0m\u001b[1;32m    896\u001b[0m             \u001b[0;32mexcept\u001b[0m \u001b[0mException\u001b[0m \u001b[0;32mas\u001b[0m \u001b[0me\u001b[0m\u001b[0;34m:\u001b[0m\u001b[0;34m\u001b[0m\u001b[0;34m\u001b[0m\u001b[0m\n\u001b[1;32m    897\u001b[0m                 \u001b[0mself\u001b[0m\u001b[0;34m.\u001b[0m\u001b[0mlog\u001b[0m\u001b[0;34m.\u001b[0m\u001b[0mwarning\u001b[0m\u001b[0;34m(\u001b[0m\u001b[0;34m\"Invalid Message:\"\u001b[0m\u001b[0;34m,\u001b[0m \u001b[0mexc_info\u001b[0m\u001b[0;34m=\u001b[0m\u001b[0;32mTrue\u001b[0m\u001b[0;34m)\u001b[0m\u001b[0;34m\u001b[0m\u001b[0;34m\u001b[0m\u001b[0m\n",
            "\u001b[0;31mKeyboardInterrupt\u001b[0m: Interrupted by user"
          ]
        }
      ]
    },
    {
      "cell_type": "markdown",
      "source": [
        "**PVP Mode**"
      ],
      "metadata": {
        "id": "1Ui0UTsJCF33"
      }
    },
    {
      "cell_type": "code",
      "source": [
        "import random\n",
        "class Monster(Character):\n",
        "    def __init__(self):\n",
        "        super().__init__(\"Monster\")\n",
        "        self.setHp(100)\n",
        "        self.setDamage(8)\n",
        "\n",
        "    def attack(self, player):\n",
        "        player.reduceHp(self.getDamage())\n",
        "        print(f\"Monster attacked {player.getUsername()} for {self.getDamage()} damage!\")\n",
        "\n",
        "class Game:\n",
        "    def __init__(self):\n",
        "        self.player_wins = 0\n",
        "        self.run_game()\n",
        "\n",
        "    def select_role(self, is_first_choice=True):\n",
        "        roles = [\"Swordsman\", \"Archer\", \"Magician\"]\n",
        "        if is_first_choice:\n",
        "            print(\"You will start as a Novice.\")\n",
        "            return Novice(input(\"Enter your character's name: \"))\n",
        "        else:\n",
        "            while True:\n",
        "                print(\"Choose your new role: 1. Swordsman  2. Archer  3. Magician\")\n",
        "                choice = input(\"Enter choice: \")\n",
        "                if choice in [\"1\", \"2\", \"3\"]:\n",
        "                    name = input(\"Enter your new character's name: \")\n",
        "                    return [Swordsman(name), Archer(name), Magician(name)][int(choice) - 1]\n",
        "                print(\"Invalid choice. Try again.\")\n",
        "\n",
        "    def battle(self, player1, player2):\n",
        "        while player1.getHp() > 0 and player2.getHp() > 0:\n",
        "            attacker, defender = (player1, player2) if random.choice([True, False]) else (player2, player1)\n",
        "            print(f\"{attacker.getUsername()}'s turn!\")\n",
        "\n",
        "            if isinstance(attacker, Monster):\n",
        "                attacker.attack(defender)\n",
        "            else:\n",
        "                while True:\n",
        "                    print(\"Choose attack: 1. Basic Attack\")\n",
        "                    if isinstance(attacker, (Swordsman, Archer, Magician)):\n",
        "                        print(\"2. Special Attack\")\n",
        "                    if isinstance(attacker, Magician):\n",
        "                        print(\"3. Heal\")\n",
        "                    move = input(\"Enter choice: \")\n",
        "\n",
        "                    if move == \"1\":\n",
        "                        attacker.basicAttack(defender)\n",
        "                        break\n",
        "                    elif move == \"2\" and isinstance(attacker, (Swordsman, Archer)):\n",
        "                        print(f\"{attacker.getUsername()} used Slash Attack!\")\n",
        "                        defender.reduceHp(25)\n",
        "                        break\n",
        "                    elif move == \"2\" and isinstance(attacker, Magician):\n",
        "                        print(f\"{attacker.getUsername()} used Magic Attack!\")\n",
        "                        defender.reduceHp(50)\n",
        "                        break\n",
        "                    elif move == \"3\" and isinstance(attacker, Magician):\n",
        "                        attacker.heal()\n",
        "                        break\n",
        "                    else:\n",
        "                        print(\"Invalid choice. Try again.\")\n",
        "\n",
        "            print(f\"{defender.getUsername()} HP: {defender.getHp()}\")\n",
        "\n",
        "        winner = player1 if player1.getHp() > 0 else player2\n",
        "        print(f\"{winner.getUsername()} wins the match!\")\n",
        "        return winner\n",
        "\n",
        "    def single_player_mode(self):\n",
        "        player = self.select_role()\n",
        "        while True:\n",
        "            print(\"A Monster appears!\")\n",
        "            monster = Monster()\n",
        "            winner = self.battle(player, monster)\n",
        "            if winner == player:\n",
        "                self.player_wins += 1\n",
        "                if self.player_wins == 2:\n",
        "                    print(\"Congratulations! You can now choose a new role.\")\n",
        "                    player = self.select_role(False)\n",
        "                    self.player_wins = 0  # Reset win count but continue playing\n",
        "            else:\n",
        "                print(\"You have been defeated. Game Over.\")\n",
        "                break  # Exit the loop if the player loses\n",
        "\n",
        "    def pvp_mode(self):\n",
        "        print(\"Player 1:\")\n",
        "        player1 = self.select_role(False)\n",
        "        print(\"Player 2:\")\n",
        "        player2 = self.select_role(False)\n",
        "        self.battle(player1, player2)\n",
        "\n",
        "    def run_game(self):\n",
        "        while True:\n",
        "            print(\"Select Mode: 1. Single Player  2. Player vs Player  3. Exit\")\n",
        "            mode = input(\"Enter choice: \")\n",
        "            if mode == \"1\":\n",
        "                self.single_player_mode()\n",
        "            elif mode == \"2\":\n",
        "                self.pvp_mode()\n",
        "            elif mode == \"3\":\n",
        "                print(\"Exiting game...\")\n",
        "                break\n",
        "            else:\n",
        "                print(\"Invalid choice, try again.\")\n",
        "\n",
        "if __name__ == \"__main__\":\n",
        "    Game()\n",
        "\n",
        "# Additional Features\n",
        "# Track total wins of the player and display a leaderboard.\n",
        "# Add more role-specific special attacks.\n",
        "# Implement a simple experience and leveling system.\n",
        "\n"
      ],
      "metadata": {
        "colab": {
          "base_uri": "https://localhost:8080/"
        },
        "id": "eMKY4mZUB3bw",
        "outputId": "d03a0cd8-f537-44ac-8605-ea2fcf83959f"
      },
      "execution_count": 47,
      "outputs": [
        {
          "output_type": "stream",
          "name": "stdout",
          "text": [
            "Select Mode: 1. Single Player  2. Player vs Player  3. Exit\n",
            "Enter choice: 2\n",
            "Player 1:\n",
            "Choose your new role: 1. Swordsman  2. Archer  3. Magician\n",
            "Enter choice: 1\n",
            "Enter your new character's name: AA\n",
            "Player 2:\n",
            "Choose your new role: 1. Swordsman  2. Archer  3. Magician\n",
            "Enter choice: 2\n",
            "Enter your new character's name: BB\n",
            "BB's turn!\n",
            "Choose attack: 1. Basic Attack\n",
            "2. Special Attack\n",
            "Enter choice: 1\n",
            "BB attacked AA for 30 damage!\n",
            "AA HP: 90\n",
            "AA's turn!\n",
            "Choose attack: 1. Basic Attack\n",
            "2. Special Attack\n",
            "Enter choice: 2\n",
            "AA used Slash Attack!\n",
            "BB HP: 75\n",
            "BB's turn!\n",
            "Choose attack: 1. Basic Attack\n",
            "2. Special Attack\n",
            "Enter choice: 1\n",
            "BB attacked AA for 30 damage!\n",
            "AA HP: 60\n",
            "AA's turn!\n",
            "Choose attack: 1. Basic Attack\n",
            "2. Special Attack\n",
            "Enter choice: 2\n",
            "AA used Slash Attack!\n",
            "BB HP: 50\n",
            "AA's turn!\n",
            "Choose attack: 1. Basic Attack\n",
            "2. Special Attack\n",
            "Enter choice: 1\n",
            "AA attacked BB for 25 damage!\n",
            "BB HP: 25\n",
            "AA's turn!\n",
            "Choose attack: 1. Basic Attack\n",
            "2. Special Attack\n",
            "Enter choice: 2\n",
            "AA used Slash Attack!\n",
            "BB HP: 0\n",
            "AA wins the match!\n",
            "Select Mode: 1. Single Player  2. Player vs Player  3. Exit\n",
            "Enter choice: 3\n",
            "Exiting game...\n"
          ]
        }
      ]
    }
  ]
}