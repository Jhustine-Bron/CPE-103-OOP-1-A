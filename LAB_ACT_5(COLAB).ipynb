{
  "nbformat": 4,
  "nbformat_minor": 0,
  "metadata": {
    "colab": {
      "provenance": [],
      "authorship_tag": "ABX9TyNeElwciUlmUJbHExRxOjlh",
      "include_colab_link": true
    },
    "kernelspec": {
      "name": "python3",
      "display_name": "Python 3"
    },
    "language_info": {
      "name": "python"
    }
  },
  "cells": [
    {
      "cell_type": "markdown",
      "metadata": {
        "id": "view-in-github",
        "colab_type": "text"
      },
      "source": [
        "<a href=\"https://colab.research.google.com/github/Jhustine-Bron/CPE-103-OOP-1-A/blob/main/LAB_ACT_5(COLAB).ipynb\" target=\"_parent\"><img src=\"https://colab.research.google.com/assets/colab-badge.svg\" alt=\"Open In Colab\"/></a>"
      ]
    },
    {
      "cell_type": "markdown",
      "source": [
        "Builtinfunctions (evaluator.py)"
      ],
      "metadata": {
        "id": "D9ynrMsbtToN"
      }
    },
    {
      "cell_type": "code",
      "source": [
        "print(\"Propositional logic evaluator for discrete math\")\n",
        "variables = int(input(\"How many variables? \"))\n",
        "total_combinations = 2** variables\n",
        "\n",
        "combinations_list = []\n",
        "\n",
        "\n",
        "for i in range(total_combinations):\n",
        "    bin_equivalent = bin(i)[2:]\n",
        "    while len(bin_equivalent) <variables:\n",
        "        bin_equivalent=\"0\"+bin_equivalent\n",
        "    combinations_list.append(tuple (int(val) for val in bin_equivalent))\n",
        "\n",
        "expression = input(\"Enter the propositional logic expression: \")\n",
        "\n",
        "\n",
        "if variables == 2:\n",
        "    print(\"A B f\")\n",
        "    for A, B in combinations_list:\n",
        "        evaluated_expression =  eval(expression)\n",
        "        print(A, B, evaluated_expression)\n",
        "elif variables == 3:\n",
        "    print(\"A B C f\")\n",
        "    for A,B,C in combinations_list:\n",
        "        evaluated_expression = eval(expression)\n",
        "        print(A, B, C, evaluated_expression)"
      ],
      "metadata": {
        "colab": {
          "base_uri": "https://localhost:8080/"
        },
        "id": "0Og4owcitcFk",
        "outputId": "950815f8-0c8a-4d09-8ca0-2541a82b1c2c"
      },
      "execution_count": null,
      "outputs": [
        {
          "output_type": "stream",
          "name": "stdout",
          "text": [
            "Propositional logic evaluator for discrete math\n",
            "How many variables? 2\n",
            "Enter the propositional logic expression: B\n",
            "A B f\n",
            "0 0 0\n",
            "0 1 1\n",
            "1 0 0\n",
            "1 1 1\n"
          ]
        }
      ]
    },
    {
      "cell_type": "markdown",
      "source": [
        "File Handling (filewriter.py)"
      ],
      "metadata": {
        "id": "yREPTkQdth1t"
      }
    },
    {
      "cell_type": "code",
      "source": [
        "name = \"Royce Chua\"\n",
        "file = open(\"newfile1.txt\", 'w')\n",
        "file.write(f\"Hello, {name}!\\n\")\n",
        "file.write(\"Isn't this amazing!\\n\")\n",
        "file.write(\"that we can create and write on text files \\n\")\n",
        "file.write(\"Using python\")\n",
        "file.close()\n",
        "\n",
        "name = \"Royce Chua\"\n",
        "file = open(\"newfile2.txt\", 'w')\n",
        "file.write(\"excluding the'___'\\n\")\n",
        "file.write(\"This message was created using Python!\\n\")\n",
        "file.close()\n"
      ],
      "metadata": {
        "id": "x9j2hA9rtmyM"
      },
      "execution_count": null,
      "outputs": []
    },
    {
      "cell_type": "markdown",
      "source": [
        "filereader.py"
      ],
      "metadata": {
        "id": "ywYk_pNgttE1"
      }
    },
    {
      "cell_type": "code",
      "source": [
        "file = open(\"newfile1.txt\", 'r')\n",
        "data = file.read ()\n",
        "print (data)\n",
        "file.close ()\n",
        "\n",
        "file = open(\"newfile2.txt\", 'r')\n",
        "data = file.read ()\n",
        "print (data)\n",
        "file.close ()"
      ],
      "metadata": {
        "colab": {
          "base_uri": "https://localhost:8080/"
        },
        "id": "pBCjBE8ltuqe",
        "outputId": "1b7fa97b-cc6d-4e74-9d22-d2f7d1687988"
      },
      "execution_count": null,
      "outputs": [
        {
          "output_type": "stream",
          "name": "stdout",
          "text": [
            "Hello, Royce Chua!\n",
            "Isn't this amazing!\n",
            "that we can create and write on text files \n",
            "Using python\n",
            "excluding the'___'\n",
            "This message was created using Python!\n",
            "\n"
          ]
        }
      ]
    },
    {
      "cell_type": "markdown",
      "source": [
        "fileappender.py"
      ],
      "metadata": {
        "id": "ir7jJ9U-uBE2"
      }
    },
    {
      "cell_type": "code",
      "source": [
        "file = open(\"newfile2.txt\", 'a')\n",
        "file.write (\"and also by the programmer of course.\")\n",
        "file.close"
      ],
      "metadata": {
        "colab": {
          "base_uri": "https://localhost:8080/"
        },
        "id": "1QgmUqVNuCTc",
        "outputId": "56508b03-bd9b-407a-cbfc-35f7f72feb93"
      },
      "execution_count": null,
      "outputs": [
        {
          "output_type": "execute_result",
          "data": {
            "text/plain": [
              "<function TextIOWrapper.close()>"
            ]
          },
          "metadata": {},
          "execution_count": 5
        }
      ]
    },
    {
      "cell_type": "markdown",
      "source": [
        "Userfunctions (truthtablegenerator.py)"
      ],
      "metadata": {
        "id": "-7EjW0YTuKzW"
      }
    },
    {
      "cell_type": "code",
      "source": [
        "def generate_truthtable(number_of_variables=0):\n",
        "    if number_of_variables == 0:\n",
        "        return \"You need to enter an integer\"\n",
        "    else:\n",
        "        total_combinations = 2**number_of_variables\n",
        "        combinations_list = []\n",
        "        for i in range(total_combinations):\n",
        "            bin_equivalent = bin(i)[2:].zfill(number_of_variables)\n",
        "            combinations_list.append(tuple(int(val) for val in bin_equivalent))\n",
        "        return combinations_list\n",
        "\n",
        "def evaluate_propositional_logic(c_list):\n",
        "    expression = input(\"Enter the propositional logic expression: \")\n",
        "\n",
        "    if len(c_list[0]) == 2:\n",
        "        print(\"A B f\")\n",
        "        for A, B in c_list:\n",
        "            print(A, B, eval(expression))\n",
        "    elif len(c_list[0]) == 3:\n",
        "        print(\"A B C f\")\n",
        "        for A, B, C in c_list:\n",
        "            print(A, B, C, eval(expression))\n",
        "\n",
        "evaluate_propositional_logic(generate_truthtable(3))\n",
        "\n"
      ],
      "metadata": {
        "colab": {
          "base_uri": "https://localhost:8080/"
        },
        "id": "jfjTSk6PuRPz",
        "outputId": "db31fe3c-8e81-4b0f-9b81-1615cf570d24"
      },
      "execution_count": null,
      "outputs": [
        {
          "output_type": "stream",
          "name": "stdout",
          "text": [
            "Enter the propositional logic expression: 2\n",
            "A B C f\n",
            "0 0 0 2\n",
            "0 0 1 2\n",
            "0 1 0 2\n",
            "0 1 1 2\n",
            "1 0 0 2\n",
            "1 0 1 2\n",
            "1 1 0 2\n",
            "1 1 1 2\n"
          ]
        }
      ]
    },
    {
      "cell_type": "markdown",
      "source": [
        "In generate_truthtable, the function returns a list instead of printing it, so we need to print it ourselves to see the output. But in evaluator.py, the values are printed directly inside the loop, so they show up automatically when the code runs."
      ],
      "metadata": {
        "id": "xI0kAk-s6TCO"
      }
    },
    {
      "cell_type": "markdown",
      "source": [
        "Modules"
      ],
      "metadata": {
        "id": "-laNoYi2ucKO"
      }
    },
    {
      "cell_type": "markdown",
      "source": [
        "modules1 (mathmodule.py)"
      ],
      "metadata": {
        "id": "K_6v7nglug0Q"
      }
    },
    {
      "cell_type": "code",
      "source": [
        "import math\n",
        "\n",
        "def quadratic_formula(a,b,c):\n",
        "    if b**2-(4*a*c) <0:\n",
        "        x1 = (complex(-b,math.floor(math.sqrt(abs (b**2-(4*a*c))))))/2*a\n",
        "        x2 = (complex(-b,-1*math.floor(math.sqrt(abs(b**2-(4*a*c))))))/2*a\n",
        "        return x1, x2\n",
        "    else:\n",
        "        x1 = (-b+math.sqrt(b**2-(4*a*c)))/(2*a)\n",
        "        x2= (-b-math.sqrt(b**2-(4*a*c)))/(2*a)\n",
        "        return x1, x2\n",
        "\n",
        "print (quadratic_formula(1,2,3))"
      ],
      "metadata": {
        "colab": {
          "base_uri": "https://localhost:8080/"
        },
        "id": "3pvyS9WTuj2c",
        "outputId": "e241e671-309a-4931-ba92-750ac52a0d03"
      },
      "execution_count": null,
      "outputs": [
        {
          "output_type": "stream",
          "name": "stdout",
          "text": [
            "((-1+1j), (-1-1j))\n"
          ]
        }
      ]
    },
    {
      "cell_type": "markdown",
      "source": [
        "mathmodule2.py"
      ],
      "metadata": {
        "id": "ngxd32OnusmV"
      }
    },
    {
      "cell_type": "code",
      "source": [
        "import math\n",
        "def angle_demo():\n",
        "    angle = math.sin(math.pi/2)\n",
        "    print(angle)\n",
        "    angle =  math.sin(math.radians (90))\n",
        "    print(angle)\n",
        "\n",
        "angle_demo()\n"
      ],
      "metadata": {
        "colab": {
          "base_uri": "https://localhost:8080/"
        },
        "id": "1UvjnHgVutST",
        "outputId": "beb09a9a-6871-4527-ce53-fa81a5160da8"
      },
      "execution_count": null,
      "outputs": [
        {
          "output_type": "stream",
          "name": "stdout",
          "text": [
            "1.0\n",
            "1.0\n"
          ]
        }
      ]
    },
    {
      "cell_type": "markdown",
      "source": [
        "dateandtime.py"
      ],
      "metadata": {
        "id": "CY47zZH0uy1_"
      }
    },
    {
      "cell_type": "code",
      "source": [
        "import time\n",
        "\n",
        "def pause():\n",
        "    for i in range (10, 0, -1):\n",
        "        print (f\"The program will end in {i}..\")\n",
        "        time.sleep(1)\n",
        "\n",
        "\n",
        "\n",
        "def current_time():\n",
        "    t = time.strftime(\"%I:%M %p\")\n",
        "    return t\n",
        "\n",
        "\n",
        "def current_date():\n",
        "    d = time.strftime(\"%b %d %Y\")\n",
        "    return d\n"
      ],
      "metadata": {
        "id": "2UOO4ZuQuzQE"
      },
      "execution_count": null,
      "outputs": []
    },
    {
      "cell_type": "markdown",
      "source": [
        "modules1 (main.py)"
      ],
      "metadata": {
        "id": "0bbNpAA7u-Of"
      }
    },
    {
      "cell_type": "code",
      "source": [
        "print (\"The current time is\", current_time())\n",
        "print (\"The current date is\", current_date())"
      ],
      "metadata": {
        "colab": {
          "base_uri": "https://localhost:8080/"
        },
        "id": "l6OAuZaZu_k0",
        "outputId": "1aefc310-496e-41f8-f8dc-adf18cdb9c65"
      },
      "execution_count": null,
      "outputs": [
        {
          "output_type": "stream",
          "name": "stdout",
          "text": [
            "The current time is 02:21 PM\n",
            "The current date is Feb 20 2025\n"
          ]
        }
      ]
    },
    {
      "cell_type": "markdown",
      "source": [
        "# **Supplementary Activity**"
      ],
      "metadata": {
        "id": "mUd2uLcJvRqW"
      }
    },
    {
      "cell_type": "markdown",
      "source": [
        "Simple Word Filter\n",
        "1.\tCreate a function that would accept two inputs: a sentence(string), and a list containing bad words that the user would like to censor but not remove. The function should return the newly filtered sentence wherein the bad words are replaced with asterisks equal to the length of the censored word.\n",
        "\n",
        "\n",
        "---\n",
        "\n"
      ],
      "metadata": {
        "id": "mTJ0KvVovTwe"
      }
    },
    {
      "cell_type": "code",
      "source": [
        "bad_words = [\"butt\", \"ugly\", \"stupid\", \"dumb\", \"bullcrap\", \"frick\"]\n",
        "\n",
        "sentence = input(\"Enter a sentence: \")\n",
        "\n",
        "for word in bad_words:\n",
        "    sentence = sentence.replace(word, \"*\" * len(word))\n",
        "    sentence = sentence.replace(word.capitalize(), \"*F\" * len(word))\n",
        "\n",
        "print (sentence)"
      ],
      "metadata": {
        "colab": {
          "base_uri": "https://localhost:8080/"
        },
        "id": "F4SfeJ_nvWPr",
        "outputId": "a299ec66-151b-4f56-fb3a-5cc13df58488"
      },
      "execution_count": null,
      "outputs": [
        {
          "output_type": "stream",
          "name": "stdout",
          "text": [
            "Enter a sentence: I am so so stupid\n",
            "I am so so ******\n"
          ]
        }
      ]
    },
    {
      "cell_type": "markdown",
      "source": [
        "2.\tGiven a certain Physics problem create a function(projectilemotion_solver) that would take in the following inputs below and return the needed information when the function is called. Name the program containing the function projectilemotion.py then create another program main_program.py and import projectilemotion.py\n",
        "“A long jumper leaves the ground at an angle of 20.0° above the horizontal and at a speed of 11.0 m/s. “\n",
        "(a)\tHow far does he jump in the horizontal direction?\n",
        "(b)\tWhat is the maximum height reached?\n",
        "Given a projectile motion problem like this where the angle and speed are given, the range or distance travelled in the horizontal direction can be determined by using the formula:\n",
        "\n",
        "𝑅 =𝑣𝑖^2𝑠𝑖𝑛2𝜃𝑖/g\n",
        "The maximum height can be determined using the formula:\n",
        "ℎ = 𝑣𝑖^2𝑠𝑖𝑛2𝜃𝑖/ 2𝑔\n",
        "\n",
        "\n",
        "\n",
        "---\n",
        "\n",
        "\n",
        "\n",
        "\n"
      ],
      "metadata": {
        "id": "wvF9o2e5vaA0"
      }
    },
    {
      "cell_type": "markdown",
      "source": [
        "(projectilemotion.py)"
      ],
      "metadata": {
        "id": "AJzXiQH5wFMs"
      }
    },
    {
      "cell_type": "code",
      "source": [
        "import math\n",
        "\n",
        "def projectilemotion_solver(speed, angle):\n",
        "    g = 9.81\n",
        "\n",
        "    theta = math.radians(angle)\n",
        "\n",
        "    range_x = (speed **2) * math.sin (2 * theta) / g\n",
        "\n",
        "    max_height = (speed **2) * (math.sin(theta) **2) / (2*g)\n",
        "\n",
        "    return range_x, max_height"
      ],
      "metadata": {
        "id": "hgoux03hwHhc"
      },
      "execution_count": null,
      "outputs": []
    },
    {
      "cell_type": "markdown",
      "source": [
        "(main_program.py)"
      ],
      "metadata": {
        "id": "1t9pOV8GwCfO"
      }
    },
    {
      "cell_type": "code",
      "source": [
        "speed = 11\n",
        "angle = 20\n",
        "\n",
        "range_x, max_height = projectilemotion_solver(speed, angle)\n",
        "\n",
        "print (f\"Horizontal Distance (Range): {range_x:.2f} m\")\n",
        "print (f\"Maximum Height: {max_height:.2f} m\")"
      ],
      "metadata": {
        "colab": {
          "base_uri": "https://localhost:8080/"
        },
        "id": "EsrWIOkowC-k",
        "outputId": "30be8115-cfd4-48eb-9641-429f93870da5"
      },
      "execution_count": null,
      "outputs": [
        {
          "output_type": "stream",
          "name": "stdout",
          "text": [
            "Horizontal Distance (Range): 7.93 m\n",
            "Maximum Height: 0.72 m\n"
          ]
        }
      ]
    },
    {
      "cell_type": "markdown",
      "source": [
        "3.\tCreate a quadratic equation solver module that would write the inputs of the user and the corresponding output into text files.\n",
        "\n",
        "\n",
        "---\n",
        "\n"
      ],
      "metadata": {
        "id": "UKrTO6N6wd9U"
      }
    },
    {
      "cell_type": "code",
      "source": [
        "import math\n",
        "\n",
        "def solve_quadratic(a, b, c):\n",
        "    discriminant = b**2 - 4*a*c\n",
        "\n",
        "    if discriminant > 0:\n",
        "        root1 = (-b + math.sqrt(discriminant)) / (2*a)\n",
        "        root2 = (-b - math.sqrt(discriminant)) / (2*a)\n",
        "        return root1, root2\n",
        "    elif discriminant == 0:\n",
        "        root = -b / (2*a)\n",
        "        return root,\n",
        "    else:\n",
        "        return \"No real roots\"\n",
        "\n",
        "def log_to_file(a, b, c, result):\n",
        "    with open(\"quadratic_solutions.txt\", \"a\") as file:\n",
        "        file.write(f\"Equation: {a}x^2 + {b}x + {c} = 0\\n\")\n",
        "        file.write(f\"Solution: {result}\\n\")\n",
        "        file.write(\"-\" * 30 + \"\\n\")\n",
        "\n",
        "def main():\n",
        "    a = float(input(\"Enter coefficient a: \"))\n",
        "    b = float(input(\"Enter coefficient b: \"))\n",
        "    c = float(input(\"Enter coefficient c: \"))\n",
        "\n",
        "    if a == 0:\n",
        "        print(\"Not a quadratic equation.\")\n",
        "        return\n",
        "\n",
        "    result = solve_quadratic(a, b, c)\n",
        "    print(\"Solution:\", result)\n",
        "    log_to_file(a, b, c, result)\n",
        "\n",
        "if __name__ == \"__main__\":\n",
        "    main()\n"
      ],
      "metadata": {
        "colab": {
          "base_uri": "https://localhost:8080/"
        },
        "id": "ysU8y-ATwggT",
        "outputId": "35e53eff-f3d7-41e9-f044-f782eb9c317d"
      },
      "execution_count": null,
      "outputs": [
        {
          "output_type": "stream",
          "name": "stdout",
          "text": [
            "Enter coefficient a: 1\n",
            "Enter coefficient b: -3\n",
            "Enter coefficient c: 2\n",
            "Solution: (2.0, 1.0)\n"
          ]
        }
      ]
    }
  ]
}