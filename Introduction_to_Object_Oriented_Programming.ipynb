{
  "nbformat": 4,
  "nbformat_minor": 0,
  "metadata": {
    "colab": {
      "provenance": [],
      "authorship_tag": "ABX9TyOsNXl2M4CAi01mXZSZ5Crz",
      "include_colab_link": true
    },
    "kernelspec": {
      "name": "python3",
      "display_name": "Python 3"
    },
    "language_info": {
      "name": "python"
    }
  },
  "cells": [
    {
      "cell_type": "markdown",
      "metadata": {
        "id": "view-in-github",
        "colab_type": "text"
      },
      "source": [
        "<a href=\"https://colab.research.google.com/github/Jhustine-Bron/CPE-103-OOP-1-A/blob/main/Introduction_to_Object_Oriented_Programming.ipynb\" target=\"_parent\"><img src=\"https://colab.research.google.com/assets/colab-badge.svg\" alt=\"Open In Colab\"/></a>"
      ]
    },
    {
      "cell_type": "markdown",
      "source": [
        "**CREATING CLASSES**"
      ],
      "metadata": {
        "id": "2MhmXvugC8lQ"
      }
    },
    {
      "cell_type": "code",
      "source": [
        "\"\"\"\n",
        "    Accounts.self\n",
        "\"\"\"\n",
        "\n",
        "class Accounts ():\n",
        "  account_number = 0\n",
        "  account_firstname = \" \"\n",
        "  account_lastname = \" \"\n",
        "  current_balance = 0.0\n",
        "  address = \" \"\n",
        "  email = \" \"\n",
        "\n",
        "  def update_address(new_address):\n",
        "    Accounts.address = new_address\n",
        "\n",
        "  def update_email(new_email):\n",
        "    Accounts.email = new_email\n"
      ],
      "metadata": {
        "id": "5AF_9udeDArv"
      },
      "execution_count": null,
      "outputs": []
    },
    {
      "cell_type": "markdown",
      "source": [
        "ATM.py"
      ],
      "metadata": {
        "id": "nkCHF00iGO-_"
      }
    },
    {
      "cell_type": "code",
      "source": [
        "\"\"\"\n",
        "  ATM.py\n",
        "\"\"\"\n",
        "\n",
        "class ATM():\n",
        "  serial_number = 0\n",
        "\n",
        "  def deposit(self, account, amount):\n",
        "    account.current_balance = account.current_balance + amount\n",
        "    print (\"Deposit Complete\")\n",
        "\n",
        "  def withdraw(self, account, amount):\n",
        "    account.current_balance = account.current_balance - amount\n",
        "    print (\"Withdrawal Complete\")\n",
        "\n",
        "  def check_currentbalance(self, account):\n",
        "    print (account.current_balance)"
      ],
      "metadata": {
        "id": "VWqWbrtcF5l2"
      },
      "execution_count": null,
      "outputs": []
    },
    {
      "cell_type": "markdown",
      "source": [
        "MAIN.py"
      ],
      "metadata": {
        "id": "Ht0OYFnYGQwX"
      }
    },
    {
      "source": [
        "\"\"\"\n",
        "  main.py\n",
        "\"\"\"\n",
        "\n",
        "\n",
        "Account1 = Accounts(account_number=123456, account_firstname=\"Royce\", account_lastname=\"Chua\", current_balance=1000, address=\"Silver Street Quezon City\", email=\"Roycechua123@gmail.com\")\n",
        "\n",
        "print(\"Account 1\")\n",
        "print(Account1.account_firstname)\n",
        "print(Account1.account_lastname)\n",
        "print(Account1.current_balance)\n",
        "print(Account1.address)\n",
        "print(Account1.email)\n",
        "\n",
        "print()\n",
        "\n",
        "\n",
        "Account2 = Accounts(account_number=654321, account_firstname=\"John\", account_lastname=\"Doe\", current_balance=2000, address=\"Gold Street Quezon City\", email=\"JohnDoe@yahoo.com\")\n",
        "\n",
        "print(\"Account 2\")\n",
        "print(Account2.account_firstname)\n",
        "print(Account2.account_lastname)\n",
        "print(Account2.current_balance)\n",
        "print(Account2.address)\n",
        "print(Account2.email)\n",
        "\n",
        "\n",
        "ATM1 = ATM()\n",
        "ATM1.deposit(Account1, 500)\n",
        "ATM1.check_currentbalance(Account1)\n",
        "\n",
        "ATM1.deposit(Account2, 300)\n",
        "ATM1.check_currentbalance(Account2)"
      ],
      "cell_type": "code",
      "metadata": {
        "colab": {
          "base_uri": "https://localhost:8080/"
        },
        "id": "EI2EQjsdKDIX",
        "outputId": "ce23cb6f-1c78-4245-fb72-3342e2e5ced5"
      },
      "execution_count": null,
      "outputs": [
        {
          "output_type": "stream",
          "name": "stdout",
          "text": [
            "Account 1\n",
            "Royce\n",
            "Chua\n",
            "1000\n",
            "Silver Street Quezon City\n",
            "Roycechua123@gmail.com\n",
            "\n",
            "Account 2\n",
            "John\n",
            "Doe\n",
            "2000\n",
            "Gold Street Quezon City\n",
            "JohnDoe@yahoo.com\n",
            "Deposit Complete\n",
            "1500\n",
            "Deposit Complete\n",
            "2300\n"
          ]
        }
      ]
    },
    {
      "cell_type": "markdown",
      "source": [
        "Create the Constructor in each Class"
      ],
      "metadata": {
        "id": "3Mp-LtIUIBQP"
      }
    },
    {
      "cell_type": "code",
      "source": [
        "\"\"\"\n",
        "  Accounts.py\n",
        "\"\"\"\n",
        "\n",
        "class Accounts():\n",
        "  def __init__ (self, account_number, account_firstname, account_lastname, current_balance, address, email):\n",
        "    self.account_number = account_number\n",
        "    self.account_firstname = account_firstname\n",
        "    self.account_lastname = account_lastname\n",
        "    self.current_balance = current_balance\n",
        "    self.address = address\n",
        "    self.email = email\n",
        "\n",
        "    def update_address(self, new_address):\n",
        "      self.address = new_address\n",
        "\n",
        "    def update_email(self, new_email):\n",
        "      self.email = new_email"
      ],
      "metadata": {
        "id": "uBTLCmzWIEEv"
      },
      "execution_count": null,
      "outputs": []
    },
    {
      "cell_type": "code",
      "source": [
        "\"\"\"\n",
        "  main.py\n",
        "\"\"\"\n",
        "\n",
        "\n",
        "Account1 = Accounts(account_number=123456,account_firstname=\"Royce\",account_lastname=\"Chua\",current_balance=1000,address=\"Silver Street Quezon City\",email=\"Roycechua123@gmail.com\")\n",
        "\n",
        "print(\"Account 1\")\n",
        "print(Account1.account_firstname)\n",
        "print(Account1.account_lastname)\n",
        "print(Account1.current_balance)\n",
        "print(Account1.address)\n",
        "print(Account1.email)\n",
        "\n",
        "print()\n",
        "\n",
        "Account2 = Accounts(account_number=654321,account_firstname=\"John\",account_lastname=\"Doe\",current_balance=2000,address=\"Gold Street Quezon City\",email=\"JohnDoe@yahoo.com\")"
      ],
      "metadata": {
        "colab": {
          "base_uri": "https://localhost:8080/"
        },
        "id": "H3th0NrcHWj3",
        "outputId": "f1db5cdd-219e-480f-8bdf-8d8360753b7f"
      },
      "execution_count": null,
      "outputs": [
        {
          "output_type": "stream",
          "name": "stdout",
          "text": [
            "Account 1\n",
            "Royce\n",
            "Chua\n",
            "1000\n",
            "Silver Street Quezon City\n",
            "Roycechua123@gmail.com\n",
            "\n"
          ]
        }
      ]
    },
    {
      "cell_type": "markdown",
      "source": [
        "# **Supplementary Activity:**"
      ],
      "metadata": {
        "id": "NjRgX0PbK5ZH"
      }
    },
    {
      "cell_type": "markdown",
      "source": [
        "1.\tModify the ATM.py program and add the constructor function."
      ],
      "metadata": {
        "id": "YlIno4xxOtHQ"
      }
    },
    {
      "cell_type": "code",
      "source": [
        "\"\"\"\n",
        "  ATM.py\n",
        "\"\"\"\n",
        "class ATM():\n",
        "  def __init__(self, serial_number=0):\n",
        "    self.serial_number = serial_number\n",
        "\n",
        "  def deposit(self, account, amount):\n",
        "    account.current_balance = account.current_balance + amount\n",
        "    print (\"Deposit Complete\")\n",
        "  def withdraw(self, account, amount):\n",
        "    account.current_balance = account.current_balance - amount\n",
        "    print (\"Withdrawal Complete\")\n",
        "  def check_currentbalance(self, account):\n",
        "    account.current_balance"
      ],
      "metadata": {
        "id": "4f-Bw4XJQLwH"
      },
      "execution_count": 3,
      "outputs": []
    },
    {
      "cell_type": "markdown",
      "source": [
        "2.\tModify the main.py program and initialize the ATM machine with any integer serial number combination and display the serial number at the end of the program"
      ],
      "metadata": {
        "id": "yBrqLfywrKhI"
      }
    },
    {
      "cell_type": "code",
      "source": [
        "class Accounts:\n",
        "    def __init__(self, account_number, account_firstname, account_lastname, current_balance, address, email):\n",
        "        self.account_number = account_number\n",
        "        self.account_firstname = account_firstname\n",
        "        self.account_lastname = account_lastname\n",
        "        self.current_balance = current_balance\n",
        "        self.address = address\n",
        "        self.email = email\n",
        "\n",
        "class ATM:\n",
        "    def __init__(self, serial_number):\n",
        "        self.serial_number = serial_number\n",
        "        self.transaction_history = []\n",
        "\n",
        "    def deposit(self, account, amount):\n",
        "        account.current_balance += amount\n",
        "        transaction = f\"Deposited {amount} to {account.account_firstname} {account.account_lastname}'s account.\"\n",
        "        self.transaction_history.append(transaction)\n",
        "        print(transaction)\n",
        "\n",
        "    def check_currentbalance(self, account):\n",
        "        print(f\"Current balance for {account.account_firstname} {account.account_lastname}: {account.current_balance}\")\n",
        "\n",
        "    def view_transactionsummary(self):\n",
        "        if self.transaction_history:\n",
        "            print(\"Transaction History:\")\n",
        "            for transaction in self.transaction_history:\n",
        "                print(transaction)\n",
        "        else:\n",
        "            print(\"No transactions made yet.\")\n",
        "\n",
        "\n",
        "Account1 = Accounts(account_number=123456, account_firstname=\"Royce\", account_lastname=\"Chua\", current_balance=1000, address=\"Silver Street Quezon City\", email=\"Roycechua123@gmail.com\")\n",
        "Account2 = Accounts(account_number=654321, account_firstname=\"John\", account_lastname=\"Doe\", current_balance=2000, address=\"Gold Street Quezon City\", email=\"JohnDoe@yahoo.com\")\n",
        "\n",
        "\n",
        "print(\"Account 1\")\n",
        "print(Account1.account_firstname)\n",
        "print(Account1.account_lastname)\n",
        "print(Account1.current_balance)\n",
        "print(Account1.address)\n",
        "print(Account1.email)\n",
        "print()\n",
        "\n",
        "print(\"Account 2\")\n",
        "print(Account2.account_firstname)\n",
        "print(Account2.account_lastname)\n",
        "print(Account2.current_balance)\n",
        "print(Account2.address)\n",
        "print(Account2.email)\n",
        "print()"
      ],
      "metadata": {
        "colab": {
          "base_uri": "https://localhost:8080/"
        },
        "id": "H5t1_ei9rdgW",
        "outputId": "8ded0757-de70-457b-b37f-e7609cd5fb23"
      },
      "execution_count": 17,
      "outputs": [
        {
          "output_type": "stream",
          "name": "stdout",
          "text": [
            "Account 1\n",
            "Royce\n",
            "Chua\n",
            "1000\n",
            "Silver Street Quezon City\n",
            "Roycechua123@gmail.com\n",
            "\n",
            "Account 2\n",
            "John\n",
            "Doe\n",
            "2000\n",
            "Gold Street Quezon City\n",
            "JohnDoe@yahoo.com\n",
            "\n"
          ]
        }
      ]
    },
    {
      "cell_type": "markdown",
      "source": [
        "3.\tModify the ATM.py program and add the view_transactionsummary() method. The method should display all the transaction made in the ATM object\n"
      ],
      "metadata": {
        "id": "u6sZYG93sSQY"
      }
    },
    {
      "cell_type": "code",
      "source": [
        "\n",
        "ATM1 = ATM(serial_number=987654321)\n",
        "\n",
        "ATM1.deposit(Account1, 500)\n",
        "ATM1.check_currentbalance(Account1)\n",
        "print()\n",
        "ATM1.deposit(Account2, 300)\n",
        "ATM1.check_currentbalance(Account2)\n",
        "print()\n",
        "\n",
        "ATM1.view_transactionsummary()\n",
        "\n",
        "print(f\"ATM Serial Number: {ATM1.serial_number}\")"
      ],
      "metadata": {
        "colab": {
          "base_uri": "https://localhost:8080/"
        },
        "id": "c7EKMwQP5HVj",
        "outputId": "80ffa97b-fd59-4704-885d-2915a1d85498"
      },
      "execution_count": 19,
      "outputs": [
        {
          "output_type": "stream",
          "name": "stdout",
          "text": [
            "Deposited 500 to Royce Chua's account.\n",
            "Current balance for Royce Chua: 2000\n",
            "\n",
            "Deposited 300 to John Doe's account.\n",
            "Current balance for John Doe: 2600\n",
            "\n",
            "Transaction History:\n",
            "Deposited 500 to Royce Chua's account.\n",
            "Deposited 300 to John Doe's account.\n",
            "ATM Serial Number: 987654321\n"
          ]
        }
      ]
    }
  ]
}