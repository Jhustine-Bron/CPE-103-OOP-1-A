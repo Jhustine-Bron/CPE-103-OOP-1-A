{
  "nbformat": 4,
  "nbformat_minor": 0,
  "metadata": {
    "colab": {
      "provenance": [],
      "authorship_tag": "ABX9TyMvPF6ojPu5Ay84Ynvy+Fv/",
      "include_colab_link": true
    },
    "kernelspec": {
      "name": "python3",
      "display_name": "Python 3"
    },
    "language_info": {
      "name": "python"
    }
  },
  "cells": [
    {
      "cell_type": "markdown",
      "metadata": {
        "id": "view-in-github",
        "colab_type": "text"
      },
      "source": [
        "<a href=\"https://colab.research.google.com/github/Jhustine-Bron/CPE-103-OOP-1-A/blob/main/OOP_CONCEPTS.ipynb\" target=\"_parent\"><img src=\"https://colab.research.google.com/assets/colab-badge.svg\" alt=\"Open In Colab\"/></a>"
      ]
    },
    {
      "cell_type": "markdown",
      "source": [
        "Class Constructor"
      ],
      "metadata": {
        "id": "Cwg7m7ZrDOMS"
      }
    },
    {
      "cell_type": "code",
      "source": [
        "class Car:\n",
        "  def __init__(self, name, color):\n",
        "    self.name = name    #attributes\n",
        "    self.color = color"
      ],
      "metadata": {
        "id": "LY0wNQc8DS5i"
      },
      "execution_count": null,
      "outputs": []
    },
    {
      "cell_type": "markdown",
      "source": [
        "Class Methods"
      ],
      "metadata": {
        "id": "MjStoX3sDUpq"
      }
    },
    {
      "cell_type": "code",
      "source": [
        "class Car:     #parent class\n",
        "  car_type = \"Sedan\"\n",
        "\n",
        "  def __init__(self, name, mileage):\n",
        "    self.name = name\n",
        "    self.mileage = mileage\n",
        "\n",
        "  def description(self):\n",
        "    return \"Tje {self.name} car gives the mileage of {self.mileage}km/l\"\n",
        "\n",
        "  def max_speed(self, speed):\n",
        "    return \"The {self.name} runs at the maximum speed of {speed}km/hr\"\n"
      ],
      "metadata": {
        "id": "J8VhiHvADVuC"
      },
      "execution_count": null,
      "outputs": []
    },
    {
      "cell_type": "markdown",
      "source": [
        "Multiple Objects with the same class"
      ],
      "metadata": {
        "id": "o2rwJdf3DX0i"
      }
    },
    {
      "cell_type": "code",
      "source": [
        "class Car:    #parent class\n",
        "\n",
        "  def __init__(self, name, mileage):\n",
        "    self.name = name\n",
        "    self.mileage = mileage\n",
        "\n",
        "  def description(self):\n",
        "    return f\"The {self.name} car gives the mileage of {self.mileage} km/l\"\n",
        "\n",
        "class BMW(Car):    #child pass\n",
        "  pass\n",
        "\n",
        "class Audi(Car):   #child pass\n",
        "  def audi_desc(self):\n",
        "    return \"This is the description method of class Audi.\"\n",
        "\n",
        "bmw= BMW(\"BMW 7-series\", 39.53)\n",
        "print(bmw.description())\n",
        "\n",
        "audi = Audi(\"Audi A8 L\", 14)\n",
        "print(audi.description())\n",
        "print(audi.audi_desc())\n"
      ],
      "metadata": {
        "colab": {
          "base_uri": "https://localhost:8080/"
        },
        "id": "oaUxlExVDY95",
        "outputId": "f2fabfdd-eb49-4e6b-fded-ec9022db08a8"
      },
      "execution_count": 4,
      "outputs": [
        {
          "output_type": "stream",
          "name": "stdout",
          "text": [
            "The BMW 7-series car gives the mileage of 39.53 km/l\n",
            "The Audi A8 L car gives the mileage of 14 km/l\n",
            "This is the description method of class Audi.\n"
          ]
        }
      ]
    },
    {
      "cell_type": "markdown",
      "source": [
        "Apply the OOP concept like class constructor, methods, and inheritance to describe the sides of shapes"
      ],
      "metadata": {
        "id": "FisIaKOKEP3q"
      }
    },
    {
      "cell_type": "code",
      "source": [
        "class Shape:\n",
        "\n",
        "  def __init__(self, name, side):\n",
        "    self.name = name\n",
        "    self.side = side\n",
        "\n",
        "  def description(self):\n",
        "    return f\"The {self.name} has {self.side} sides\"\n",
        "\n",
        "class Circle(Shape):\n",
        "  pass\n",
        "\n",
        "class Square(Shape):\n",
        "  def box_desc(self):\n",
        "    pass\n",
        "\n",
        "class Triangle(Shape):\n",
        "  def triangle_desc(self):\n",
        "    pass\n",
        "\n",
        "\n",
        "circle= Circle(\"Circle\", 0)\n",
        "print(circle.description())\n",
        "\n",
        "box= Square(\"Square\", 4)\n",
        "print(box.description())\n",
        "\n",
        "triangle= Triangle(\"Triangle\", 3)\n",
        "print(triangle.description())\n",
        "\n",
        "\n"
      ],
      "metadata": {
        "colab": {
          "base_uri": "https://localhost:8080/"
        },
        "id": "9BGogvntEnEy",
        "outputId": "8b3f6319-1210-4c4d-d862-65595681dc7c"
      },
      "execution_count": 24,
      "outputs": [
        {
          "output_type": "stream",
          "name": "stdout",
          "text": [
            "The Circle has 0 sides\n",
            "The Square has 4 sides\n",
            "The Triangle has 3 sides\n"
          ]
        }
      ]
    }
  ]
}