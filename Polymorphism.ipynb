{
  "nbformat": 4,
  "nbformat_minor": 0,
  "metadata": {
    "colab": {
      "provenance": [],
      "authorship_tag": "ABX9TyNwG8uvnuG/DL7VSwaoKn3c",
      "include_colab_link": true
    },
    "kernelspec": {
      "name": "python3",
      "display_name": "Python 3"
    },
    "language_info": {
      "name": "python"
    }
  },
  "cells": [
    {
      "cell_type": "markdown",
      "metadata": {
        "id": "view-in-github",
        "colab_type": "text"
      },
      "source": [
        "<a href=\"https://colab.research.google.com/github/Jhustine-Bron/CPE-103-OOP-1-A/blob/main/Polymorphism.ipynb\" target=\"_parent\"><img src=\"https://colab.research.google.com/assets/colab-badge.svg\" alt=\"Open In Colab\"/></a>"
      ]
    },
    {
      "cell_type": "markdown",
      "source": [
        "**Creating the Classes**"
      ],
      "metadata": {
        "id": "IFPnk8K7UPuO"
      }
    },
    {
      "cell_type": "code",
      "execution_count": 10,
      "metadata": {
        "colab": {
          "base_uri": "https://localhost:8080/"
        },
        "id": "3UwB9WPlRmhD",
        "outputId": "3e941606-9945-4310-95ee-e0ac43751ed8"
      },
      "outputs": [
        {
          "output_type": "stream",
          "name": "stdout",
          "text": [
            "Enter feet and inches of distance1: 12 24\n",
            "Enter feet and inches of distance2: 13 25\n",
            "Distance2 is greater or equal to Distance1\n",
            "Sum of the two Distance is:\n",
            "Feet =  26 Inches =  37\n"
          ]
        }
      ],
      "source": [
        "class distance:\n",
        "  def __init__\t(self, f,i):\n",
        "    self.feet=f\n",
        "    self.inches=i\n",
        "  def __gt__\t(self,d):\n",
        "    if(self.feet>d.feet):\n",
        "      return(True)\n",
        "    elif((self.feet==d.feet) and (self.inches>d.inches)):\n",
        "      return(True)\n",
        "    else:\n",
        "      return(False)\n",
        "  def __add__\t(self, d):\n",
        "    i=self.inches + d.inches\n",
        "    f=self.feet + d.feet\n",
        "    if(i>=12):\n",
        "      i=i-12\n",
        "      f=f+1\n",
        "    return distance(f,i)\n",
        "  def show(self):\n",
        "    print(\"Feet = \", self.feet, \"Inches = \",self.inches)\n",
        "a,b= (input(\"Enter feet and inches of distance1: \")).split()\n",
        "a,b =[int(a),int(b)]\n",
        "c,d= (input(\"Enter feet and inches of distance2: \")).split()\n",
        "c,d =[int(c),int(d)]\n",
        "d1 = distance(a,b)\n",
        "d2 = distance(c,d)\n",
        "if(d1>d2):\n",
        "  print(\"Distance1 is greater than Distance2\")\n",
        "else:\n",
        "  print(\"Distance2 is greater or equal to Distance1\")\n",
        "d3=d1+d2\n",
        "print(\"Sum of the two Distance is:\")\n",
        "d3.show()\n"
      ]
    },
    {
      "cell_type": "markdown",
      "source": [
        "**Testing and Observing Polymorphism**"
      ],
      "metadata": {
        "id": "YtWq_wYKUSfP"
      }
    },
    {
      "cell_type": "code",
      "source": [
        "#polymorphism_b\n",
        "class RegularPolygon:\n",
        "  def __init__ (self, side):\n",
        "    self._side = side\n",
        "class Square (RegularPolygon):\n",
        "  def area (self):\n",
        "    return self._side * self._side\n",
        "class EquilateralTriangle (RegularPolygon):\n",
        "  def area (self):\n",
        "    return self._side * self._side * 0.433\n",
        "\n",
        "obj1  = Square (4)\n",
        "obj2 = EquilateralTriangle (3)\n",
        "\n",
        "print (obj1.area())\n",
        "print (obj2.area())"
      ],
      "metadata": {
        "colab": {
          "base_uri": "https://localhost:8080/"
        },
        "id": "JNRJgAicUH9P",
        "outputId": "34f322a3-dbff-4458-ce7b-ae46e018cfc7"
      },
      "execution_count": 11,
      "outputs": [
        {
          "output_type": "stream",
          "name": "stdout",
          "text": [
            "16\n",
            "3.897\n"
          ]
        }
      ]
    },
    {
      "cell_type": "markdown",
      "source": [
        "# **Supplementary Activity:**"
      ],
      "metadata": {
        "id": "WrSGjZRcWH-v"
      }
    },
    {
      "cell_type": "markdown",
      "source": [
        "In the above program of a Regular polygon, add three more shapes and solve for their area using each proper formula. Take a screenshot of each output and describe each by typing your proper labeling."
      ],
      "metadata": {
        "id": "Ia5DkwuDWSag"
      }
    },
    {
      "cell_type": "code",
      "source": [
        "import math\n",
        "\n",
        "class RegularPolygon:\n",
        "  def __init__(self, side):\n",
        "    self._side = side\n",
        "\n",
        "class Square(RegularPolygon):\n",
        "  def area(self):\n",
        "    return self._side * self._side\n",
        "\n",
        "class EquilateralTriangle(RegularPolygon):\n",
        "  def area(self):\n",
        "    return self._side * self._side * 0.433\n",
        "\n",
        "class Circle(RegularPolygon):\n",
        "  def area(self):\n",
        "    return (math.pi) * (self._side**2)\n",
        "\n",
        "class Trapezoid(RegularPolygon):\n",
        "  def __init__(self, side, base_a, base_b, height):\n",
        "    super().__init__(side)\n",
        "    self._base_a = base_a\n",
        "    self._base_b = base_b\n",
        "    self._height = height\n",
        "  def area(self):\n",
        "    return 0.5 * (self._base_a + self._base_b) * self._height\n",
        "\n",
        "class Rectangle(RegularPolygon):\n",
        "  def __init__(self, side, side2,):\n",
        "    super().__init__(side)\n",
        "    self._side2 = side2\n",
        "  def area(self):\n",
        "    return self._side * self._side2\n",
        "\n",
        "obj1 = Square(4)\n",
        "obj2 = EquilateralTriangle(3)\n",
        "obj3 = Circle(5)\n",
        "obj4 = Trapezoid(0, 5, 7, 4)\n",
        "obj5 = Rectangle(7, 8)\n",
        "\n",
        "print(\"Area of Square:\", obj1.area())\n",
        "print(\"Area of Equilateral Triangle:\", obj2.area())\n",
        "print(\"Area of Circle:\", obj3.area())\n",
        "print(\"Area of Trapezoid:\", obj4.area())\n",
        "print(\"Area of Rectangle:\", obj5.area())"
      ],
      "metadata": {
        "colab": {
          "base_uri": "https://localhost:8080/"
        },
        "id": "15bqRNehWLiX",
        "outputId": "5211cfd1-0eb3-48ea-878b-87dee53ca9a0"
      },
      "execution_count": 18,
      "outputs": [
        {
          "output_type": "stream",
          "name": "stdout",
          "text": [
            "Area of Square: 16\n",
            "Area of Equilateral Triangle: 3.897\n",
            "Area of Circle: 78.53981633974483\n",
            "Area of Trapezoid: 24.0\n",
            "Area of Rectangle: 56\n"
          ]
        }
      ]
    }
  ]
}