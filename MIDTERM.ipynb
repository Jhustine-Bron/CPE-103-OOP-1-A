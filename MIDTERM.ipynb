{
  "nbformat": 4,
  "nbformat_minor": 0,
  "metadata": {
    "colab": {
      "provenance": [],
      "authorship_tag": "ABX9TyP1Gp+6hdWqPBKD65oV8p/0",
      "include_colab_link": true
    },
    "kernelspec": {
      "name": "python3",
      "display_name": "Python 3"
    },
    "language_info": {
      "name": "python"
    }
  },
  "cells": [
    {
      "cell_type": "markdown",
      "metadata": {
        "id": "view-in-github",
        "colab_type": "text"
      },
      "source": [
        "<a href=\"https://colab.research.google.com/github/Jhustine-Bron/CPE-103-OOP-1-A/blob/main/MIDTERM.ipynb\" target=\"_parent\"><img src=\"https://colab.research.google.com/assets/colab-badge.svg\" alt=\"Open In Colab\"/></a>"
      ]
    },
    {
      "cell_type": "markdown",
      "source": [
        "**1-10**\n",
        "\n",
        "ANSWER: *B*"
      ],
      "metadata": {
        "id": "2lGURbkpTgBz"
      }
    },
    {
      "cell_type": "code",
      "execution_count": 6,
      "metadata": {
        "colab": {
          "base_uri": "https://localhost:8080/"
        },
        "id": "3HETI2UFTUIO",
        "outputId": "b8ccbb57-7085-4036-ce38-58ea559aabad"
      },
      "outputs": [
        {
          "output_type": "stream",
          "name": "stdout",
          "text": [
            "1\n",
            "2\n"
          ]
        }
      ],
      "source": [
        "i = 1\n",
        "while True:\n",
        "  if i%3 == 0:\n",
        "    break\n",
        "  print(i)\n",
        "\n",
        "  i += 1"
      ]
    },
    {
      "cell_type": "markdown",
      "source": [
        "**11 - 20**\n",
        "\n",
        "ANSWER: *A*"
      ],
      "metadata": {
        "id": "wnNl2RWHTqQ6"
      }
    },
    {
      "cell_type": "code",
      "source": [
        "i = 0\n",
        "while i < 5:\n",
        "  print(i)\n",
        "  i += 1\n",
        "  if i == 3:\n",
        "    break\n",
        "else:\n",
        "  print(0)"
      ],
      "metadata": {
        "colab": {
          "base_uri": "https://localhost:8080/"
        },
        "id": "sAQQ641bTtnk",
        "outputId": "e2a031a4-b95f-4d24-8fdd-88903a7998b6"
      },
      "execution_count": 7,
      "outputs": [
        {
          "output_type": "stream",
          "name": "stdout",
          "text": [
            "0\n",
            "1\n",
            "2\n"
          ]
        }
      ]
    },
    {
      "cell_type": "markdown",
      "source": [
        "**21 - 30**\n",
        "\n",
        "ANSWER: *A*"
      ],
      "metadata": {
        "id": "8VpAE-p0UTa5"
      }
    },
    {
      "cell_type": "code",
      "source": [
        "def f1():\n",
        "  x=15\n",
        "  print(x)\n",
        "x=12\n",
        "f1()"
      ],
      "metadata": {
        "colab": {
          "base_uri": "https://localhost:8080/"
        },
        "id": "GtbIUajgUVe_",
        "outputId": "563978d5-df3f-4ba7-e2d3-701e635f6bf7"
      },
      "execution_count": 20,
      "outputs": [
        {
          "output_type": "stream",
          "name": "stdout",
          "text": [
            "15\n"
          ]
        }
      ]
    },
    {
      "cell_type": "markdown",
      "source": [
        "**31 - 40**\n",
        "\n",
        "ANSWER: *B*"
      ],
      "metadata": {
        "id": "ZC_XWuRlUldB"
      }
    },
    {
      "cell_type": "code",
      "source": [
        "class Person():\n",
        "  def __init__(self):\n",
        "    self.__name=\"Default Name\"\n",
        "\n",
        "person1 = Person()\n",
        "print(self.__name)"
      ],
      "metadata": {
        "colab": {
          "base_uri": "https://localhost:8080/",
          "height": 176
        },
        "id": "Fw6ankj5Umcs",
        "outputId": "198245cf-b199-4951-c5ef-e8f330bb467b"
      },
      "execution_count": 18,
      "outputs": [
        {
          "output_type": "error",
          "ename": "NameError",
          "evalue": "name 'self' is not defined",
          "traceback": [
            "\u001b[0;31m---------------------------------------------------------------------------\u001b[0m",
            "\u001b[0;31mNameError\u001b[0m                                 Traceback (most recent call last)",
            "\u001b[0;32m<ipython-input-18-1d2fd7a478cc>\u001b[0m in \u001b[0;36m<cell line: 0>\u001b[0;34m()\u001b[0m\n\u001b[1;32m      4\u001b[0m \u001b[0;34m\u001b[0m\u001b[0m\n\u001b[1;32m      5\u001b[0m \u001b[0mperson1\u001b[0m \u001b[0;34m=\u001b[0m \u001b[0mPerson\u001b[0m\u001b[0;34m(\u001b[0m\u001b[0;34m)\u001b[0m\u001b[0;34m\u001b[0m\u001b[0;34m\u001b[0m\u001b[0m\n\u001b[0;32m----> 6\u001b[0;31m \u001b[0mprint\u001b[0m\u001b[0;34m(\u001b[0m\u001b[0mself\u001b[0m\u001b[0;34m.\u001b[0m\u001b[0m__name\u001b[0m\u001b[0;34m)\u001b[0m\u001b[0;34m\u001b[0m\u001b[0;34m\u001b[0m\u001b[0m\n\u001b[0m",
            "\u001b[0;31mNameError\u001b[0m: name 'self' is not defined"
          ]
        }
      ]
    },
    {
      "cell_type": "markdown",
      "source": [
        "**41 - 60**\n",
        "\n",
        "ANSWER: *C*"
      ],
      "metadata": {
        "id": "ZHn29XZGVAty"
      }
    },
    {
      "cell_type": "code",
      "source": [
        "class Person():\n",
        "  def __init__(self):\n",
        "    self.__name= \"Default Name\"\n",
        "\n",
        "person1 = Person()\n",
        "person2 = Person()\n",
        "print(person1)\n",
        "print(person2)"
      ],
      "metadata": {
        "colab": {
          "base_uri": "https://localhost:8080/"
        },
        "id": "6iuAzt1sVDFk",
        "outputId": "c0da17e2-7f58-4680-8b9f-f65437869931"
      },
      "execution_count": 14,
      "outputs": [
        {
          "output_type": "stream",
          "name": "stdout",
          "text": [
            "<__main__.Person object at 0x7fd1f5666b90>\n",
            "<__main__.Person object at 0x7fd1f4f563d0>\n"
          ]
        }
      ]
    },
    {
      "cell_type": "markdown",
      "source": [
        "**61 - 80**\n",
        "\n",
        "ANSWER: *A*"
      ],
      "metadata": {
        "id": "37hy1L8FVkLq"
      }
    },
    {
      "cell_type": "code",
      "source": [
        "class Student():\n",
        "  def __init__(self, student_number, name):\n",
        "    self.stu_number= student_number\n",
        "    self.stu_name= name\n",
        "\n",
        "class DSCOfficer(Student):\n",
        "  def __init__(self,department):\n",
        "    self.department = department\n",
        "    self.event_list = []\n",
        "\n",
        "  def initiateEvent(self, name):\n",
        "    self.event_list.append({\"name\":name})\n",
        "\n",
        "officer1 = DSCOfficer(\"CpE\")\n",
        "officer1.initiateEvent(\"General Assembly\")\n",
        "print(officer1.event_list)\n",
        "\n"
      ],
      "metadata": {
        "colab": {
          "base_uri": "https://localhost:8080/"
        },
        "id": "eITGqjmgVn-r",
        "outputId": "269b10d9-4113-4c81-a586-8eb8be45d59b"
      },
      "execution_count": 17,
      "outputs": [
        {
          "output_type": "stream",
          "name": "stdout",
          "text": [
            "[{'name': 'General Assembly'}]\n"
          ]
        }
      ]
    }
  ]
}