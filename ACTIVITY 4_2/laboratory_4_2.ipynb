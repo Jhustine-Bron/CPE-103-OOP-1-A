{
  "nbformat": 4,
  "nbformat_minor": 0,
  "metadata": {
    "colab": {
      "provenance": [],
      "authorship_tag": "ABX9TyMCqa2piP+oOWzAzoXfKYYD",
      "include_colab_link": true
    },
    "kernelspec": {
      "name": "python3",
      "display_name": "Python 3"
    },
    "language_info": {
      "name": "python"
    }
  },
  "cells": [
    {
      "cell_type": "markdown",
      "metadata": {
        "id": "view-in-github",
        "colab_type": "text"
      },
      "source": [
        "<a href=\"https://colab.research.google.com/github/Jhustine-Bron/CPE-103-OOP-1-A/blob/main/laboratory_4_2.ipynb\" target=\"_parent\"><img src=\"https://colab.research.google.com/assets/colab-badge.svg\" alt=\"Open In Colab\"/></a>"
      ]
    },
    {
      "cell_type": "markdown",
      "source": [
        "A string is a sequence"
      ],
      "metadata": {
        "id": "aMU1TkJgnwSK"
      }
    },
    {
      "cell_type": "code",
      "source": [
        "fruit = 'banana'\n",
        "letter = fruit[1]"
      ],
      "metadata": {
        "id": "wJjJ58nSnx51"
      },
      "execution_count": 2,
      "outputs": []
    },
    {
      "cell_type": "code",
      "source": [
        "print(letter)"
      ],
      "metadata": {
        "colab": {
          "base_uri": "https://localhost:8080/"
        },
        "id": "hOyd00Y7n1Kp",
        "outputId": "6a5a919f-3e3f-47e3-a841-105c3c91faf8"
      },
      "execution_count": 4,
      "outputs": [
        {
          "output_type": "stream",
          "name": "stdout",
          "text": [
            "a\n"
          ]
        }
      ]
    },
    {
      "cell_type": "code",
      "source": [
        "letter = fruit[0]\n",
        "print(letter)"
      ],
      "metadata": {
        "colab": {
          "base_uri": "https://localhost:8080/"
        },
        "id": "DLzgxDR0n2H6",
        "outputId": "633b6116-965c-4be3-c376-8959cb60e1a8"
      },
      "execution_count": 10,
      "outputs": [
        {
          "output_type": "stream",
          "name": "stdout",
          "text": [
            "b\n"
          ]
        }
      ]
    },
    {
      "cell_type": "code",
      "source": [
        "letter = fruit[1.5]"
      ],
      "metadata": {
        "colab": {
          "base_uri": "https://localhost:8080/",
          "height": 141
        },
        "id": "w1f4ZtMYn7NB",
        "outputId": "7a113f6d-8967-4dcf-c6c2-52b39feebba2"
      },
      "execution_count": 11,
      "outputs": [
        {
          "output_type": "error",
          "ename": "TypeError",
          "evalue": "string indices must be integers, not 'float'",
          "traceback": [
            "\u001b[0;31m---------------------------------------------------------------------------\u001b[0m",
            "\u001b[0;31mTypeError\u001b[0m                                 Traceback (most recent call last)",
            "\u001b[0;32m<ipython-input-11-bb89ba6efbbd>\u001b[0m in \u001b[0;36m<cell line: 0>\u001b[0;34m()\u001b[0m\n\u001b[0;32m----> 1\u001b[0;31m \u001b[0mletter\u001b[0m \u001b[0;34m=\u001b[0m \u001b[0mfruit\u001b[0m\u001b[0;34m[\u001b[0m\u001b[0;36m1.5\u001b[0m\u001b[0;34m]\u001b[0m\u001b[0;34m\u001b[0m\u001b[0;34m\u001b[0m\u001b[0m\n\u001b[0m",
            "\u001b[0;31mTypeError\u001b[0m: string indices must be integers, not 'float'"
          ]
        }
      ]
    },
    {
      "cell_type": "markdown",
      "source": [
        "Getting the length of a string using len"
      ],
      "metadata": {
        "id": "z70Hgq4hoKKh"
      }
    },
    {
      "cell_type": "code",
      "source": [
        "fruit = 'banana'\n",
        "len(fruit)"
      ],
      "metadata": {
        "colab": {
          "base_uri": "https://localhost:8080/"
        },
        "id": "gmTtQwYsoLSy",
        "outputId": "62f8213d-b1fe-45f6-c4c7-034ca3cccd3f"
      },
      "execution_count": 12,
      "outputs": [
        {
          "output_type": "execute_result",
          "data": {
            "text/plain": [
              "6"
            ]
          },
          "metadata": {},
          "execution_count": 12
        }
      ]
    },
    {
      "cell_type": "code",
      "source": [
        "length = len(fruit)\n",
        "last = fruit[length]"
      ],
      "metadata": {
        "colab": {
          "base_uri": "https://localhost:8080/",
          "height": 159
        },
        "id": "Hd5j3aCuoOgE",
        "outputId": "833ec501-d5cb-4d9b-d62b-55134c789354"
      },
      "execution_count": 13,
      "outputs": [
        {
          "output_type": "error",
          "ename": "IndexError",
          "evalue": "string index out of range",
          "traceback": [
            "\u001b[0;31m---------------------------------------------------------------------------\u001b[0m",
            "\u001b[0;31mIndexError\u001b[0m                                Traceback (most recent call last)",
            "\u001b[0;32m<ipython-input-13-4dd85e09c2d1>\u001b[0m in \u001b[0;36m<cell line: 0>\u001b[0;34m()\u001b[0m\n\u001b[1;32m      1\u001b[0m \u001b[0mlength\u001b[0m \u001b[0;34m=\u001b[0m \u001b[0mlen\u001b[0m\u001b[0;34m(\u001b[0m\u001b[0mfruit\u001b[0m\u001b[0;34m)\u001b[0m\u001b[0;34m\u001b[0m\u001b[0;34m\u001b[0m\u001b[0m\n\u001b[0;32m----> 2\u001b[0;31m \u001b[0mlast\u001b[0m \u001b[0;34m=\u001b[0m \u001b[0mfruit\u001b[0m\u001b[0;34m[\u001b[0m\u001b[0mlength\u001b[0m\u001b[0;34m]\u001b[0m\u001b[0;34m\u001b[0m\u001b[0;34m\u001b[0m\u001b[0m\n\u001b[0m",
            "\u001b[0;31mIndexError\u001b[0m: string index out of range"
          ]
        }
      ]
    },
    {
      "cell_type": "code",
      "source": [
        "last = fruit[length-1]\n",
        "print(last)"
      ],
      "metadata": {
        "colab": {
          "base_uri": "https://localhost:8080/"
        },
        "id": "A1lKd-PjoRcl",
        "outputId": "b52c554c-d6b9-47e7-fdfd-d4b5f41dbe82"
      },
      "execution_count": 14,
      "outputs": [
        {
          "output_type": "stream",
          "name": "stdout",
          "text": [
            "a\n"
          ]
        }
      ]
    },
    {
      "cell_type": "markdown",
      "source": [
        "Traversal through a string with a loop"
      ],
      "metadata": {
        "id": "EYusVB-5oflL"
      }
    },
    {
      "cell_type": "code",
      "source": [
        "index = 0\n",
        "while index < len(fruit):\n",
        "  letter = fruit[index]\n",
        "  print(letter)\n",
        "  index = index + 1"
      ],
      "metadata": {
        "colab": {
          "base_uri": "https://localhost:8080/"
        },
        "id": "rG5zDjKnog3O",
        "outputId": "8265b4df-d42f-4eb1-e110-be2bc759c3c4"
      },
      "execution_count": 15,
      "outputs": [
        {
          "output_type": "stream",
          "name": "stdout",
          "text": [
            "b\n",
            "a\n",
            "n\n",
            "a\n",
            "n\n",
            "a\n"
          ]
        }
      ]
    },
    {
      "cell_type": "code",
      "source": [
        "for char in fruit:\n",
        "  print(char)"
      ],
      "metadata": {
        "colab": {
          "base_uri": "https://localhost:8080/"
        },
        "id": "RAEEJwFMo1gv",
        "outputId": "c2aaa943-9333-4417-c3b6-bdc2a918172f"
      },
      "execution_count": 16,
      "outputs": [
        {
          "output_type": "stream",
          "name": "stdout",
          "text": [
            "b\n",
            "a\n",
            "n\n",
            "a\n",
            "n\n",
            "a\n"
          ]
        }
      ]
    },
    {
      "cell_type": "markdown",
      "source": [
        "String Slices"
      ],
      "metadata": {
        "id": "jXbS_WX4o-Ab"
      }
    },
    {
      "cell_type": "code",
      "source": [
        "s = 'Monty Python'\n",
        "print(s[0.5])"
      ],
      "metadata": {
        "colab": {
          "base_uri": "https://localhost:8080/",
          "height": 159
        },
        "id": "E6lWumUko_M9",
        "outputId": "581bb2a8-f0bb-43cb-97aa-a6451eb459ae"
      },
      "execution_count": 5,
      "outputs": [
        {
          "output_type": "error",
          "ename": "TypeError",
          "evalue": "string indices must be integers, not 'float'",
          "traceback": [
            "\u001b[0;31m---------------------------------------------------------------------------\u001b[0m",
            "\u001b[0;31mTypeError\u001b[0m                                 Traceback (most recent call last)",
            "\u001b[0;32m<ipython-input-5-9633a862206b>\u001b[0m in \u001b[0;36m<cell line: 0>\u001b[0;34m()\u001b[0m\n\u001b[1;32m      1\u001b[0m \u001b[0ms\u001b[0m \u001b[0;34m=\u001b[0m \u001b[0;34m'Monty Python'\u001b[0m\u001b[0;34m\u001b[0m\u001b[0;34m\u001b[0m\u001b[0m\n\u001b[0;32m----> 2\u001b[0;31m \u001b[0mprint\u001b[0m\u001b[0;34m(\u001b[0m\u001b[0ms\u001b[0m\u001b[0;34m[\u001b[0m\u001b[0;36m0.5\u001b[0m\u001b[0;34m]\u001b[0m\u001b[0;34m)\u001b[0m\u001b[0;34m\u001b[0m\u001b[0;34m\u001b[0m\u001b[0m\n\u001b[0m",
            "\u001b[0;31mTypeError\u001b[0m: string indices must be integers, not 'float'"
          ]
        }
      ]
    },
    {
      "cell_type": "code",
      "source": [
        "print(s[6:12])"
      ],
      "metadata": {
        "colab": {
          "base_uri": "https://localhost:8080/"
        },
        "id": "XmJh6RihpDjz",
        "outputId": "a0a97dc3-35e2-439c-e27b-ab253fdf6fdc"
      },
      "execution_count": 6,
      "outputs": [
        {
          "output_type": "stream",
          "name": "stdout",
          "text": [
            "Python\n"
          ]
        }
      ]
    },
    {
      "cell_type": "code",
      "source": [
        "fruit = 'banana'\n",
        "fruit[:3]"
      ],
      "metadata": {
        "colab": {
          "base_uri": "https://localhost:8080/",
          "height": 35
        },
        "id": "dTbVToG8pFk9",
        "outputId": "be909f6e-e83d-4c5b-e370-c984773be1df"
      },
      "execution_count": 7,
      "outputs": [
        {
          "output_type": "execute_result",
          "data": {
            "text/plain": [
              "'ban'"
            ],
            "application/vnd.google.colaboratory.intrinsic+json": {
              "type": "string"
            }
          },
          "metadata": {},
          "execution_count": 7
        }
      ]
    },
    {
      "cell_type": "code",
      "source": [
        "fruit[3:]"
      ],
      "metadata": {
        "colab": {
          "base_uri": "https://localhost:8080/",
          "height": 35
        },
        "id": "ixHLHn3upSOt",
        "outputId": "8e473c79-3e9f-4dbe-ae02-1b58fda5c3a7"
      },
      "execution_count": 8,
      "outputs": [
        {
          "output_type": "execute_result",
          "data": {
            "text/plain": [
              "'ana'"
            ],
            "application/vnd.google.colaboratory.intrinsic+json": {
              "type": "string"
            }
          },
          "metadata": {},
          "execution_count": 8
        }
      ]
    },
    {
      "cell_type": "code",
      "source": [
        "fruit = 'banana'\n",
        "fruit[3:3]"
      ],
      "metadata": {
        "colab": {
          "base_uri": "https://localhost:8080/",
          "height": 35
        },
        "id": "E7oRnxxGpGIT",
        "outputId": "4de8f890-80ca-4b6f-92bd-3cbd80727228"
      },
      "execution_count": 20,
      "outputs": [
        {
          "output_type": "execute_result",
          "data": {
            "text/plain": [
              "''"
            ],
            "application/vnd.google.colaboratory.intrinsic+json": {
              "type": "string"
            }
          },
          "metadata": {},
          "execution_count": 20
        }
      ]
    },
    {
      "cell_type": "markdown",
      "source": [
        "Strings are immutable"
      ],
      "metadata": {
        "id": "YaaWlxjMpzAT"
      }
    },
    {
      "cell_type": "code",
      "source": [
        "greeting = 'Hello, world!'\n",
        "greeting[0] = 'J'"
      ],
      "metadata": {
        "colab": {
          "base_uri": "https://localhost:8080/",
          "height": 159
        },
        "id": "PLI6E3dDp0Nu",
        "outputId": "dce9f669-e868-4125-f3de-0b43a6a16253"
      },
      "execution_count": 21,
      "outputs": [
        {
          "output_type": "error",
          "ename": "TypeError",
          "evalue": "'str' object does not support item assignment",
          "traceback": [
            "\u001b[0;31m---------------------------------------------------------------------------\u001b[0m",
            "\u001b[0;31mTypeError\u001b[0m                                 Traceback (most recent call last)",
            "\u001b[0;32m<ipython-input-21-217c78420f62>\u001b[0m in \u001b[0;36m<cell line: 0>\u001b[0;34m()\u001b[0m\n\u001b[1;32m      1\u001b[0m \u001b[0mgreeting\u001b[0m \u001b[0;34m=\u001b[0m \u001b[0;34m'Hello, world!'\u001b[0m\u001b[0;34m\u001b[0m\u001b[0;34m\u001b[0m\u001b[0m\n\u001b[0;32m----> 2\u001b[0;31m \u001b[0mgreeting\u001b[0m\u001b[0;34m[\u001b[0m\u001b[0;36m0\u001b[0m\u001b[0;34m]\u001b[0m \u001b[0;34m=\u001b[0m \u001b[0;34m'J'\u001b[0m\u001b[0;34m\u001b[0m\u001b[0;34m\u001b[0m\u001b[0m\n\u001b[0m",
            "\u001b[0;31mTypeError\u001b[0m: 'str' object does not support item assignment"
          ]
        }
      ]
    },
    {
      "cell_type": "code",
      "source": [
        "greeting = 'Hello, world!'\n",
        "new_greeting = 'J' + greeting[1:]\n",
        "print(new_greeting)"
      ],
      "metadata": {
        "colab": {
          "base_uri": "https://localhost:8080/"
        },
        "id": "kgOj3IZ0tkRO",
        "outputId": "f177d006-47b5-43df-8ac8-62a72c316ea8"
      },
      "execution_count": 22,
      "outputs": [
        {
          "output_type": "stream",
          "name": "stdout",
          "text": [
            "Jello, world!\n"
          ]
        }
      ]
    },
    {
      "cell_type": "markdown",
      "source": [
        "Looping and counting"
      ],
      "metadata": {
        "id": "DoJc0f6GuADE"
      }
    },
    {
      "cell_type": "code",
      "source": [
        "word = 'banana'\n",
        "count = 0\n",
        "for letter in word:\n",
        "  if letter == 'a':\n",
        "    count = count + 1\n",
        "print(count)"
      ],
      "metadata": {
        "colab": {
          "base_uri": "https://localhost:8080/"
        },
        "id": "ldfSb4piuBO1",
        "outputId": "de1becf0-1ec0-48e2-d219-398e02b175c5"
      },
      "execution_count": 23,
      "outputs": [
        {
          "output_type": "stream",
          "name": "stdout",
          "text": [
            "3\n"
          ]
        }
      ]
    },
    {
      "cell_type": "markdown",
      "source": [
        "SUPPLEMENTARY ACTIVITY\n"
      ],
      "metadata": {
        "id": "GnzPnmDmvKND"
      }
    },
    {
      "cell_type": "markdown",
      "source": [
        "1."
      ],
      "metadata": {
        "id": "L6KYgOUnvaUs"
      }
    },
    {
      "cell_type": "code",
      "source": [
        "str = 'CPE-CPE009A-2025: 0.8475'\n",
        "colon_index = str.find(':')\n",
        "number_part = str[colon_index + 1:]\n",
        "float_number = float(number_part)\n",
        "print(float_number)"
      ],
      "metadata": {
        "colab": {
          "base_uri": "https://localhost:8080/"
        },
        "id": "pxpfeuoOvMFd",
        "outputId": "63c48700-8414-48d1-b75c-bb4856243b53"
      },
      "execution_count": 24,
      "outputs": [
        {
          "output_type": "stream",
          "name": "stdout",
          "text": [
            "0.8475\n"
          ]
        }
      ]
    },
    {
      "cell_type": "markdown",
      "source": [
        "2."
      ],
      "metadata": {
        "id": "xp4UAguHvlMU"
      }
    },
    {
      "cell_type": "code",
      "source": [
        "name = input(\"Enter your first name: \")\n",
        "mid = len(name) // 2\n",
        "\n",
        "middle_three = name[mid - 1 : mid + 2]\n",
        "print(\"Middle three letters:\", middle_three)"
      ],
      "metadata": {
        "colab": {
          "base_uri": "https://localhost:8080/"
        },
        "id": "eWYxdTG_vlvj",
        "outputId": "11cd03d3-ef72-4f33-cb27-d57259c0ee05"
      },
      "execution_count": 25,
      "outputs": [
        {
          "output_type": "stream",
          "name": "stdout",
          "text": [
            "Enter your first name: Bron\n",
            "Middle three letters: ron\n"
          ]
        }
      ]
    }
  ]
}