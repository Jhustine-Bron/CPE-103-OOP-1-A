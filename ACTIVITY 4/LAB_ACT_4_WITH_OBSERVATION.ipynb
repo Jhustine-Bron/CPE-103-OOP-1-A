{
  "nbformat": 4,
  "nbformat_minor": 0,
  "metadata": {
    "colab": {
      "provenance": [],
      "authorship_tag": "ABX9TyNfYfh9lH1p6ABfG7T4s4Fa",
      "include_colab_link": true
    },
    "kernelspec": {
      "name": "python3",
      "display_name": "Python 3"
    },
    "language_info": {
      "name": "python"
    }
  },
  "cells": [
    {
      "cell_type": "markdown",
      "metadata": {
        "id": "view-in-github",
        "colab_type": "text"
      },
      "source": [
        "<a href=\"https://colab.research.google.com/github/Jhustine-Bron/CPE-103-OOP-1-A/blob/main/LAB_ACT_4_WITH_OBSERVATION.ipynb\" target=\"_parent\"><img src=\"https://colab.research.google.com/assets/colab-badge.svg\" alt=\"Open In Colab\"/></a>"
      ]
    },
    {
      "cell_type": "markdown",
      "source": [
        "# Number **List**"
      ],
      "metadata": {
        "id": "sPwmQzxYJ6j0"
      }
    },
    {
      "cell_type": "code",
      "execution_count": null,
      "metadata": {
        "colab": {
          "base_uri": "https://localhost:8080/"
        },
        "id": "tc14hpqyERSY",
        "outputId": "ec73a361-25d6-4e12-9ce5-c9b6d5a5bddc"
      },
      "outputs": [
        {
          "output_type": "execute_result",
          "data": {
            "text/plain": [
              "5"
            ]
          },
          "metadata": {},
          "execution_count": 1
        }
      ],
      "source": [
        "\n",
        "\n",
        "numberlist = [5, 4, 2, 1, 3]\n",
        "\n",
        "len (numberlist)\n"
      ]
    },
    {
      "cell_type": "code",
      "source": [
        "print (numberlist [0])\n",
        "print (numberlist [1])\n",
        "print (numberlist [2])\n",
        "print (numberlist [3])\n",
        "print (numberlist [4])"
      ],
      "metadata": {
        "colab": {
          "base_uri": "https://localhost:8080/"
        },
        "id": "BvOv5dW6GDk-",
        "outputId": "f87f33ac-decb-4a13-99cb-4e435b521cd9"
      },
      "execution_count": null,
      "outputs": [
        {
          "output_type": "stream",
          "name": "stdout",
          "text": [
            "5\n",
            "4\n",
            "2\n",
            "1\n",
            "3\n"
          ]
        }
      ]
    },
    {
      "cell_type": "code",
      "source": [
        "print (numberlist [5])"
      ],
      "metadata": {
        "colab": {
          "base_uri": "https://localhost:8080/",
          "height": 141
        },
        "id": "_B4PGRMCGexo",
        "outputId": "40f1fff3-3428-47b5-9ace-46f7850656d9"
      },
      "execution_count": null,
      "outputs": [
        {
          "output_type": "error",
          "ename": "IndexError",
          "evalue": "list index out of range",
          "traceback": [
            "\u001b[0;31m---------------------------------------------------------------------------\u001b[0m",
            "\u001b[0;31mIndexError\u001b[0m                                Traceback (most recent call last)",
            "\u001b[0;32m<ipython-input-3-2bda932ff69b>\u001b[0m in \u001b[0;36m<cell line: 0>\u001b[0;34m()\u001b[0m\n\u001b[0;32m----> 1\u001b[0;31m \u001b[0mprint\u001b[0m \u001b[0;34m(\u001b[0m\u001b[0mnumberlist\u001b[0m \u001b[0;34m[\u001b[0m\u001b[0;36m5\u001b[0m\u001b[0;34m]\u001b[0m\u001b[0;34m)\u001b[0m\u001b[0;34m\u001b[0m\u001b[0;34m\u001b[0m\u001b[0m\n\u001b[0m",
            "\u001b[0;31mIndexError\u001b[0m: list index out of range"
          ]
        }
      ]
    },
    {
      "cell_type": "code",
      "source": [
        "print (numberlist [-1])\n",
        "print (numberlist [-2])\n",
        "print (numberlist [-3])\n",
        "print (numberlist [-4])\n",
        "print (numberlist [-5])"
      ],
      "metadata": {
        "colab": {
          "base_uri": "https://localhost:8080/"
        },
        "id": "kklKhs2nGg9N",
        "outputId": "4402cc15-0ad0-48b5-f688-873f09bb209c"
      },
      "execution_count": null,
      "outputs": [
        {
          "output_type": "stream",
          "name": "stdout",
          "text": [
            "3\n",
            "1\n",
            "2\n",
            "4\n",
            "5\n"
          ]
        }
      ]
    },
    {
      "cell_type": "code",
      "source": [
        "print (numberlist [-6])"
      ],
      "metadata": {
        "colab": {
          "base_uri": "https://localhost:8080/",
          "height": 141
        },
        "id": "hrleekEtGo1b",
        "outputId": "f2584c85-441c-4418-e10c-f6adafab550b"
      },
      "execution_count": null,
      "outputs": [
        {
          "output_type": "error",
          "ename": "IndexError",
          "evalue": "list index out of range",
          "traceback": [
            "\u001b[0;31m---------------------------------------------------------------------------\u001b[0m",
            "\u001b[0;31mIndexError\u001b[0m                                Traceback (most recent call last)",
            "\u001b[0;32m<ipython-input-5-18342bba54af>\u001b[0m in \u001b[0;36m<cell line: 0>\u001b[0;34m()\u001b[0m\n\u001b[0;32m----> 1\u001b[0;31m \u001b[0mprint\u001b[0m \u001b[0;34m(\u001b[0m\u001b[0mnumberlist\u001b[0m \u001b[0;34m[\u001b[0m\u001b[0;34m-\u001b[0m\u001b[0;36m6\u001b[0m\u001b[0;34m]\u001b[0m\u001b[0;34m)\u001b[0m\u001b[0;34m\u001b[0m\u001b[0;34m\u001b[0m\u001b[0m\n\u001b[0m",
            "\u001b[0;31mIndexError\u001b[0m: list index out of range"
          ]
        }
      ]
    },
    {
      "cell_type": "markdown",
      "source": [
        "**OBSERVATION:** The following code about listing (specifically numberlist) displayed an ouput of the following (number list 1 to 5)\n",
        "\n"
      ],
      "metadata": {
        "id": "amZ8bevTdTLl"
      }
    },
    {
      "cell_type": "markdown",
      "source": [
        "# New Variable: Item **list**"
      ],
      "metadata": {
        "id": "OWirJ84UHeki"
      }
    },
    {
      "cell_type": "code",
      "source": [
        "itemlist = [1, -2.0,[1,2,3],\"Word\"]\n",
        "\n",
        "len(itemlist)"
      ],
      "metadata": {
        "colab": {
          "base_uri": "https://localhost:8080/"
        },
        "id": "cAD4iYkQHiHr",
        "outputId": "87673296-7c5b-40ab-a604-7a332068862c"
      },
      "execution_count": null,
      "outputs": [
        {
          "output_type": "execute_result",
          "data": {
            "text/plain": [
              "4"
            ]
          },
          "metadata": {},
          "execution_count": 6
        }
      ]
    },
    {
      "cell_type": "code",
      "source": [
        "print (itemlist [0])\n",
        "print (itemlist [1])\n",
        "print (itemlist [2])\n",
        "print (itemlist [3])\n",
        "len (itemlist [2])\n",
        "print (itemlist [2][0])\n",
        "print (itemlist [2][1])\n",
        "print (itemlist [2][2])\n",
        "print (itemlist [-1])\n",
        "print (itemlist [-2])\n",
        "print (itemlist [-3])\n",
        "print (itemlist [-4])\n",
        "len (itemlist [-2])\n",
        "print (itemlist [-2][0])\n",
        "print (itemlist [-2][1])\n",
        "print (itemlist [-2][2])\n",
        "print (itemlist [-2][-3])\n",
        "print (itemlist [-2][-2])\n",
        "print (itemlist [-2][-1])"
      ],
      "metadata": {
        "colab": {
          "base_uri": "https://localhost:8080/"
        },
        "id": "GFO7RlyKH1c9",
        "outputId": "b8a727c0-0bdb-4426-a33c-ff6f862a339c"
      },
      "execution_count": null,
      "outputs": [
        {
          "output_type": "stream",
          "name": "stdout",
          "text": [
            "1\n",
            "-2.0\n",
            "[1, 2, 3]\n",
            "Word\n",
            "1\n",
            "2\n",
            "3\n",
            "Word\n",
            "[1, 2, 3]\n",
            "-2.0\n",
            "1\n",
            "1\n",
            "2\n",
            "3\n",
            "1\n",
            "2\n",
            "3\n"
          ]
        }
      ]
    },
    {
      "cell_type": "markdown",
      "source": [
        "**OBSERVATION:** In this code I used itemlist, which is the same as numberlist but 'items', displays the following print shown above. Len function is tells us how many characters or digit is in the given itemlist."
      ],
      "metadata": {
        "id": "-VgrHHHodXgF"
      }
    },
    {
      "cell_type": "markdown",
      "source": [
        "# Index **Slicing**"
      ],
      "metadata": {
        "id": "2wNb6L05JzON"
      }
    },
    {
      "cell_type": "code",
      "source": [
        "longlist = numberlist + itemlist\n",
        "\n",
        "len (longlist)"
      ],
      "metadata": {
        "colab": {
          "base_uri": "https://localhost:8080/"
        },
        "id": "ezHNxvToJ_HL",
        "outputId": "6e3085c5-827e-4648-ef67-de1073e88109"
      },
      "execution_count": null,
      "outputs": [
        {
          "output_type": "execute_result",
          "data": {
            "text/plain": [
              "9"
            ]
          },
          "metadata": {},
          "execution_count": 8
        }
      ]
    },
    {
      "cell_type": "code",
      "source": [
        "print (longlist [:])\n",
        "print (longlist[:9])\n",
        "print (longlist [0:])\n",
        "print (longlist[1:])\n",
        "print (longlist [2:])"
      ],
      "metadata": {
        "colab": {
          "base_uri": "https://localhost:8080/"
        },
        "id": "Ocec79fDKJk9",
        "outputId": "d9297291-a562-4300-fa03-75a2bb47b742"
      },
      "execution_count": null,
      "outputs": [
        {
          "output_type": "stream",
          "name": "stdout",
          "text": [
            "[5, 4, 2, 1, 3, 1, -2.0, [1, 2, 3], 'Word']\n",
            "[5, 4, 2, 1, 3, 1, -2.0, [1, 2, 3], 'Word']\n",
            "[5, 4, 2, 1, 3, 1, -2.0, [1, 2, 3], 'Word']\n",
            "[4, 2, 1, 3, 1, -2.0, [1, 2, 3], 'Word']\n",
            "[2, 1, 3, 1, -2.0, [1, 2, 3], 'Word']\n"
          ]
        }
      ]
    },
    {
      "cell_type": "markdown",
      "source": [
        "**OBSERVATION:** Index slicing in the longlist shows how many item will output using the different placement of \":\"."
      ],
      "metadata": {
        "id": "JN9COcuQdbQt"
      }
    },
    {
      "cell_type": "markdown",
      "source": [
        "Index Slicing with Range"
      ],
      "metadata": {
        "id": "-Q-7aR6MKdgD"
      }
    },
    {
      "cell_type": "code",
      "source": [
        "print (longlist [2:5])\n",
        "print (longlist[5:2])\n",
        "print (longlist [8:])\n",
        "print (longlist [9:])"
      ],
      "metadata": {
        "colab": {
          "base_uri": "https://localhost:8080/"
        },
        "id": "z3X5kFhUKfgd",
        "outputId": "1607437f-9698-442a-9532-c4c123aab6a7"
      },
      "execution_count": null,
      "outputs": [
        {
          "output_type": "stream",
          "name": "stdout",
          "text": [
            "[2, 1, 3]\n",
            "[]\n",
            "['Word']\n",
            "[]\n"
          ]
        }
      ]
    },
    {
      "cell_type": "markdown",
      "source": [
        "**OBSERVATION:** In this part, it shows start from list no.2 and end with the list no.5 and so on and so forth."
      ],
      "metadata": {
        "id": "307hy8csdeU9"
      }
    },
    {
      "cell_type": "markdown",
      "source": [
        "Index Slicing using Negative Indices"
      ],
      "metadata": {
        "id": "mp2DXTU_KoMy"
      }
    },
    {
      "cell_type": "code",
      "source": [
        "print (longlist [-9:])\n",
        "print (longlist [-8:])\n",
        "print (longlist [-8:-7])\n",
        "print (longlist [-1:])"
      ],
      "metadata": {
        "colab": {
          "base_uri": "https://localhost:8080/"
        },
        "id": "Nh-9CY-dKp_b",
        "outputId": "f20e2ed4-61ab-4112-de9f-c0b5c2c0ef4e"
      },
      "execution_count": null,
      "outputs": [
        {
          "output_type": "stream",
          "name": "stdout",
          "text": [
            "[5, 4, 2, 1, 3, 1, -2.0, [1, 2, 3], 'Word']\n",
            "[4, 2, 1, 3, 1, -2.0, [1, 2, 3], 'Word']\n",
            "[4]\n",
            "['Word']\n"
          ]
        }
      ]
    },
    {
      "cell_type": "markdown",
      "source": [
        "**OBSERVATION:** same principle with the others, but using negative, meaning starts from the end."
      ],
      "metadata": {
        "id": "TRIZwH2qdhNP"
      }
    },
    {
      "cell_type": "markdown",
      "source": [
        "Other properties of Index Slicing"
      ],
      "metadata": {
        "id": "BSeJOHywKv0D"
      }
    },
    {
      "cell_type": "code",
      "source": [
        "print (longlist [10:20])\n",
        "print (longlist [-7:5])"
      ],
      "metadata": {
        "colab": {
          "base_uri": "https://localhost:8080/"
        },
        "id": "-DlzEFILKxs2",
        "outputId": "5cd2b472-3445-4bf7-eee3-6c202ffbe1c3"
      },
      "execution_count": null,
      "outputs": [
        {
          "output_type": "stream",
          "name": "stdout",
          "text": [
            "[]\n",
            "[2, 1, 3]\n"
          ]
        }
      ]
    },
    {
      "cell_type": "markdown",
      "source": [
        "**OBSERVATION:** same princple using different index slicing."
      ],
      "metadata": {
        "id": "qn6inwDkdiB9"
      }
    },
    {
      "cell_type": "markdown",
      "source": [
        "Index Slicing with Step parameter"
      ],
      "metadata": {
        "id": "IZacke5RK1x7"
      }
    },
    {
      "cell_type": "code",
      "source": [
        "print (longlist [::1])\n",
        "print (longlist [::2])\n",
        "print (longlist [1:8:2])\n",
        "print (longlist [9:1:-1])\n",
        "print (longlist [-1::1])\n",
        "print (longlist [-1::-1])"
      ],
      "metadata": {
        "colab": {
          "base_uri": "https://localhost:8080/"
        },
        "id": "RnFWjcRkK3Oe",
        "outputId": "7014d489-7976-438d-de53-9afc1783b8a2"
      },
      "execution_count": null,
      "outputs": [
        {
          "output_type": "stream",
          "name": "stdout",
          "text": [
            "[5, 4, 2, 1, 3, 1, -2.0, [1, 2, 3], 'Word']\n",
            "[5, 2, 3, -2.0, 'Word']\n",
            "[4, 1, 1, [1, 2, 3]]\n",
            "['Word', [1, 2, 3], -2.0, 1, 3, 1, 2]\n",
            "['Word']\n",
            "['Word', [1, 2, 3], -2.0, 1, 3, 1, 2, 4, 5]\n"
          ]
        }
      ]
    },
    {
      "cell_type": "markdown",
      "source": [
        "**OBSERVATION:** This has step parameter, meaning two colons and the middle one indicates the number of step between thbe list."
      ],
      "metadata": {
        "id": "c3brTO0rdj9F"
      }
    },
    {
      "cell_type": "markdown",
      "source": [
        "# List Methods and the Mutable Property of **Lists**"
      ],
      "metadata": {
        "id": "RnrqnK3vLHec"
      }
    },
    {
      "cell_type": "code",
      "source": [
        "numberlist2 = numberlist"
      ],
      "metadata": {
        "id": "Nny0xOVgLM4T"
      },
      "execution_count": null,
      "outputs": []
    },
    {
      "cell_type": "code",
      "source": [
        "print (numberlist)\n",
        "print (numberlist2)"
      ],
      "metadata": {
        "colab": {
          "base_uri": "https://localhost:8080/"
        },
        "id": "d9DkqHVseWQE",
        "outputId": "c37a0a82-6264-40bd-89bb-9650776e3cff"
      },
      "execution_count": null,
      "outputs": [
        {
          "output_type": "stream",
          "name": "stdout",
          "text": [
            "[5, 4, 2, 1, 3]\n",
            "[5, 4, 2, 1, 3]\n"
          ]
        }
      ]
    },
    {
      "cell_type": "code",
      "source": [
        "numberlist [0] = 6"
      ],
      "metadata": {
        "id": "tFIPgHe6e9OK"
      },
      "execution_count": null,
      "outputs": []
    },
    {
      "cell_type": "code",
      "source": [
        "print (numberlist)\n",
        "print (numberlist2)"
      ],
      "metadata": {
        "colab": {
          "base_uri": "https://localhost:8080/"
        },
        "id": "gS5SPdiRe_zN",
        "outputId": "1434487c-41c1-4cfe-a9dc-f7c0187f8b04"
      },
      "execution_count": null,
      "outputs": [
        {
          "output_type": "stream",
          "name": "stdout",
          "text": [
            "[6, 4, 2, 1, 3]\n",
            "[6, 4, 2, 1, 3]\n"
          ]
        }
      ]
    },
    {
      "cell_type": "code",
      "source": [
        "numberlist2 = numberlist.copy()"
      ],
      "metadata": {
        "id": "-iCzXjMofEwF"
      },
      "execution_count": null,
      "outputs": []
    },
    {
      "cell_type": "code",
      "source": [
        "print (numberlist2)"
      ],
      "metadata": {
        "colab": {
          "base_uri": "https://localhost:8080/"
        },
        "id": "rjydXmPZfPld",
        "outputId": "2e744998-ae34-481d-a1b4-0778a6e6b1a4"
      },
      "execution_count": null,
      "outputs": [
        {
          "output_type": "stream",
          "name": "stdout",
          "text": [
            "[6, 4, 2, 1, 3]\n"
          ]
        }
      ]
    },
    {
      "cell_type": "code",
      "source": [
        "numberlist[0] = 5\n",
        "print (numberlist)\n",
        "print (numberlist2)"
      ],
      "metadata": {
        "colab": {
          "base_uri": "https://localhost:8080/"
        },
        "id": "qlA-Z1smfSdU",
        "outputId": "aacdd932-c1a7-4eaf-d614-165a4cec044e"
      },
      "execution_count": null,
      "outputs": [
        {
          "output_type": "stream",
          "name": "stdout",
          "text": [
            "[5, 4, 2, 1, 3]\n",
            "[6, 4, 2, 1, 3]\n"
          ]
        }
      ]
    },
    {
      "cell_type": "markdown",
      "source": [
        "**OBSERVATION:** showcases the different used of list methods and their mutable property like numberlist.copy. Assigning numberlist2 = numberlist links them; changes affect both. Using numberlist.copy() creates a separate list. Lists are mutable."
      ],
      "metadata": {
        "id": "a5hYqscmfcyE"
      }
    },
    {
      "cell_type": "markdown",
      "source": [
        "# **EXPLORING SOME LIST FUNCTIONS AND METHODS**"
      ],
      "metadata": {
        "id": "KIKl_h00fmZu"
      }
    },
    {
      "cell_type": "code",
      "source": [
        "print (numberlist)"
      ],
      "metadata": {
        "colab": {
          "base_uri": "https://localhost:8080/"
        },
        "id": "aCZekpoEfqe9",
        "outputId": "21914fc1-7124-45d0-ccc8-075a6e95e813"
      },
      "execution_count": null,
      "outputs": [
        {
          "output_type": "stream",
          "name": "stdout",
          "text": [
            "[5, 4, 2, 1, 3]\n"
          ]
        }
      ]
    },
    {
      "cell_type": "code",
      "source": [
        "numberlist.append(6)\n",
        "print (numberlist)"
      ],
      "metadata": {
        "colab": {
          "base_uri": "https://localhost:8080/"
        },
        "id": "rYTFV-FZfviF",
        "outputId": "1c6e9797-aa37-41bf-f193-9ef6174da83c"
      },
      "execution_count": null,
      "outputs": [
        {
          "output_type": "stream",
          "name": "stdout",
          "text": [
            "[5, 4, 2, 1, 3, 6, 6]\n"
          ]
        }
      ]
    },
    {
      "cell_type": "code",
      "source": [
        "numberlist.pop()\n",
        "print (numberlist)"
      ],
      "metadata": {
        "colab": {
          "base_uri": "https://localhost:8080/"
        },
        "id": "5N8LKU3cf212",
        "outputId": "5a39ae30-4167-49ad-eaae-0821d4dacd67"
      },
      "execution_count": null,
      "outputs": [
        {
          "output_type": "stream",
          "name": "stdout",
          "text": [
            "[5, 4, 2, 1, 3, 6]\n"
          ]
        }
      ]
    },
    {
      "cell_type": "code",
      "source": [
        "numberlist.sort()\n",
        "print(numberlist)"
      ],
      "metadata": {
        "colab": {
          "base_uri": "https://localhost:8080/"
        },
        "id": "JoxePExgf6tl",
        "outputId": "f705c845-c656-4b8e-bdcf-3da457b21e83"
      },
      "execution_count": null,
      "outputs": [
        {
          "output_type": "stream",
          "name": "stdout",
          "text": [
            "[1, 2, 3, 4, 5, 6]\n"
          ]
        }
      ]
    },
    {
      "cell_type": "code",
      "source": [
        "itemlist.sort()"
      ],
      "metadata": {
        "id": "e1q1VTOsf-pV"
      },
      "execution_count": null,
      "outputs": []
    },
    {
      "cell_type": "code",
      "source": [
        "print (min(numberlist))\n",
        "print (max(numberlist))"
      ],
      "metadata": {
        "colab": {
          "base_uri": "https://localhost:8080/"
        },
        "id": "pBMm_1R5NVXK",
        "outputId": "e4c4aedd-8cc5-4bb5-aa25-b4e2e347f4f8"
      },
      "execution_count": null,
      "outputs": [
        {
          "output_type": "stream",
          "name": "stdout",
          "text": [
            "1\n",
            "6\n"
          ]
        }
      ]
    },
    {
      "cell_type": "code",
      "source": [
        "print (longlist)"
      ],
      "metadata": {
        "colab": {
          "base_uri": "https://localhost:8080/"
        },
        "id": "WCw7JxeyNf_K",
        "outputId": "e02dc3ac-fbdf-4752-f188-2df63d14f5f9"
      },
      "execution_count": null,
      "outputs": [
        {
          "output_type": "stream",
          "name": "stdout",
          "text": [
            "[5, 4, 2, 1, 3, 1, -2.0, [1, 2, 3], 'Word']\n"
          ]
        }
      ]
    },
    {
      "cell_type": "code",
      "source": [
        "print (longlist.count(1))\n",
        "print (longlist[7].count(1))"
      ],
      "metadata": {
        "colab": {
          "base_uri": "https://localhost:8080/"
        },
        "id": "WRwDYsIdNhl1",
        "outputId": "de638efe-3274-4c18-b639-2bfc20b90ebb"
      },
      "execution_count": null,
      "outputs": [
        {
          "output_type": "stream",
          "name": "stdout",
          "text": [
            "2\n",
            "1\n"
          ]
        }
      ]
    },
    {
      "cell_type": "markdown",
      "source": [
        "# **The in Operator**"
      ],
      "metadata": {
        "id": "6qojSQasO2zV"
      }
    },
    {
      "cell_type": "code",
      "source": [
        "print (3 in longlist)\n",
        "print (15 in longlist)"
      ],
      "metadata": {
        "colab": {
          "base_uri": "https://localhost:8080/"
        },
        "id": "U5EwvEPXO5Jk",
        "outputId": "d26582ea-2d69-4a27-a240-38b7ba29020d"
      },
      "execution_count": null,
      "outputs": [
        {
          "output_type": "stream",
          "name": "stdout",
          "text": [
            "True\n",
            "False\n"
          ]
        }
      ]
    },
    {
      "cell_type": "code",
      "source": [
        "num = int(input(\"Enter a number: \"))\n",
        "if num in longlist:\n",
        "  print (\"The number is in longlist\")\n",
        "else:\n",
        "  print (\"The number is not in longlist\")"
      ],
      "metadata": {
        "colab": {
          "base_uri": "https://localhost:8080/"
        },
        "id": "H0x-YCCOO_GW",
        "outputId": "cf5c0d7c-798b-40f1-ad97-ce1758c1c3f8"
      },
      "execution_count": null,
      "outputs": [
        {
          "output_type": "stream",
          "name": "stdout",
          "text": [
            "Enter a number: 21\n",
            "The number is not in longlist\n"
          ]
        }
      ]
    },
    {
      "cell_type": "markdown",
      "source": [
        "**OBSERVATION:** in this operator, if we input a number that is not in the longlist it will display \"The numer is not in longlist\", but if it is, it will display \"The number is in longlist\""
      ],
      "metadata": {
        "id": "xLUPlFLwPjC0"
      }
    },
    {
      "cell_type": "markdown",
      "source": [
        "# USING A LIST IN AN ITERATIVE STATEMENT"
      ],
      "metadata": {
        "id": "rbjNIp-ZPqbj"
      }
    },
    {
      "cell_type": "code",
      "source": [
        "for item in longlist:\n",
        "  print (item)"
      ],
      "metadata": {
        "colab": {
          "base_uri": "https://localhost:8080/"
        },
        "id": "zCeblQkNP5pM",
        "outputId": "45566cf7-4015-48c2-c208-42c55319177e"
      },
      "execution_count": null,
      "outputs": [
        {
          "output_type": "stream",
          "name": "stdout",
          "text": [
            "5\n",
            "4\n",
            "2\n",
            "1\n",
            "3\n",
            "1\n",
            "-2.0\n",
            "[1, 2, 3]\n",
            "Word\n"
          ]
        }
      ]
    },
    {
      "cell_type": "code",
      "source": [
        "i = 0\n",
        "while i <len(longlist):\n",
        "  print (longlist[i])\n",
        "  i +=1"
      ],
      "metadata": {
        "colab": {
          "base_uri": "https://localhost:8080/"
        },
        "id": "nhLoAUG6QBye",
        "outputId": "a3144b43-499c-4bf2-9661-52104ee7d376"
      },
      "execution_count": null,
      "outputs": [
        {
          "output_type": "stream",
          "name": "stdout",
          "text": [
            "5\n",
            "4\n",
            "2\n",
            "1\n",
            "3\n",
            "1\n",
            "-2.0\n",
            "[1, 2, 3]\n",
            "Word\n"
          ]
        }
      ]
    },
    {
      "cell_type": "markdown",
      "source": [
        "# **STRINGS**"
      ],
      "metadata": {
        "id": "cCog7aYFQ0Sb"
      }
    },
    {
      "cell_type": "code",
      "source": [
        "message = \"Hello World\"\n",
        "print (message)\n",
        "print (len(message))"
      ],
      "metadata": {
        "colab": {
          "base_uri": "https://localhost:8080/"
        },
        "id": "65Gybnv6Q50U",
        "outputId": "2394156f-ba27-467d-c87a-4fd93886878c"
      },
      "execution_count": null,
      "outputs": [
        {
          "output_type": "stream",
          "name": "stdout",
          "text": [
            "Hello World\n",
            "11\n"
          ]
        }
      ]
    },
    {
      "cell_type": "code",
      "source": [
        "print (message[0])\n",
        "print (message[1])\n",
        "print (message[2])\n",
        "print (message[3])\n",
        "print (message[4])"
      ],
      "metadata": {
        "colab": {
          "base_uri": "https://localhost:8080/"
        },
        "id": "ILgFblcURo0k",
        "outputId": "eb6a3ce0-c655-4857-cc04-4645cf27a549"
      },
      "execution_count": null,
      "outputs": [
        {
          "output_type": "stream",
          "name": "stdout",
          "text": [
            "H\n",
            "e\n",
            "l\n",
            "l\n",
            "o\n"
          ]
        }
      ]
    },
    {
      "cell_type": "code",
      "source": [
        "print (message[-1])\n",
        "print (message[-2])\n",
        "print (message[-3])\n",
        "print (message[-4])\n",
        "print (message [-5])"
      ],
      "metadata": {
        "colab": {
          "base_uri": "https://localhost:8080/"
        },
        "id": "TUAz0uygSCbd",
        "outputId": "cf76cf34-24c8-4951-bfd3-0e93a0adeb43"
      },
      "execution_count": null,
      "outputs": [
        {
          "output_type": "stream",
          "name": "stdout",
          "text": [
            "d\n",
            "l\n",
            "r\n",
            "o\n",
            "W\n"
          ]
        }
      ]
    },
    {
      "cell_type": "code",
      "source": [
        "print (message [0] + message [4] + message [2] + message[10])"
      ],
      "metadata": {
        "colab": {
          "base_uri": "https://localhost:8080/"
        },
        "id": "RBAM7gGBSO4E",
        "outputId": "1a9f3d89-9fa0-4ede-bef3-bc3587bf47e1"
      },
      "execution_count": null,
      "outputs": [
        {
          "output_type": "stream",
          "name": "stdout",
          "text": [
            "Hold\n"
          ]
        }
      ]
    },
    {
      "cell_type": "code",
      "source": [
        "print (message [:5])"
      ],
      "metadata": {
        "colab": {
          "base_uri": "https://localhost:8080/"
        },
        "id": "xWsgYXoSSzc9",
        "outputId": "7ec2b01f-78e4-48c8-c524-c72030ab6370"
      },
      "execution_count": null,
      "outputs": [
        {
          "output_type": "stream",
          "name": "stdout",
          "text": [
            "Hello\n"
          ]
        }
      ]
    },
    {
      "cell_type": "code",
      "source": [
        "print (message [5:])"
      ],
      "metadata": {
        "colab": {
          "base_uri": "https://localhost:8080/"
        },
        "id": "uBnvcIw_TBEe",
        "outputId": "6fd0a717-3ae8-4385-9896-67045001c416"
      },
      "execution_count": null,
      "outputs": [
        {
          "output_type": "stream",
          "name": "stdout",
          "text": [
            " World\n"
          ]
        }
      ]
    },
    {
      "cell_type": "markdown",
      "source": [
        "# STRING **METHODS**"
      ],
      "metadata": {
        "id": "GO3eeiAwTgUe"
      }
    },
    {
      "cell_type": "code",
      "source": [
        "print (message.upper())"
      ],
      "metadata": {
        "colab": {
          "base_uri": "https://localhost:8080/"
        },
        "id": "vug5EVuATh11",
        "outputId": "055c8eda-cc54-4440-c5f5-709ad965ab04"
      },
      "execution_count": null,
      "outputs": [
        {
          "output_type": "stream",
          "name": "stdout",
          "text": [
            "HELLO WORLD\n"
          ]
        }
      ]
    },
    {
      "cell_type": "code",
      "source": [
        "print (message.lower())"
      ],
      "metadata": {
        "colab": {
          "base_uri": "https://localhost:8080/"
        },
        "id": "bUjHlY8oToDX",
        "outputId": "0f412c5c-4d47-469b-b6aa-114562c5f40c"
      },
      "execution_count": null,
      "outputs": [
        {
          "output_type": "stream",
          "name": "stdout",
          "text": [
            "hello world\n"
          ]
        }
      ]
    },
    {
      "cell_type": "code",
      "source": [
        "print (message.title())"
      ],
      "metadata": {
        "colab": {
          "base_uri": "https://localhost:8080/"
        },
        "id": "oG4PfFJ8T_L8",
        "outputId": "7e29059e-fcb3-41d2-a746-d8b27de2fd5b"
      },
      "execution_count": null,
      "outputs": [
        {
          "output_type": "stream",
          "name": "stdout",
          "text": [
            "Hello World\n"
          ]
        }
      ]
    },
    {
      "cell_type": "code",
      "source": [
        "print(message.split(' '))\n",
        "print (message.count('I'))"
      ],
      "metadata": {
        "colab": {
          "base_uri": "https://localhost:8080/"
        },
        "id": "yNNgay0KUWGm",
        "outputId": "022072f3-248a-40c6-f5f1-bef0192b8f1c"
      },
      "execution_count": null,
      "outputs": [
        {
          "output_type": "stream",
          "name": "stdout",
          "text": [
            "['Hello', 'World']\n",
            "0\n"
          ]
        }
      ]
    },
    {
      "cell_type": "code",
      "source": [
        "print (message.replace('World','CPE009'))"
      ],
      "metadata": {
        "colab": {
          "base_uri": "https://localhost:8080/"
        },
        "id": "XTT5txMkUi0m",
        "outputId": "08e356aa-031e-4635-e136-acf705544c36"
      },
      "execution_count": null,
      "outputs": [
        {
          "output_type": "stream",
          "name": "stdout",
          "text": [
            "Hello CPE009\n"
          ]
        }
      ]
    },
    {
      "cell_type": "code",
      "source": [
        "message = message.replace('World','CPE009')"
      ],
      "metadata": {
        "id": "iBAN0MLWZx52"
      },
      "execution_count": null,
      "outputs": []
    },
    {
      "cell_type": "code",
      "source": [
        "help(\"\")"
      ],
      "metadata": {
        "colab": {
          "base_uri": "https://localhost:8080/"
        },
        "id": "-E00l-19Un0X",
        "outputId": "d2ff3f0b-e4bf-4eb0-ebbf-f631bd3c1307"
      },
      "execution_count": null,
      "outputs": [
        {
          "output_type": "stream",
          "name": "stdout",
          "text": [
            "Help on class str in module builtins:\n",
            "\n",
            "class str(object)\n",
            " |  str(object='') -> str\n",
            " |  str(bytes_or_buffer[, encoding[, errors]]) -> str\n",
            " |  \n",
            " |  Create a new string object from the given object. If encoding or\n",
            " |  errors is specified, then the object must expose a data buffer\n",
            " |  that will be decoded using the given encoding and error handler.\n",
            " |  Otherwise, returns the result of object.__str__() (if defined)\n",
            " |  or repr(object).\n",
            " |  encoding defaults to sys.getdefaultencoding().\n",
            " |  errors defaults to 'strict'.\n",
            " |  \n",
            " |  Methods defined here:\n",
            " |  \n",
            " |  __add__(self, value, /)\n",
            " |      Return self+value.\n",
            " |  \n",
            " |  __contains__(self, key, /)\n",
            " |      Return key in self.\n",
            " |  \n",
            " |  __eq__(self, value, /)\n",
            " |      Return self==value.\n",
            " |  \n",
            " |  __format__(self, format_spec, /)\n",
            " |      Return a formatted version of the string as described by format_spec.\n",
            " |  \n",
            " |  __ge__(self, value, /)\n",
            " |      Return self>=value.\n",
            " |  \n",
            " |  __getattribute__(self, name, /)\n",
            " |      Return getattr(self, name).\n",
            " |  \n",
            " |  __getitem__(self, key, /)\n",
            " |      Return self[key].\n",
            " |  \n",
            " |  __getnewargs__(...)\n",
            " |  \n",
            " |  __gt__(self, value, /)\n",
            " |      Return self>value.\n",
            " |  \n",
            " |  __hash__(self, /)\n",
            " |      Return hash(self).\n",
            " |  \n",
            " |  __iter__(self, /)\n",
            " |      Implement iter(self).\n",
            " |  \n",
            " |  __le__(self, value, /)\n",
            " |      Return self<=value.\n",
            " |  \n",
            " |  __len__(self, /)\n",
            " |      Return len(self).\n",
            " |  \n",
            " |  __lt__(self, value, /)\n",
            " |      Return self<value.\n",
            " |  \n",
            " |  __mod__(self, value, /)\n",
            " |      Return self%value.\n",
            " |  \n",
            " |  __mul__(self, value, /)\n",
            " |      Return self*value.\n",
            " |  \n",
            " |  __ne__(self, value, /)\n",
            " |      Return self!=value.\n",
            " |  \n",
            " |  __repr__(self, /)\n",
            " |      Return repr(self).\n",
            " |  \n",
            " |  __rmod__(self, value, /)\n",
            " |      Return value%self.\n",
            " |  \n",
            " |  __rmul__(self, value, /)\n",
            " |      Return value*self.\n",
            " |  \n",
            " |  __sizeof__(self, /)\n",
            " |      Return the size of the string in memory, in bytes.\n",
            " |  \n",
            " |  __str__(self, /)\n",
            " |      Return str(self).\n",
            " |  \n",
            " |  capitalize(self, /)\n",
            " |      Return a capitalized version of the string.\n",
            " |      \n",
            " |      More specifically, make the first character have upper case and the rest lower\n",
            " |      case.\n",
            " |  \n",
            " |  casefold(self, /)\n",
            " |      Return a version of the string suitable for caseless comparisons.\n",
            " |  \n",
            " |  center(self, width, fillchar=' ', /)\n",
            " |      Return a centered string of length width.\n",
            " |      \n",
            " |      Padding is done using the specified fill character (default is a space).\n",
            " |  \n",
            " |  count(...)\n",
            " |      S.count(sub[, start[, end]]) -> int\n",
            " |      \n",
            " |      Return the number of non-overlapping occurrences of substring sub in\n",
            " |      string S[start:end].  Optional arguments start and end are\n",
            " |      interpreted as in slice notation.\n",
            " |  \n",
            " |  encode(self, /, encoding='utf-8', errors='strict')\n",
            " |      Encode the string using the codec registered for encoding.\n",
            " |      \n",
            " |      encoding\n",
            " |        The encoding in which to encode the string.\n",
            " |      errors\n",
            " |        The error handling scheme to use for encoding errors.\n",
            " |        The default is 'strict' meaning that encoding errors raise a\n",
            " |        UnicodeEncodeError.  Other possible values are 'ignore', 'replace' and\n",
            " |        'xmlcharrefreplace' as well as any other name registered with\n",
            " |        codecs.register_error that can handle UnicodeEncodeErrors.\n",
            " |  \n",
            " |  endswith(...)\n",
            " |      S.endswith(suffix[, start[, end]]) -> bool\n",
            " |      \n",
            " |      Return True if S ends with the specified suffix, False otherwise.\n",
            " |      With optional start, test S beginning at that position.\n",
            " |      With optional end, stop comparing S at that position.\n",
            " |      suffix can also be a tuple of strings to try.\n",
            " |  \n",
            " |  expandtabs(self, /, tabsize=8)\n",
            " |      Return a copy where all tab characters are expanded using spaces.\n",
            " |      \n",
            " |      If tabsize is not given, a tab size of 8 characters is assumed.\n",
            " |  \n",
            " |  find(...)\n",
            " |      S.find(sub[, start[, end]]) -> int\n",
            " |      \n",
            " |      Return the lowest index in S where substring sub is found,\n",
            " |      such that sub is contained within S[start:end].  Optional\n",
            " |      arguments start and end are interpreted as in slice notation.\n",
            " |      \n",
            " |      Return -1 on failure.\n",
            " |  \n",
            " |  format(...)\n",
            " |      S.format(*args, **kwargs) -> str\n",
            " |      \n",
            " |      Return a formatted version of S, using substitutions from args and kwargs.\n",
            " |      The substitutions are identified by braces ('{' and '}').\n",
            " |  \n",
            " |  format_map(...)\n",
            " |      S.format_map(mapping) -> str\n",
            " |      \n",
            " |      Return a formatted version of S, using substitutions from mapping.\n",
            " |      The substitutions are identified by braces ('{' and '}').\n",
            " |  \n",
            " |  index(...)\n",
            " |      S.index(sub[, start[, end]]) -> int\n",
            " |      \n",
            " |      Return the lowest index in S where substring sub is found,\n",
            " |      such that sub is contained within S[start:end].  Optional\n",
            " |      arguments start and end are interpreted as in slice notation.\n",
            " |      \n",
            " |      Raises ValueError when the substring is not found.\n",
            " |  \n",
            " |  isalnum(self, /)\n",
            " |      Return True if the string is an alpha-numeric string, False otherwise.\n",
            " |      \n",
            " |      A string is alpha-numeric if all characters in the string are alpha-numeric and\n",
            " |      there is at least one character in the string.\n",
            " |  \n",
            " |  isalpha(self, /)\n",
            " |      Return True if the string is an alphabetic string, False otherwise.\n",
            " |      \n",
            " |      A string is alphabetic if all characters in the string are alphabetic and there\n",
            " |      is at least one character in the string.\n",
            " |  \n",
            " |  isascii(self, /)\n",
            " |      Return True if all characters in the string are ASCII, False otherwise.\n",
            " |      \n",
            " |      ASCII characters have code points in the range U+0000-U+007F.\n",
            " |      Empty string is ASCII too.\n",
            " |  \n",
            " |  isdecimal(self, /)\n",
            " |      Return True if the string is a decimal string, False otherwise.\n",
            " |      \n",
            " |      A string is a decimal string if all characters in the string are decimal and\n",
            " |      there is at least one character in the string.\n",
            " |  \n",
            " |  isdigit(self, /)\n",
            " |      Return True if the string is a digit string, False otherwise.\n",
            " |      \n",
            " |      A string is a digit string if all characters in the string are digits and there\n",
            " |      is at least one character in the string.\n",
            " |  \n",
            " |  isidentifier(self, /)\n",
            " |      Return True if the string is a valid Python identifier, False otherwise.\n",
            " |      \n",
            " |      Call keyword.iskeyword(s) to test whether string s is a reserved identifier,\n",
            " |      such as \"def\" or \"class\".\n",
            " |  \n",
            " |  islower(self, /)\n",
            " |      Return True if the string is a lowercase string, False otherwise.\n",
            " |      \n",
            " |      A string is lowercase if all cased characters in the string are lowercase and\n",
            " |      there is at least one cased character in the string.\n",
            " |  \n",
            " |  isnumeric(self, /)\n",
            " |      Return True if the string is a numeric string, False otherwise.\n",
            " |      \n",
            " |      A string is numeric if all characters in the string are numeric and there is at\n",
            " |      least one character in the string.\n",
            " |  \n",
            " |  isprintable(self, /)\n",
            " |      Return True if the string is printable, False otherwise.\n",
            " |      \n",
            " |      A string is printable if all of its characters are considered printable in\n",
            " |      repr() or if it is empty.\n",
            " |  \n",
            " |  isspace(self, /)\n",
            " |      Return True if the string is a whitespace string, False otherwise.\n",
            " |      \n",
            " |      A string is whitespace if all characters in the string are whitespace and there\n",
            " |      is at least one character in the string.\n",
            " |  \n",
            " |  istitle(self, /)\n",
            " |      Return True if the string is a title-cased string, False otherwise.\n",
            " |      \n",
            " |      In a title-cased string, upper- and title-case characters may only\n",
            " |      follow uncased characters and lowercase characters only cased ones.\n",
            " |  \n",
            " |  isupper(self, /)\n",
            " |      Return True if the string is an uppercase string, False otherwise.\n",
            " |      \n",
            " |      A string is uppercase if all cased characters in the string are uppercase and\n",
            " |      there is at least one cased character in the string.\n",
            " |  \n",
            " |  join(self, iterable, /)\n",
            " |      Concatenate any number of strings.\n",
            " |      \n",
            " |      The string whose method is called is inserted in between each given string.\n",
            " |      The result is returned as a new string.\n",
            " |      \n",
            " |      Example: '.'.join(['ab', 'pq', 'rs']) -> 'ab.pq.rs'\n",
            " |  \n",
            " |  ljust(self, width, fillchar=' ', /)\n",
            " |      Return a left-justified string of length width.\n",
            " |      \n",
            " |      Padding is done using the specified fill character (default is a space).\n",
            " |  \n",
            " |  lower(self, /)\n",
            " |      Return a copy of the string converted to lowercase.\n",
            " |  \n",
            " |  lstrip(self, chars=None, /)\n",
            " |      Return a copy of the string with leading whitespace removed.\n",
            " |      \n",
            " |      If chars is given and not None, remove characters in chars instead.\n",
            " |  \n",
            " |  partition(self, sep, /)\n",
            " |      Partition the string into three parts using the given separator.\n",
            " |      \n",
            " |      This will search for the separator in the string.  If the separator is found,\n",
            " |      returns a 3-tuple containing the part before the separator, the separator\n",
            " |      itself, and the part after it.\n",
            " |      \n",
            " |      If the separator is not found, returns a 3-tuple containing the original string\n",
            " |      and two empty strings.\n",
            " |  \n",
            " |  removeprefix(self, prefix, /)\n",
            " |      Return a str with the given prefix string removed if present.\n",
            " |      \n",
            " |      If the string starts with the prefix string, return string[len(prefix):].\n",
            " |      Otherwise, return a copy of the original string.\n",
            " |  \n",
            " |  removesuffix(self, suffix, /)\n",
            " |      Return a str with the given suffix string removed if present.\n",
            " |      \n",
            " |      If the string ends with the suffix string and that suffix is not empty,\n",
            " |      return string[:-len(suffix)]. Otherwise, return a copy of the original\n",
            " |      string.\n",
            " |  \n",
            " |  replace(self, old, new, count=-1, /)\n",
            " |      Return a copy with all occurrences of substring old replaced by new.\n",
            " |      \n",
            " |        count\n",
            " |          Maximum number of occurrences to replace.\n",
            " |          -1 (the default value) means replace all occurrences.\n",
            " |      \n",
            " |      If the optional argument count is given, only the first count occurrences are\n",
            " |      replaced.\n",
            " |  \n",
            " |  rfind(...)\n",
            " |      S.rfind(sub[, start[, end]]) -> int\n",
            " |      \n",
            " |      Return the highest index in S where substring sub is found,\n",
            " |      such that sub is contained within S[start:end].  Optional\n",
            " |      arguments start and end are interpreted as in slice notation.\n",
            " |      \n",
            " |      Return -1 on failure.\n",
            " |  \n",
            " |  rindex(...)\n",
            " |      S.rindex(sub[, start[, end]]) -> int\n",
            " |      \n",
            " |      Return the highest index in S where substring sub is found,\n",
            " |      such that sub is contained within S[start:end].  Optional\n",
            " |      arguments start and end are interpreted as in slice notation.\n",
            " |      \n",
            " |      Raises ValueError when the substring is not found.\n",
            " |  \n",
            " |  rjust(self, width, fillchar=' ', /)\n",
            " |      Return a right-justified string of length width.\n",
            " |      \n",
            " |      Padding is done using the specified fill character (default is a space).\n",
            " |  \n",
            " |  rpartition(self, sep, /)\n",
            " |      Partition the string into three parts using the given separator.\n",
            " |      \n",
            " |      This will search for the separator in the string, starting at the end. If\n",
            " |      the separator is found, returns a 3-tuple containing the part before the\n",
            " |      separator, the separator itself, and the part after it.\n",
            " |      \n",
            " |      If the separator is not found, returns a 3-tuple containing two empty strings\n",
            " |      and the original string.\n",
            " |  \n",
            " |  rsplit(self, /, sep=None, maxsplit=-1)\n",
            " |      Return a list of the substrings in the string, using sep as the separator string.\n",
            " |      \n",
            " |        sep\n",
            " |          The separator used to split the string.\n",
            " |      \n",
            " |          When set to None (the default value), will split on any whitespace\n",
            " |          character (including \\n \\r \\t \\f and spaces) and will discard\n",
            " |          empty strings from the result.\n",
            " |        maxsplit\n",
            " |          Maximum number of splits.\n",
            " |          -1 (the default value) means no limit.\n",
            " |      \n",
            " |      Splitting starts at the end of the string and works to the front.\n",
            " |  \n",
            " |  rstrip(self, chars=None, /)\n",
            " |      Return a copy of the string with trailing whitespace removed.\n",
            " |      \n",
            " |      If chars is given and not None, remove characters in chars instead.\n",
            " |  \n",
            " |  split(self, /, sep=None, maxsplit=-1)\n",
            " |      Return a list of the substrings in the string, using sep as the separator string.\n",
            " |      \n",
            " |        sep\n",
            " |          The separator used to split the string.\n",
            " |      \n",
            " |          When set to None (the default value), will split on any whitespace\n",
            " |          character (including \\n \\r \\t \\f and spaces) and will discard\n",
            " |          empty strings from the result.\n",
            " |        maxsplit\n",
            " |          Maximum number of splits.\n",
            " |          -1 (the default value) means no limit.\n",
            " |      \n",
            " |      Splitting starts at the front of the string and works to the end.\n",
            " |      \n",
            " |      Note, str.split() is mainly useful for data that has been intentionally\n",
            " |      delimited.  With natural text that includes punctuation, consider using\n",
            " |      the regular expression module.\n",
            " |  \n",
            " |  splitlines(self, /, keepends=False)\n",
            " |      Return a list of the lines in the string, breaking at line boundaries.\n",
            " |      \n",
            " |      Line breaks are not included in the resulting list unless keepends is given and\n",
            " |      true.\n",
            " |  \n",
            " |  startswith(...)\n",
            " |      S.startswith(prefix[, start[, end]]) -> bool\n",
            " |      \n",
            " |      Return True if S starts with the specified prefix, False otherwise.\n",
            " |      With optional start, test S beginning at that position.\n",
            " |      With optional end, stop comparing S at that position.\n",
            " |      prefix can also be a tuple of strings to try.\n",
            " |  \n",
            " |  strip(self, chars=None, /)\n",
            " |      Return a copy of the string with leading and trailing whitespace removed.\n",
            " |      \n",
            " |      If chars is given and not None, remove characters in chars instead.\n",
            " |  \n",
            " |  swapcase(self, /)\n",
            " |      Convert uppercase characters to lowercase and lowercase characters to uppercase.\n",
            " |  \n",
            " |  title(self, /)\n",
            " |      Return a version of the string where each word is titlecased.\n",
            " |      \n",
            " |      More specifically, words start with uppercased characters and all remaining\n",
            " |      cased characters have lower case.\n",
            " |  \n",
            " |  translate(self, table, /)\n",
            " |      Replace each character in the string using the given translation table.\n",
            " |      \n",
            " |        table\n",
            " |          Translation table, which must be a mapping of Unicode ordinals to\n",
            " |          Unicode ordinals, strings, or None.\n",
            " |      \n",
            " |      The table must implement lookup/indexing via __getitem__, for instance a\n",
            " |      dictionary or list.  If this operation raises LookupError, the character is\n",
            " |      left untouched.  Characters mapped to None are deleted.\n",
            " |  \n",
            " |  upper(self, /)\n",
            " |      Return a copy of the string converted to uppercase.\n",
            " |  \n",
            " |  zfill(self, width, /)\n",
            " |      Pad a numeric string with zeros on the left, to fill a field of the given width.\n",
            " |      \n",
            " |      The string is never truncated.\n",
            " |  \n",
            " |  ----------------------------------------------------------------------\n",
            " |  Static methods defined here:\n",
            " |  \n",
            " |  __new__(*args, **kwargs)\n",
            " |      Create and return a new object.  See help(type) for accurate signature.\n",
            " |  \n",
            " |  maketrans(...)\n",
            " |      Return a translation table usable for str.translate().\n",
            " |      \n",
            " |      If there is only one argument, it must be a dictionary mapping Unicode\n",
            " |      ordinals (integers) or characters to Unicode ordinals, strings or None.\n",
            " |      Character keys will be then converted to ordinals.\n",
            " |      If there are two arguments, they must be strings of equal length, and\n",
            " |      in the resulting dictionary, each character in x will be mapped to the\n",
            " |      character at the same position in y. If there is a third argument, it\n",
            " |      must be a string, whose characters will be mapped to None in the result.\n",
            "\n"
          ]
        }
      ]
    },
    {
      "cell_type": "markdown",
      "source": [
        "# The in Operator for **Strings**"
      ],
      "metadata": {
        "id": "uUdCNX83Ur00"
      }
    },
    {
      "cell_type": "code",
      "source": [
        "print ('W' in message)"
      ],
      "metadata": {
        "colab": {
          "base_uri": "https://localhost:8080/"
        },
        "id": "kvWvfLwEVdpG",
        "outputId": "9579d4c8-af75-499d-f152-993ef13a21d9"
      },
      "execution_count": null,
      "outputs": [
        {
          "output_type": "stream",
          "name": "stdout",
          "text": [
            "False\n"
          ]
        }
      ]
    },
    {
      "cell_type": "code",
      "source": [
        "print ('old' in message)"
      ],
      "metadata": {
        "colab": {
          "base_uri": "https://localhost:8080/"
        },
        "id": "EPW1bQ9jVgp8",
        "outputId": "ec31627a-d935-4a27-e977-e2ce5c33f71e"
      },
      "execution_count": null,
      "outputs": [
        {
          "output_type": "stream",
          "name": "stdout",
          "text": [
            "False\n"
          ]
        }
      ]
    },
    {
      "cell_type": "code",
      "source": [
        "word = input(\"Enter a word:\")\n",
        "if word in \"The big brown fox jump over the lazy dog\":\n",
        "  print (\"The word is in the text\")\n",
        "else:\n",
        "  print (\"The word is not in the text\")"
      ],
      "metadata": {
        "colab": {
          "base_uri": "https://localhost:8080/"
        },
        "id": "QosRK26tVirG",
        "outputId": "7f122a12-289c-406d-e8dc-dd8471a85ccc"
      },
      "execution_count": null,
      "outputs": [
        {
          "output_type": "stream",
          "name": "stdout",
          "text": [
            "Enter a word:The\n",
            "The word is in the text\n"
          ]
        }
      ]
    },
    {
      "cell_type": "markdown",
      "source": [
        "# **Using a String in an iterative statement**"
      ],
      "metadata": {
        "id": "igzXnhoWVypt"
      }
    },
    {
      "cell_type": "code",
      "source": [
        "for character in message:\n",
        "  print (character)\n"
      ],
      "metadata": {
        "colab": {
          "base_uri": "https://localhost:8080/"
        },
        "id": "ss19KGNHV74t",
        "outputId": "cdadb433-18bc-4f66-e3bc-c4b40e3f201e"
      },
      "execution_count": null,
      "outputs": [
        {
          "output_type": "stream",
          "name": "stdout",
          "text": [
            "H\n",
            "e\n",
            "l\n",
            "l\n",
            "o\n",
            " \n",
            "W\n",
            "o\n",
            "r\n",
            "l\n",
            "d\n"
          ]
        }
      ]
    },
    {
      "cell_type": "code",
      "source": [
        "i = 0\n",
        "while i<len(message):\n",
        "  print(message[i])\n",
        "  i+=1"
      ],
      "metadata": {
        "colab": {
          "base_uri": "https://localhost:8080/"
        },
        "id": "YMYf4BZZWADg",
        "outputId": "ba0f2a68-f4f4-413b-a9f7-87764b5c2fc8"
      },
      "execution_count": null,
      "outputs": [
        {
          "output_type": "stream",
          "name": "stdout",
          "text": [
            "H\n",
            "e\n",
            "l\n",
            "l\n",
            "o\n",
            " \n",
            "W\n",
            "o\n",
            "r\n",
            "l\n",
            "d\n"
          ]
        }
      ]
    },
    {
      "cell_type": "markdown",
      "source": [
        "# **Tuples**"
      ],
      "metadata": {
        "id": "-MrRr847WQXl"
      }
    },
    {
      "cell_type": "code",
      "source": [
        "tuplelist = [1,2,3,4,5]\n",
        "\n",
        "print (numberlist[0])\n",
        "print (numberlist[1])\n",
        "print (numberlist[2])\n",
        "print (numberlist[3])\n",
        "print (numberlist[4])\n",
        "print (numberlist[5])"
      ],
      "metadata": {
        "colab": {
          "base_uri": "https://localhost:8080/"
        },
        "id": "McsHIEvzWR99",
        "outputId": "55bfbeca-a17b-4733-f4bb-f24e997c2f3f"
      },
      "execution_count": null,
      "outputs": [
        {
          "output_type": "stream",
          "name": "stdout",
          "text": [
            "1\n",
            "2\n",
            "3\n",
            "4\n",
            "5\n",
            "6\n"
          ]
        }
      ]
    },
    {
      "cell_type": "code",
      "source": [
        "print(tuplelist + list((1, 2, 3)))"
      ],
      "metadata": {
        "colab": {
          "base_uri": "https://localhost:8080/"
        },
        "id": "WhYaTYLwW-Nu",
        "outputId": "ab7098ee-a097-4fb2-b7ea-37fb65dd1e98"
      },
      "execution_count": null,
      "outputs": [
        {
          "output_type": "stream",
          "name": "stdout",
          "text": [
            "[15, 2, 3, 4, 5, 1, 2, 3]\n"
          ]
        }
      ]
    },
    {
      "cell_type": "code",
      "source": [
        "tuplelist[0] = 15"
      ],
      "metadata": {
        "id": "FMn7Qw3XXsJe"
      },
      "execution_count": null,
      "outputs": []
    },
    {
      "cell_type": "code",
      "source": [
        "print (tuplelist [1:4])\n",
        "print (tuplelist [ :3])\n",
        "print (tuplelist [3: ])"
      ],
      "metadata": {
        "id": "eOlPF3gOYBF-",
        "colab": {
          "base_uri": "https://localhost:8080/"
        },
        "outputId": "1d43480a-af1a-462a-c2a9-c683ca4aae8d"
      },
      "execution_count": null,
      "outputs": [
        {
          "output_type": "stream",
          "name": "stdout",
          "text": [
            "[2, 3, 4]\n",
            "[15, 2, 3]\n",
            "[4, 5]\n"
          ]
        }
      ]
    },
    {
      "cell_type": "markdown",
      "source": [
        "# **DICTIONARIES**"
      ],
      "metadata": {
        "id": "hh6ZHSW5YBVG"
      }
    },
    {
      "cell_type": "code",
      "source": [
        "contactinfo = {'id':1, 'first_name':'John', 'last_name':'Doe', 'contact_number':'09060611233'}\n",
        "print (contactinfo['id'])\n",
        "print (contactinfo['first_name'])\n",
        "print (contactinfo['last_name'])\n",
        "print (contactinfo['contact_number'])"
      ],
      "metadata": {
        "colab": {
          "base_uri": "https://localhost:8080/"
        },
        "id": "Eoz1s0RDYlzl",
        "outputId": "521ed27e-428f-4a46-d9f7-a41955ce4d4a"
      },
      "execution_count": null,
      "outputs": [
        {
          "output_type": "stream",
          "name": "stdout",
          "text": [
            "1\n",
            "John\n",
            "Doe\n",
            "09060611233\n"
          ]
        }
      ]
    },
    {
      "cell_type": "code",
      "source": [
        "for k  in contactinfo:\n",
        "  print (k)"
      ],
      "metadata": {
        "colab": {
          "base_uri": "https://localhost:8080/"
        },
        "id": "jwmzXYrkbmiH",
        "outputId": "e8666a5d-17e3-4993-fc88-96e2250b5d03"
      },
      "execution_count": null,
      "outputs": [
        {
          "output_type": "stream",
          "name": "stdout",
          "text": [
            "id\n",
            "first_name\n",
            "last_name\n",
            "contact_number\n"
          ]
        }
      ]
    },
    {
      "cell_type": "code",
      "source": [
        "for k,v in contactinfo.items():\n",
        "  print (k,v)"
      ],
      "metadata": {
        "colab": {
          "base_uri": "https://localhost:8080/"
        },
        "id": "UtvLD5Q-b_ee",
        "outputId": "c48d0a05-a450-4006-fcbc-2386c8afd300"
      },
      "execution_count": null,
      "outputs": [
        {
          "output_type": "stream",
          "name": "stdout",
          "text": [
            "id 1\n",
            "first_name John\n",
            "last_name Doe\n",
            "contact_number 09060611233\n"
          ]
        }
      ]
    },
    {
      "cell_type": "code",
      "source": [
        "contactinfo['id'] = 2\n",
        "contactinfo['first_name'] = 'Max'"
      ],
      "metadata": {
        "id": "E44x13KAckXG"
      },
      "execution_count": null,
      "outputs": []
    },
    {
      "cell_type": "code",
      "source": [
        "print (contactinfo)"
      ],
      "metadata": {
        "colab": {
          "base_uri": "https://localhost:8080/"
        },
        "id": "jiIrBUiecsSd",
        "outputId": "1ceed91c-a452-4e7e-ef69-09136caec2b9"
      },
      "execution_count": null,
      "outputs": [
        {
          "output_type": "stream",
          "name": "stdout",
          "text": [
            "{'id': 2, 'first_name': 'Max', 'last_name': 'Doe', 'contact_number': '09060611233'}\n"
          ]
        }
      ]
    },
    {
      "cell_type": "markdown",
      "source": [
        "# **SUPPLEMENTARY ACTIVITY:**"
      ],
      "metadata": {
        "id": "kVEKCtM-heaV"
      }
    },
    {
      "cell_type": "markdown",
      "source": [
        "Distance Formula\n",
        "1.\tMake a program that would calculate the distance between two points given a list of coordinates. Use the distance formula.\n"
      ],
      "metadata": {
        "id": "7gslqGzyhghE"
      }
    },
    {
      "cell_type": "code",
      "source": [
        "coordinates_list = [(1,1), (2,3)]\n",
        "\n",
        "X1, Y1 = coordinates_list[0]\n",
        "X2, Y2 = coordinates_list[1]\n",
        "\n",
        "distance = ((X2 - X1)**2 + (Y2 - Y1)**2)**0.5\n",
        "\n",
        "print (\"Distance:\", distance)"
      ],
      "metadata": {
        "id": "3KJr0LE9h1ac",
        "colab": {
          "base_uri": "https://localhost:8080/"
        },
        "outputId": "35bfaed3-b6d5-4e93-cdca-4997f0c6efea"
      },
      "execution_count": null,
      "outputs": [
        {
          "output_type": "stream",
          "name": "stdout",
          "text": [
            "Distance: 2.23606797749979\n"
          ]
        }
      ]
    },
    {
      "cell_type": "markdown",
      "source": [
        "Simple Word Filter\n",
        "2.\tFor a given string input, replace all the words “stupid” with an asterisk * equal to the length of the string. The new string value should be displayed with the asterisks.\n"
      ],
      "metadata": {
        "id": "b4nTDPieAq60"
      }
    },
    {
      "cell_type": "code",
      "source": [
        "text = input(\"Enter a sentence: \")\n",
        "censored_text = text.replace (\"stupid\", \"*\" * len(\"stupid\"))\n",
        "\n",
        "print (\"Censored Text: \", censored_text)"
      ],
      "metadata": {
        "colab": {
          "base_uri": "https://localhost:8080/"
        },
        "id": "mdOkiCW_AvGF",
        "outputId": "d06b6684-58f3-45e1-9ffa-d9bfe0ba0168"
      },
      "execution_count": null,
      "outputs": [
        {
          "output_type": "stream",
          "name": "stdout",
          "text": [
            "Enter a sentence: I am stupid\n",
            "Censored Text:  I am ******\n"
          ]
        }
      ]
    },
    {
      "cell_type": "markdown",
      "source": [
        "Phonebook\n",
        "3.\tCreate a simple phonebook program that can read from a list of dictionaries. The program should be able to display a person’s name, contact, and address based from a user input which is the id of the record.\n"
      ],
      "metadata": {
        "id": "B4RgumJ4Bh7R"
      }
    },
    {
      "cell_type": "code",
      "source": [
        "phonebook = [\n",
        "    {\"id\": 1, \"name\": \"Erica\", \"contact\": \"0908070605\", \"address\": \"Ph.2 Bagong Silang\"},\n",
        "    {\"id\": 2, \"name\": \"Jhustine\", \"contact\": \"09382208811\", \"address\": \"Tala Cal. City\"},\n",
        "    {\"id\": 3, \"name\": \"Bella\", \"contact\": \"080787562154\", \"address\": \"Ontario, Canada\"},\n",
        "    {\"id\": 4, \"name\": \"Stewart\", \"contact\": \"02205508\", \"address\": \"Peter's House\"}\n",
        "]\n",
        "\n",
        "user_id = int(input(\"Enter ID: \"))\n",
        "\n",
        "record = next((entry for entry in phonebook if entry[\"id\"] == user_id), None)\n",
        "\n",
        "if record:\n",
        "    print(\"Name:\", record[\"name\"])\n",
        "    print(\"Contact:\", record[\"contact\"])\n",
        "    print(\"Address:\", record[\"address\"])\n",
        "else:\n",
        "    print(\"Record not found.\")\n"
      ],
      "metadata": {
        "colab": {
          "base_uri": "https://localhost:8080/"
        },
        "id": "xLukD1_7CBEC",
        "outputId": "45de552e-fb01-4238-aad7-3e684f7d78b2"
      },
      "execution_count": null,
      "outputs": [
        {
          "output_type": "stream",
          "name": "stdout",
          "text": [
            "Enter ID: 4\n",
            "Name: Stewart\n",
            "Contact: 02205508\n",
            "Address: Peter's House\n"
          ]
        }
      ]
    }
  ]
}