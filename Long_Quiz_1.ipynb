{
  "nbformat": 4,
  "nbformat_minor": 0,
  "metadata": {
    "colab": {
      "provenance": [],
      "authorship_tag": "ABX9TyOSHp6ewwVJAo0wtrRP/9AB",
      "include_colab_link": true
    },
    "kernelspec": {
      "name": "python3",
      "display_name": "Python 3"
    },
    "language_info": {
      "name": "python"
    }
  },
  "cells": [
    {
      "cell_type": "markdown",
      "metadata": {
        "id": "view-in-github",
        "colab_type": "text"
      },
      "source": [
        "<a href=\"https://colab.research.google.com/github/Jhustine-Bron/CPE-103-OOP-1-A/blob/main/Long_Quiz_1.ipynb\" target=\"_parent\"><img src=\"https://colab.research.google.com/assets/colab-badge.svg\" alt=\"Open In Colab\"/></a>"
      ]
    },
    {
      "cell_type": "code",
      "source": [
        "class Student:\n",
        "\n",
        "  available_courses = [\"CPE103\", \"MAT002\", \"PHY001L\"]\n",
        "\n",
        "  def __init__(self,student_id, name, program, sex, weight, height ):\n",
        "    self.student_id = student_id\n",
        "    self.name = name\n",
        "    self.program = program\n",
        "    self.sex = sex\n",
        "    self.weight = weight\n",
        "    self.height = height\n",
        "    self.courses = {}\n",
        "\n",
        "  def enroll(self, course):\n",
        "        if course in self.available_courses:\n",
        "            if course not in self.courses:\n",
        "                self.courses[course] = None\n",
        "                print(f\"{self.name} has enrolled in {course}.\")\n",
        "        else:\n",
        "            print(f\"{course} is not an available course.\")\n",
        "\n",
        "  def compute_grade(self, course, FQ, FS, FA, FR, ME, FE):\n",
        "    if course in self.courses:\n",
        "      class_standing = (FQ * 0.3) + (FS * 0.2) + (FA * 0.3) + (FR * 0.2)\n",
        "      midterm_grade = (class_standing * 0.5) + (ME * 0.5)\n",
        "      final_grade = (midterm_grade * 0.4) + (FE * 0.6)\n",
        "      self.courses[course] = final_grade\n",
        "      print (f\"{self.name}'s final grade in {course} is {final_grade}.\")\n",
        "    else:\n",
        "      print (f\"{self.name} is not enrolled in {course}.\")\n",
        "\n",
        "  def view_course(self):\n",
        "    print(f\"Student ID: {self.student_id}\")\n",
        "    print(f\"Name: {self.name}\")\n",
        "    print(f\"Program: {self.program}\")\n",
        "    print(f\"Sex: {self.sex}\")\n",
        "    print(f\"Weight: {self.weight}\")\n",
        "    print(f\"Height: {self.height}\\n\")\n",
        "    print(f\"{self.name}'s courses and grades:\")\n",
        "\n",
        "Ana = Student (\"20240001-E\", \"Ana\", \"BSCpE\", \"Female\", 55, 160)\n",
        "Mench = Student (\"20240015-E\", \"Mench\", \"BSEcE\", \"Male\", 60, 155)\n",
        "John = Student (\"20240017-E\", \"John\", \"BSEE\", \"Male\", 45, 158)\n",
        "print (\"\\n===========================\")\n",
        "Ana.view_course()\n",
        "Ana.enroll (\"CPE103\")\n",
        "Ana.compute_grade (\"CPE103\", 98, 92, 90, 87, 90, 93)\n",
        "print (\"\\n===========================\\n\")\n",
        "Mench.view_course()\n",
        "Mench.enroll (\"MAT002\")\n",
        "Mench.compute_grade (\"MAT002\", 78, 75, 78, 80, 75, 78)\n",
        "print (\"\\n===========================\\n\")\n",
        "John.view_course()\n",
        "John.enroll (\"MAT002\")\n",
        "John.compute_grade (\"PHY001L\", 85, 84, 84, 83, 90, 87)\n",
        "John.compute_grade (\"MAT002\", 77, 78, 72, 78, 74, 90)\n"
      ],
      "metadata": {
        "id": "kPiBTKtKAV-H",
        "outputId": "57bfe925-5fbc-41ca-fa61-92245b6f9685",
        "colab": {
          "base_uri": "https://localhost:8080/"
        }
      },
      "execution_count": 98,
      "outputs": [
        {
          "output_type": "stream",
          "name": "stdout",
          "text": [
            "\n",
            "===========================\n",
            "Student ID: 20240001-E\n",
            "Name: Ana\n",
            "Program: BSCpE\n",
            "Sex: Female\n",
            "Weight: 55\n",
            "Height: 160\n",
            "\n",
            "Ana's courses and grades:\n",
            "Ana has enrolled in CPE103.\n",
            "Ana's final grade in CPE103 is 92.24.\n",
            "\n",
            "===========================\n",
            "\n",
            "Student ID: 20240015-E\n",
            "Name: Mench\n",
            "Program: BSEcE\n",
            "Sex: Male\n",
            "Weight: 60\n",
            "Height: 155\n",
            "\n",
            "Mench's courses and grades:\n",
            "Mench has enrolled in MAT002.\n",
            "Mench's final grade in MAT002 is 77.36.\n",
            "\n",
            "===========================\n",
            "\n",
            "Student ID: 20240017-E\n",
            "Name: John\n",
            "Program: BSEE\n",
            "Sex: Male\n",
            "Weight: 45\n",
            "Height: 158\n",
            "\n",
            "John's courses and grades:\n",
            "John has enrolled in MAT002.\n",
            "John is not enrolled in PHY001L.\n",
            "John's final grade in MAT002 is 83.98.\n"
          ]
        }
      ]
    }
  ]
}