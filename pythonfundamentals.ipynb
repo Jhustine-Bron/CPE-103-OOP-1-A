{
  "nbformat": 4,
  "nbformat_minor": 0,
  "metadata": {
    "colab": {
      "provenance": [],
      "authorship_tag": "ABX9TyO6Qg2+RhRaAQYhSHISzcVs",
      "include_colab_link": true
    },
    "kernelspec": {
      "name": "python3",
      "display_name": "Python 3"
    },
    "language_info": {
      "name": "python"
    }
  },
  "cells": [
    {
      "cell_type": "markdown",
      "metadata": {
        "id": "view-in-github",
        "colab_type": "text"
      },
      "source": [
        "<a href=\"https://colab.research.google.com/github/Jhustine-Bron/CPE-103-OOP-1-A/blob/main/pythonfundamentals.ipynb\" target=\"_parent\"><img src=\"https://colab.research.google.com/assets/colab-badge.svg\" alt=\"Open In Colab\"/></a>"
      ]
    },
    {
      "cell_type": "markdown",
      "source": [
        "Python Indentation"
      ],
      "metadata": {
        "id": "9Z8Ls-oAFiK6"
      }
    },
    {
      "cell_type": "code",
      "source": [
        "x = 5\n",
        "y = 2\n",
        "\n",
        "if x > y:\n",
        "      print(\"Five is greater than two!\")"
      ],
      "metadata": {
        "id": "wzhyj9hwGTwD"
      },
      "execution_count": 6,
      "outputs": []
    },
    {
      "cell_type": "markdown",
      "source": [
        "Python Comments"
      ],
      "metadata": {
        "id": "mpZtP1NiIohE"
      }
    },
    {
      "cell_type": "code",
      "source": [
        "#This is a comment\n",
        "print (\"Hello, World\")"
      ],
      "metadata": {
        "id": "poZWD6EJeSzN"
      },
      "execution_count": null,
      "outputs": []
    },
    {
      "cell_type": "markdown",
      "source": [
        "Variable Naming Convention"
      ],
      "metadata": {
        "id": "PDrd8AgaJmbS"
      }
    },
    {
      "cell_type": "code",
      "source": [
        "#EXAMPLES ONLY\n",
        "\n",
        "myvar = \"John\"\n",
        "2myvar = \"John\" #wrong\n",
        "_my_var = \"John\"\n",
        "myVar = \"John\"\n",
        "my var = \"John\" #wrong"
      ],
      "metadata": {
        "id": "kbfFNharNxTr"
      },
      "execution_count": null,
      "outputs": []
    },
    {
      "cell_type": "markdown",
      "source": [
        "Python Variable"
      ],
      "metadata": {
        "id": "-mUUZ__EKUGa"
      }
    },
    {
      "cell_type": "code",
      "source": [
        "z = 1\n",
        "a, b = 0, -1\n",
        "c = \"Sally\"\n",
        "print (z)\n",
        "print (a)\n",
        "print (b)\n",
        "print (c)\n"
      ],
      "metadata": {
        "id": "N0NJTno1L2dq"
      },
      "execution_count": 10,
      "outputs": []
    },
    {
      "cell_type": "markdown",
      "source": [
        "Casting"
      ],
      "metadata": {
        "id": "UcGrlOnZME9i"
      }
    },
    {
      "cell_type": "code",
      "source": [
        "b = \"sally\" #This is a type of string\n",
        "b = int(4)\n",
        "print (b)\n",
        "\n",
        "b = float (4)\n",
        "print (b)"
      ],
      "metadata": {
        "colab": {
          "base_uri": "https://localhost:8080/"
        },
        "id": "pJQTVs-YMFqC",
        "outputId": "e5e50156-dab1-4a5d-82bc-cd5c3b082ce8"
      },
      "execution_count": 12,
      "outputs": [
        {
          "output_type": "stream",
          "name": "stdout",
          "text": [
            "4\n",
            "4.0\n"
          ]
        }
      ]
    },
    {
      "cell_type": "markdown",
      "source": [
        "Type Function"
      ],
      "metadata": {
        "id": "7AuSwPPqMJhy"
      }
    },
    {
      "cell_type": "code",
      "source": [
        "x = 5\n",
        "y = \"John\"\n",
        "print (type(x))\n",
        "print (type(y))"
      ],
      "metadata": {
        "colab": {
          "base_uri": "https://localhost:8080/"
        },
        "id": "qNaSuxMFM8Pr",
        "outputId": "e3be6391-9715-430a-da26-16a3a760ea23"
      },
      "execution_count": 13,
      "outputs": [
        {
          "output_type": "stream",
          "name": "stdout",
          "text": [
            "<class 'int'>\n",
            "<class 'str'>\n"
          ]
        }
      ]
    },
    {
      "cell_type": "markdown",
      "source": [
        "\"Double quotes or 'Single' quotes"
      ],
      "metadata": {
        "id": "-59ldsc0N4Di"
      }
    },
    {
      "cell_type": "code",
      "source": [
        "y = \"John\"\n",
        "y = 'John'\n",
        "print (y)\n",
        "print (y)"
      ],
      "metadata": {
        "colab": {
          "base_uri": "https://localhost:8080/"
        },
        "id": "n6S4qQd8N8Lb",
        "outputId": "29945fd9-fee1-4791-e870-d296bd90297b"
      },
      "execution_count": 25,
      "outputs": [
        {
          "output_type": "stream",
          "name": "stdout",
          "text": [
            "John\n",
            "John\n"
          ]
        }
      ]
    },
    {
      "cell_type": "markdown",
      "source": [
        "Case Sensitive"
      ],
      "metadata": {
        "id": "ltnDk6hAOPEC"
      }
    },
    {
      "cell_type": "code",
      "source": [
        "a = 4\n",
        "A = \"Sally\"\n",
        "print (a)\n",
        "print (A)\n",
        "#A will not overwrite a"
      ],
      "metadata": {
        "colab": {
          "base_uri": "https://localhost:8080/"
        },
        "id": "vSpDcQdMORoj",
        "outputId": "9806f53b-1260-45ef-fc99-e6c32220ea3b"
      },
      "execution_count": 16,
      "outputs": [
        {
          "output_type": "stream",
          "name": "stdout",
          "text": [
            "4\n",
            "Sally\n"
          ]
        }
      ]
    },
    {
      "cell_type": "markdown",
      "source": [
        "Multiple Variables"
      ],
      "metadata": {
        "id": "WS1NCmMXOmSi"
      }
    },
    {
      "cell_type": "code",
      "source": [
        "x, y, z = \"one\", \"two\", \"three\"\n",
        "print (x)\n",
        "print (y)\n",
        "print (z)"
      ],
      "metadata": {
        "colab": {
          "base_uri": "https://localhost:8080/"
        },
        "id": "9Tm9RIPoOpPT",
        "outputId": "977d93ed-ea25-413d-cc95-287089443a24"
      },
      "execution_count": 17,
      "outputs": [
        {
          "output_type": "stream",
          "name": "stdout",
          "text": [
            "one\n",
            "two\n",
            "three\n"
          ]
        }
      ]
    },
    {
      "cell_type": "markdown",
      "source": [
        "One Value to Multiple Variables"
      ],
      "metadata": {
        "id": "DYien93eOv6a"
      }
    },
    {
      "cell_type": "code",
      "source": [
        "x = y = z = \"four\"\n",
        "print (x)\n",
        "print (y)\n",
        "print (z)"
      ],
      "metadata": {
        "colab": {
          "base_uri": "https://localhost:8080/"
        },
        "id": "iw8xJ_YfOyrC",
        "outputId": "d98b0d75-76c6-48a6-8a03-686d15943bdf"
      },
      "execution_count": 18,
      "outputs": [
        {
          "output_type": "stream",
          "name": "stdout",
          "text": [
            "four\n",
            "four\n",
            "four\n"
          ]
        }
      ]
    },
    {
      "cell_type": "markdown",
      "source": [
        "Output Variables"
      ],
      "metadata": {
        "id": "iCJ7i7z5O426"
      }
    },
    {
      "cell_type": "code",
      "source": [
        "x = \"enjoying\"\n",
        "print (\"Python programming is \" + x)"
      ],
      "metadata": {
        "colab": {
          "base_uri": "https://localhost:8080/"
        },
        "id": "mM_4-wgGO6wc",
        "outputId": "7350def5-7e44-42cc-c0b5-0c5949fba1fc"
      },
      "execution_count": 20,
      "outputs": [
        {
          "output_type": "stream",
          "name": "stdout",
          "text": [
            "Python programming is enjoying\n"
          ]
        }
      ]
    },
    {
      "cell_type": "markdown",
      "source": [
        "Other way"
      ],
      "metadata": {
        "id": "v7QTHTEMPCL7"
      }
    },
    {
      "cell_type": "code",
      "source": [
        "x = \"python is \"\n",
        "y = \"enjoying\"\n",
        "z = x + y\n",
        "print (z)"
      ],
      "metadata": {
        "colab": {
          "base_uri": "https://localhost:8080/"
        },
        "id": "afL3mfx9PEd6",
        "outputId": "998ea95b-979b-4192-ae0a-ea949586903d"
      },
      "execution_count": 22,
      "outputs": [
        {
          "output_type": "stream",
          "name": "stdout",
          "text": [
            "python is enjoying\n"
          ]
        }
      ]
    },
    {
      "cell_type": "markdown",
      "source": [
        "Arithmetic Operations"
      ],
      "metadata": {
        "id": "UBN2gNv4QP7r"
      }
    },
    {
      "cell_type": "code",
      "source": [
        "x =5\n",
        "y = 3\n",
        "print (x+y)\n",
        "\n",
        "#exponentiation\n",
        "x = 10\n",
        "x**2\n",
        "\n",
        "#floor division\n",
        "x//3\n",
        "\n",
        "#modulus\n",
        "y = 2\n",
        "x%y\n",
        "\n",
        "#Division\n",
        "x/y"
      ],
      "metadata": {
        "colab": {
          "base_uri": "https://localhost:8080/"
        },
        "id": "qhY_J_jSQSr0",
        "outputId": "e9208c0a-08fb-49e8-b64a-25a83988a7e9"
      },
      "execution_count": 34,
      "outputs": [
        {
          "output_type": "stream",
          "name": "stdout",
          "text": [
            "8\n"
          ]
        },
        {
          "output_type": "execute_result",
          "data": {
            "text/plain": [
              "5.0"
            ]
          },
          "metadata": {},
          "execution_count": 34
        }
      ]
    },
    {
      "cell_type": "markdown",
      "source": [
        "Assignment Operators"
      ],
      "metadata": {
        "id": "ZMHOqSUSQeDD"
      }
    },
    {
      "cell_type": "code",
      "source": [
        "a, b, c = 0, -1, 6\n",
        "c %= 3\n",
        "print (c)"
      ],
      "metadata": {
        "colab": {
          "base_uri": "https://localhost:8080/"
        },
        "id": "-aiP5u4sQhDK",
        "outputId": "8d09e120-0f29-45e3-e6cb-8bffe3afad9f"
      },
      "execution_count": 36,
      "outputs": [
        {
          "output_type": "stream",
          "name": "stdout",
          "text": [
            "0\n"
          ]
        }
      ]
    },
    {
      "cell_type": "markdown",
      "source": [
        "Comparison Operators"
      ],
      "metadata": {
        "id": "d6ue4lPrSqBU"
      }
    },
    {
      "cell_type": "code",
      "source": [
        " x = 5\n",
        " y = 3\n",
        " compare = x>y\n",
        " print (compare)"
      ],
      "metadata": {
        "colab": {
          "base_uri": "https://localhost:8080/"
        },
        "id": "Va3i_LH_StNc",
        "outputId": "e9da23a4-531f-4efc-ce5b-98242b2ab91b"
      },
      "execution_count": 39,
      "outputs": [
        {
          "output_type": "stream",
          "name": "stdout",
          "text": [
            "True\n"
          ]
        }
      ]
    },
    {
      "cell_type": "markdown",
      "source": [
        "Logical Operators"
      ],
      "metadata": {
        "id": "MzEvSd5BSur0"
      }
    },
    {
      "cell_type": "code",
      "source": [
        "  x = 5\n",
        "  y = 2\n",
        "\n",
        "  not (x>y)"
      ],
      "metadata": {
        "colab": {
          "base_uri": "https://localhost:8080/"
        },
        "id": "DnVbBPv8SyDU",
        "outputId": "6a5c9c51-b1f7-4e19-8a11-c842a9143afd"
      },
      "execution_count": 104,
      "outputs": [
        {
          "output_type": "execute_result",
          "data": {
            "text/plain": [
              "False"
            ]
          },
          "metadata": {},
          "execution_count": 104
        }
      ]
    },
    {
      "cell_type": "markdown",
      "source": [
        "Identity Operators"
      ],
      "metadata": {
        "id": "UbvZOUAcSyI9"
      }
    },
    {
      "cell_type": "code",
      "source": [
        "x = 5\n",
        "y = 2\n",
        "\n",
        "x is y"
      ],
      "metadata": {
        "colab": {
          "base_uri": "https://localhost:8080/"
        },
        "id": "fjla68A7TjO8",
        "outputId": "c29c2cba-3495-4fdf-b1fb-560d1f44ca6d"
      },
      "execution_count": 41,
      "outputs": [
        {
          "output_type": "execute_result",
          "data": {
            "text/plain": [
              "False"
            ]
          },
          "metadata": {},
          "execution_count": 41
        }
      ]
    },
    {
      "cell_type": "markdown",
      "source": [
        "Bitwise Operator"
      ],
      "metadata": {
        "id": "gAZm9Dd_TjZd"
      }
    },
    {
      "cell_type": "code",
      "source": [
        "#decimal to binary\n",
        "#10 = 1010\n",
        "\n",
        "x = 10\n",
        "print (x << 2)\n"
      ],
      "metadata": {
        "colab": {
          "base_uri": "https://localhost:8080/"
        },
        "id": "MuNje6bCTmHk",
        "outputId": "ef4fe085-2e92-4de9-dc76-bb9250f7a3c7"
      },
      "execution_count": 66,
      "outputs": [
        {
          "output_type": "stream",
          "name": "stdout",
          "text": [
            "40\n"
          ]
        }
      ]
    },
    {
      "cell_type": "markdown",
      "source": [
        "Application 1"
      ],
      "metadata": {
        "id": "NardBUteYRwc"
      }
    },
    {
      "cell_type": "code",
      "source": [
        "#Application 1"
      ],
      "metadata": {
        "id": "PVaKF52dYYzi"
      },
      "execution_count": null,
      "outputs": []
    },
    {
      "cell_type": "code",
      "source": [
        "\n",
        "#Rectangle\n",
        "\n",
        "print (\"RECTANGLE AREA CALCULATOR\")\n",
        "\n",
        "print (\"Length of the Rectangle: \")\n",
        "L = input()\n",
        "print (\"Height of the Rectangle: \")\n",
        "H = input()\n",
        "print (\"Width of the Rectangle: \")\n",
        "W = input()\n",
        "A = int(L) * int(H) * int(W)\n",
        "print( \"Area of a rectangle is\",  A)\n"
      ],
      "metadata": {
        "colab": {
          "base_uri": "https://localhost:8080/"
        },
        "id": "d5ho9DVqZJeW",
        "outputId": "48101575-4ffb-4a33-82ad-16083a971c4e"
      },
      "execution_count": 97,
      "outputs": [
        {
          "output_type": "stream",
          "name": "stdout",
          "text": [
            "Length of the Rectangle: \n",
            "21\n",
            "Height of the Rectangle: \n",
            "34\n",
            "Width of the Rectangle: \n",
            "21\n",
            "Area of a rectangle is 14994\n"
          ]
        }
      ]
    },
    {
      "cell_type": "code",
      "source": [
        "# Square\n",
        "print (\"SQUARE AREA CALCULATOR\")\n",
        "\n",
        "print (\"Side of the Square: \")\n",
        "L = input()\n",
        "A = int(L) * int(L)\n",
        "print( \"Area of a square is\",  A)"
      ],
      "metadata": {
        "colab": {
          "base_uri": "https://localhost:8080/"
        },
        "id": "FNpKT9y9bKoE",
        "outputId": "d81a77cc-3e83-45d7-f462-1d1543d62d49"
      },
      "execution_count": 101,
      "outputs": [
        {
          "output_type": "stream",
          "name": "stdout",
          "text": [
            "Side of the Square: \n",
            "31\n",
            "Area of a square is 961\n"
          ]
        }
      ]
    },
    {
      "cell_type": "code",
      "source": [
        "# Circle\n",
        "print (\"CIRCLE AREA CALCULATOR\")\n",
        "\n",
        "print (\"Radius of a Circle: \")\n",
        "R = input()\n",
        "A = 3.14159* int(R) * int (R)\n",
        "print( \"Area of a circle is\",  A)"
      ],
      "metadata": {
        "colab": {
          "base_uri": "https://localhost:8080/"
        },
        "id": "iqNYSGQMbSxU",
        "outputId": "5b7eb529-46f9-443e-ec4c-e88bb59c6847"
      },
      "execution_count": 105,
      "outputs": [
        {
          "output_type": "stream",
          "name": "stdout",
          "text": [
            "CIRCLE AREA CALCULATOR\n",
            "Radius of a Circle: \n",
            "32\n",
            "Area of a circle is 3216.98816\n"
          ]
        }
      ]
    }
  ]
}