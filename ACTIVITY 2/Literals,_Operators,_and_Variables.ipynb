{
  "nbformat": 4,
  "nbformat_minor": 0,
  "metadata": {
    "colab": {
      "provenance": [],
      "authorship_tag": "ABX9TyOyoYgwgHrIEGgiI8wc0FUY",
      "include_colab_link": true
    },
    "kernelspec": {
      "name": "python3",
      "display_name": "Python 3"
    },
    "language_info": {
      "name": "python"
    }
  },
  "cells": [
    {
      "cell_type": "markdown",
      "metadata": {
        "id": "view-in-github",
        "colab_type": "text"
      },
      "source": [
        "<a href=\"https://colab.research.google.com/github/Jhustine-Bron/CPE-103-OOP-1-A/blob/main/Literals%2C_Operators%2C_and_Variables.ipynb\" target=\"_parent\"><img src=\"https://colab.research.google.com/assets/colab-badge.svg\" alt=\"Open In Colab\"/></a>"
      ]
    },
    {
      "cell_type": "markdown",
      "source": [
        "Assigning variables of differenty data types"
      ],
      "metadata": {
        "id": "sUCXTbgMnTKP"
      }
    },
    {
      "cell_type": "code",
      "source": [
        "value = 5\n",
        "print ()"
      ],
      "metadata": {
        "colab": {
          "base_uri": "https://localhost:8080/"
        },
        "id": "iRufXdoXnWqV",
        "outputId": "a8ff562a-29cb-4250-96d7-d13a41b8a2c6"
      },
      "execution_count": null,
      "outputs": [
        {
          "output_type": "stream",
          "name": "stdout",
          "text": [
            "5\n"
          ]
        }
      ]
    },
    {
      "cell_type": "code",
      "source": [
        "type (value)"
      ],
      "metadata": {
        "colab": {
          "base_uri": "https://localhost:8080/"
        },
        "id": "BStJ3Guvnhi9",
        "outputId": "dffa491f-3d32-4677-e6e0-b48a0ded98a3"
      },
      "execution_count": null,
      "outputs": [
        {
          "output_type": "execute_result",
          "data": {
            "text/plain": [
              "int"
            ]
          },
          "metadata": {},
          "execution_count": 6
        }
      ]
    },
    {
      "cell_type": "code",
      "source": [
        "value = 5.0\n",
        "print (value)\n",
        "type (value)"
      ],
      "metadata": {
        "colab": {
          "base_uri": "https://localhost:8080/"
        },
        "id": "8N9xAkrLnzq-",
        "outputId": "c1b93ea2-37d8-491d-f11f-4505bab5e9c2"
      },
      "execution_count": null,
      "outputs": [
        {
          "output_type": "stream",
          "name": "stdout",
          "text": [
            "5.0\n"
          ]
        },
        {
          "output_type": "execute_result",
          "data": {
            "text/plain": [
              "float"
            ]
          },
          "metadata": {},
          "execution_count": 10
        }
      ]
    },
    {
      "cell_type": "code",
      "source": [
        "value = 2+3j\n",
        "print (value)\n",
        "type (value)"
      ],
      "metadata": {
        "colab": {
          "base_uri": "https://localhost:8080/"
        },
        "id": "uaygfzYholj3",
        "outputId": "dc17c7a0-a68e-4e0c-ae6e-8a52c49a92ad"
      },
      "execution_count": null,
      "outputs": [
        {
          "output_type": "stream",
          "name": "stdout",
          "text": [
            "(2+3j)\n"
          ]
        },
        {
          "output_type": "execute_result",
          "data": {
            "text/plain": [
              "complex"
            ]
          },
          "metadata": {},
          "execution_count": 11
        }
      ]
    },
    {
      "cell_type": "code",
      "source": [
        "value = 'Hello World'\n",
        "print (value)\n",
        "type (value)"
      ],
      "metadata": {
        "colab": {
          "base_uri": "https://localhost:8080/"
        },
        "id": "tUrtiqCqo1k3",
        "outputId": "f25238f6-ac07-4bc4-814f-f1e97ddd4f94"
      },
      "execution_count": null,
      "outputs": [
        {
          "output_type": "stream",
          "name": "stdout",
          "text": [
            "Hello World\n"
          ]
        },
        {
          "output_type": "execute_result",
          "data": {
            "text/plain": [
              "str"
            ]
          },
          "metadata": {},
          "execution_count": 12
        }
      ]
    },
    {
      "cell_type": "code",
      "source": [
        "value = \"Hello World\"\n",
        "print (value)\n",
        "type (value)"
      ],
      "metadata": {
        "colab": {
          "base_uri": "https://localhost:8080/"
        },
        "id": "4zQBUsI-o5ot",
        "outputId": "c29728b4-7807-4217-bbc6-1f575ae6d04e"
      },
      "execution_count": null,
      "outputs": [
        {
          "output_type": "stream",
          "name": "stdout",
          "text": [
            "Hello World\n"
          ]
        },
        {
          "output_type": "execute_result",
          "data": {
            "text/plain": [
              "str"
            ]
          },
          "metadata": {},
          "execution_count": 13
        }
      ]
    },
    {
      "cell_type": "code",
      "source": [
        "value = True\n",
        "print (value)\n",
        "type (value)"
      ],
      "metadata": {
        "colab": {
          "base_uri": "https://localhost:8080/"
        },
        "id": "KtgSKxQmo8nO",
        "outputId": "259c3ea7-2c88-4734-8a43-b13ad2cfe63e"
      },
      "execution_count": null,
      "outputs": [
        {
          "output_type": "stream",
          "name": "stdout",
          "text": [
            "True\n"
          ]
        },
        {
          "output_type": "execute_result",
          "data": {
            "text/plain": [
              "bool"
            ]
          },
          "metadata": {},
          "execution_count": 14
        }
      ]
    },
    {
      "cell_type": "code",
      "source": [
        "value = False\n",
        "print (value)\n",
        "type (value)"
      ],
      "metadata": {
        "colab": {
          "base_uri": "https://localhost:8080/"
        },
        "id": "medhL4qyo_Oe",
        "outputId": "79524cd2-0903-4c3d-fc14-c61cdcaacd28"
      },
      "execution_count": null,
      "outputs": [
        {
          "output_type": "stream",
          "name": "stdout",
          "text": [
            "False\n"
          ]
        },
        {
          "output_type": "execute_result",
          "data": {
            "text/plain": [
              "bool"
            ]
          },
          "metadata": {},
          "execution_count": 15
        }
      ]
    },
    {
      "cell_type": "code",
      "source": [
        "value = [1,2,3,4,5]\n",
        "print (value)\n",
        "type (value)"
      ],
      "metadata": {
        "colab": {
          "base_uri": "https://localhost:8080/"
        },
        "id": "Zm9QYvv-pAlO",
        "outputId": "603a4b78-85e5-4537-a6a6-e18be059f79f"
      },
      "execution_count": null,
      "outputs": [
        {
          "output_type": "stream",
          "name": "stdout",
          "text": [
            "[1, 2, 3, 4, 5]\n"
          ]
        },
        {
          "output_type": "execute_result",
          "data": {
            "text/plain": [
              "list"
            ]
          },
          "metadata": {},
          "execution_count": 16
        }
      ]
    },
    {
      "cell_type": "code",
      "source": [
        "value = (1,2,3,4,5)\n",
        "print (value)\n",
        "type (value)"
      ],
      "metadata": {
        "colab": {
          "base_uri": "https://localhost:8080/"
        },
        "id": "PYFRevjrpHfd",
        "outputId": "61713ac3-d923-4f1d-cb2f-a282c7ea86e5"
      },
      "execution_count": null,
      "outputs": [
        {
          "output_type": "stream",
          "name": "stdout",
          "text": [
            "(1, 2, 3, 4, 5)\n"
          ]
        },
        {
          "output_type": "execute_result",
          "data": {
            "text/plain": [
              "tuple"
            ]
          },
          "metadata": {},
          "execution_count": 17
        }
      ]
    },
    {
      "cell_type": "code",
      "source": [
        "value = {'name': 'Bron, Jhustine A.'}\n",
        "print (value)\n",
        "type (value)"
      ],
      "metadata": {
        "colab": {
          "base_uri": "https://localhost:8080/"
        },
        "id": "XocWLs8JpMDH",
        "outputId": "87180c17-e053-435d-b242-e6d4af150e2c"
      },
      "execution_count": null,
      "outputs": [
        {
          "output_type": "stream",
          "name": "stdout",
          "text": [
            "{'name': 'Bron, Jhustine A.'}\n"
          ]
        },
        {
          "output_type": "execute_result",
          "data": {
            "text/plain": [
              "dict"
            ]
          },
          "metadata": {},
          "execution_count": 20
        }
      ]
    },
    {
      "cell_type": "code",
      "source": [
        "value = None\n",
        "print (value)\n",
        "type (value)"
      ],
      "metadata": {
        "colab": {
          "base_uri": "https://localhost:8080/"
        },
        "id": "hzi_v8orpjpP",
        "outputId": "b202bf05-697c-4da4-b21a-a42b2288d56d"
      },
      "execution_count": null,
      "outputs": [
        {
          "output_type": "stream",
          "name": "stdout",
          "text": [
            "None\n"
          ]
        },
        {
          "output_type": "execute_result",
          "data": {
            "text/plain": [
              "NoneType"
            ]
          },
          "metadata": {},
          "execution_count": 21
        }
      ]
    },
    {
      "cell_type": "markdown",
      "source": [
        "Performing Operations with Python"
      ],
      "metadata": {
        "id": "3Ujg6KiBqaq1"
      }
    },
    {
      "cell_type": "code",
      "source": [
        "value, value2 = 5, -6\n",
        "print (value + value2)"
      ],
      "metadata": {
        "colab": {
          "base_uri": "https://localhost:8080/"
        },
        "id": "Krc7kh0SpnrW",
        "outputId": "52047f25-88f8-4f8c-b2f3-9d8da233c373"
      },
      "execution_count": null,
      "outputs": [
        {
          "output_type": "stream",
          "name": "stdout",
          "text": [
            "-1\n"
          ]
        }
      ]
    },
    {
      "cell_type": "code",
      "source": [
        "value, value2 = -5, 6.1\n",
        "print (value + value2)"
      ],
      "metadata": {
        "colab": {
          "base_uri": "https://localhost:8080/"
        },
        "id": "HVCXpQ7xpyAW",
        "outputId": "3318ea20-ca2b-49dc-b899-7510f71008b5"
      },
      "execution_count": null,
      "outputs": [
        {
          "output_type": "stream",
          "name": "stdout",
          "text": [
            "1.0999999999999996\n"
          ]
        }
      ]
    },
    {
      "cell_type": "code",
      "source": [
        "value, value2 = \"Hello \", \"World\"\n",
        "print (value + value2)"
      ],
      "metadata": {
        "colab": {
          "base_uri": "https://localhost:8080/"
        },
        "id": "PF4lycZ2p01m",
        "outputId": "be45497e-eaf4-4e81-84c3-e4f631d44d02"
      },
      "execution_count": null,
      "outputs": [
        {
          "output_type": "stream",
          "name": "stdout",
          "text": [
            "HelloWorld\n"
          ]
        }
      ]
    },
    {
      "cell_type": "code",
      "source": [
        "value, value2 = [1,2,3], [4,5,6]\n",
        "print (value + value2)"
      ],
      "metadata": {
        "colab": {
          "base_uri": "https://localhost:8080/"
        },
        "id": "pBiIm1jhp8nF",
        "outputId": "8fb2cd90-a47c-4c9e-dde6-49f0aab4d7ee"
      },
      "execution_count": null,
      "outputs": [
        {
          "output_type": "stream",
          "name": "stdout",
          "text": [
            "[1, 2, 3, 4, 5, 6]\n"
          ]
        }
      ]
    },
    {
      "cell_type": "code",
      "source": [
        "value, value2 = (1,2,3), (4,5,6)\n",
        "print (value + value2)"
      ],
      "metadata": {
        "colab": {
          "base_uri": "https://localhost:8080/"
        },
        "id": "8wHWRhaZqC7e",
        "outputId": "3a9bfa69-497d-4030-b263-ce0bf535e14c"
      },
      "execution_count": null,
      "outputs": [
        {
          "output_type": "stream",
          "name": "stdout",
          "text": [
            "(1, 2, 3, 4, 5, 6)\n"
          ]
        }
      ]
    },
    {
      "cell_type": "code",
      "source": [
        "value = {\"name\":\"Royce\"}\n",
        "value2 = {\"age\":2}\n",
        "print({**value, **value2})"
      ],
      "metadata": {
        "colab": {
          "base_uri": "https://localhost:8080/"
        },
        "id": "e5wcL4ZxqGiw",
        "outputId": "678cb18f-f014-4f2f-9f0c-a2c8244924e9"
      },
      "execution_count": null,
      "outputs": [
        {
          "output_type": "stream",
          "name": "stdout",
          "text": [
            "{'name': 'Royce', 'age': 2}\n"
          ]
        }
      ]
    },
    {
      "cell_type": "code",
      "source": [
        "value, value2 = 30, 4\n",
        "print(value*value2)"
      ],
      "metadata": {
        "colab": {
          "base_uri": "https://localhost:8080/"
        },
        "id": "Fg-lbZzlrccZ",
        "outputId": "99c0829d-d6f4-46bc-b089-8ee001202e92"
      },
      "execution_count": null,
      "outputs": [
        {
          "output_type": "stream",
          "name": "stdout",
          "text": [
            "120\n"
          ]
        }
      ]
    },
    {
      "cell_type": "code",
      "source": [
        "value, value2 = 30, 4\n",
        "print(value2**2)"
      ],
      "metadata": {
        "colab": {
          "base_uri": "https://localhost:8080/"
        },
        "id": "i4vyVjZSrkCV",
        "outputId": "9c90a9d1-4182-4f3e-9e76-9719321fe62c"
      },
      "execution_count": null,
      "outputs": [
        {
          "output_type": "stream",
          "name": "stdout",
          "text": [
            "16\n"
          ]
        }
      ]
    },
    {
      "cell_type": "code",
      "source": [
        "value, value2 = 30, 4\n",
        "print(value2**3)"
      ],
      "metadata": {
        "colab": {
          "base_uri": "https://localhost:8080/"
        },
        "id": "Q90LyiusroqG",
        "outputId": "e4c75fe5-9068-4ccd-b6a6-a41ddedd473c"
      },
      "execution_count": null,
      "outputs": [
        {
          "output_type": "stream",
          "name": "stdout",
          "text": [
            "64\n"
          ]
        }
      ]
    },
    {
      "cell_type": "code",
      "source": [
        "value, value2 = 30, 4\n",
        "print(value*value2+value2**2+1)"
      ],
      "metadata": {
        "colab": {
          "base_uri": "https://localhost:8080/"
        },
        "id": "AM42CTdPrsMf",
        "outputId": "6febfbd9-51a3-4522-a2d5-fa22b03cc7d1"
      },
      "execution_count": null,
      "outputs": [
        {
          "output_type": "stream",
          "name": "stdout",
          "text": [
            "137\n"
          ]
        }
      ]
    },
    {
      "cell_type": "code",
      "source": [
        "value, value2 = 30, 4\n",
        "print(value/value2)"
      ],
      "metadata": {
        "colab": {
          "base_uri": "https://localhost:8080/"
        },
        "id": "i2B-2Rgtrx4n",
        "outputId": "1406ddbb-58ae-471e-a154-af13d3730568"
      },
      "execution_count": null,
      "outputs": [
        {
          "output_type": "stream",
          "name": "stdout",
          "text": [
            "7.5\n"
          ]
        }
      ]
    },
    {
      "cell_type": "code",
      "source": [
        "value, value2 = 30, 4\n",
        "print(value%value2)"
      ],
      "metadata": {
        "colab": {
          "base_uri": "https://localhost:8080/"
        },
        "id": "Ulupnm_Ur1P4",
        "outputId": "e0f3122b-f879-433e-81ac-c3a7b0195e06"
      },
      "execution_count": null,
      "outputs": [
        {
          "output_type": "stream",
          "name": "stdout",
          "text": [
            "2\n"
          ]
        }
      ]
    },
    {
      "cell_type": "markdown",
      "source": [
        "Receiving Input data using Python"
      ],
      "metadata": {
        "id": "Xcpn4iUEr75N"
      }
    },
    {
      "cell_type": "markdown",
      "source": [
        "Assigning Input Data to a Variable"
      ],
      "metadata": {
        "id": "vYGM08GGsNem"
      }
    },
    {
      "cell_type": "code",
      "source": [
        "name = input(\"Enter your name: \")\n",
        "weight = float(input(\"Enter your weight(kg): \"))\n",
        "height = float(input(\"Enter your meters(m): \"))\n",
        "bmi = weight/height**2\n",
        "print(name)\n",
        "print(weight)\n",
        "print(height)\n",
        "print(round(bmi, 4))"
      ],
      "metadata": {
        "colab": {
          "base_uri": "https://localhost:8080/"
        },
        "id": "6VI7j6-HsN6t",
        "outputId": "37c37ac7-a780-463a-d794-2f7e1d66cc24"
      },
      "execution_count": 66,
      "outputs": [
        {
          "output_type": "stream",
          "name": "stdout",
          "text": [
            "Enter your name: John ray\n",
            "Enter your weight(kg): 60\n",
            "Enter your meters(m): 1.6764\n",
            "John ray\n",
            "60.0\n",
            "1.6764\n",
            "21.3499\n"
          ]
        }
      ]
    },
    {
      "cell_type": "markdown",
      "source": [
        "# **Supplementary Activity:**"
      ],
      "metadata": {
        "id": "GOi5Hmv5tnO9"
      }
    },
    {
      "cell_type": "markdown",
      "source": [
        "1.\tWrite the Python equivalent code of the following C code:\n",
        "![Screenshot 2025-01-25 163401.png](data:image/png;base64,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)\n"
      ],
      "metadata": {
        "id": "OM3mfDb4l12X"
      }
    },
    {
      "cell_type": "code",
      "source": [
        "base = float(input(\"Enter the base of the triangle: \"))\n",
        "height = float(input(\"Enter the height of the triangle: \"))\n",
        "area = (base * height)/2\n",
        "print(\"The area of the triangle is:\", area)"
      ],
      "metadata": {
        "colab": {
          "base_uri": "https://localhost:8080/"
        },
        "id": "ubLvZ9gOl5xF",
        "outputId": "b2496fbe-0224-4a34-e451-065a6fcc53f4"
      },
      "execution_count": null,
      "outputs": [
        {
          "output_type": "stream",
          "name": "stdout",
          "text": [
            "Enter the base of the triangle: 5\n",
            "Enter the height of the triangle: 5\n",
            "The area of the triangle is: 12.5\n"
          ]
        }
      ]
    },
    {
      "cell_type": "markdown",
      "source": [
        "2. Write a program that would convert Celsius to Fahrenheit given the formula: F = (C × 9/5) + 32"
      ],
      "metadata": {
        "id": "CFUILP7guY0W"
      }
    },
    {
      "cell_type": "code",
      "source": [
        "celcius = float(input(\"Enter the temperature in celcius: \"))\n",
        "fahrenheit = (celcius * 9/5) + 32\n",
        "print(\"The temperature in fahrenheit is:\", fahrenheit)"
      ],
      "metadata": {
        "colab": {
          "base_uri": "https://localhost:8080/"
        },
        "id": "_XSsEOk-uunQ",
        "outputId": "805c04b1-4841-4ee6-fc8d-2ccc754a24c8"
      },
      "execution_count": null,
      "outputs": [
        {
          "output_type": "stream",
          "name": "stdout",
          "text": [
            "Enter the temperature in celcius: 0\n",
            "The temperature in fahrenheit is: 32.0\n"
          ]
        }
      ]
    },
    {
      "cell_type": "markdown",
      "source": [
        "3.\tWrite a program that can determine the distance between two points given the coordinates using the formula:![Screenshot 2025-01-25 171309.png](data:image/png;base64,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)"
      ],
      "metadata": {
        "id": "YYfxDvaXvGPV"
      }
    },
    {
      "cell_type": "code",
      "source": [
        "x1 = float(input(\"Enter x1: \"))\n",
        "x2 = float(input(\"Enter x2: \"))\n",
        "y1 = float(input(\"Enter y1: \"))\n",
        "y2 = float(input(\"Enter y2: \"))\n",
        "distance = ((x2 - x1)**2 + (y2 - y1)**2)**0.5\n",
        "print(\"The distance between the two points is:\", distance)"
      ],
      "metadata": {
        "colab": {
          "base_uri": "https://localhost:8080/"
        },
        "id": "4BxpNr3MvNC_",
        "outputId": "13fdc7b3-b89a-493b-eeb4-50a53b97e42a"
      },
      "execution_count": 64,
      "outputs": [
        {
          "output_type": "stream",
          "name": "stdout",
          "text": [
            "Enter x1: 2\n",
            "Enter x2: -3\n",
            "Enter y1: 2\n",
            "Enter y2: 3\n",
            "The distance between the two points is: 5.0990195135927845\n"
          ]
        }
      ]
    }
  ]
}